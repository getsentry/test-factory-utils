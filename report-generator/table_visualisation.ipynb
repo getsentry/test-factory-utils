{
 "cells": [
  {
   "cell_type": "code",
   "execution_count": 1,
   "metadata": {
    "pycharm": {
     "name": "#%%\n"
    }
   },
   "outputs": [],
   "source": [
    "import datetime\n",
    "\n",
    "import pandas as pd\n",
    "import altair as alt\n",
    "\n",
    "from sdk_performance_old import last_minor_releases\n",
    "from sdk_performance_datasets import get_cpu_usage"
   ]
  },
  {
   "cell_type": "code",
   "execution_count": 2,
   "outputs": [
    {
     "data": {
      "text/plain": "Empty DataFrame\nColumns: [started, version, measurement, value]\nIndex: []",
      "text/html": "<div>\n<style scoped>\n    .dataframe tbody tr th:only-of-type {\n        vertical-align: middle;\n    }\n\n    .dataframe tbody tr th {\n        vertical-align: top;\n    }\n\n    .dataframe thead th {\n        text-align: right;\n    }\n</style>\n<table border=\"1\" class=\"dataframe\">\n  <thead>\n    <tr style=\"text-align: right;\">\n      <th></th>\n      <th>started</th>\n      <th>version</th>\n      <th>measurement</th>\n      <th>value</th>\n    </tr>\n  </thead>\n  <tbody>\n  </tbody>\n</table>\n</div>"
     },
     "execution_count": 2,
     "metadata": {},
     "output_type": "execute_result"
    }
   ],
   "source": [
    "from mongo_data import get_sdk_size\n",
    "\n",
    "df2 = get_sdk_size()\n",
    "df2\n"
   ],
   "metadata": {
    "collapsed": false,
    "pycharm": {
     "name": "#%%\n"
    }
   }
  },
  {
   "cell_type": "code",
   "execution_count": 3,
   "outputs": [
    {
     "ename": "SchemaValidationError",
     "evalue": "Invalid specification\n\n        altair.vegalite.v4.schema.channels.Shape->type, validating 'enum'\n\n        'quantitative' is not one of ['nominal', 'ordinal', 'geojson']\n        ",
     "output_type": "error",
     "traceback": [
      "\u001B[0;31m---------------------------------------------------------------------------\u001B[0m",
      "\u001B[0;31mSchemaValidationError\u001B[0m                     Traceback (most recent call last)",
      "File \u001B[0;32m~/dev/datapane-report/.venv/lib/python3.9/site-packages/altair/vegalite/v4/api.py:393\u001B[0m, in \u001B[0;36mTopLevelMixin.to_dict\u001B[0;34m(self, *args, **kwargs)\u001B[0m\n\u001B[1;32m    391\u001B[0m \u001B[38;5;28;01mif\u001B[39;00m dct \u001B[38;5;129;01mis\u001B[39;00m \u001B[38;5;28;01mNone\u001B[39;00m:\n\u001B[1;32m    392\u001B[0m     kwargs[\u001B[38;5;124m\"\u001B[39m\u001B[38;5;124mvalidate\u001B[39m\u001B[38;5;124m\"\u001B[39m] \u001B[38;5;241m=\u001B[39m \u001B[38;5;124m\"\u001B[39m\u001B[38;5;124mdeep\u001B[39m\u001B[38;5;124m\"\u001B[39m\n\u001B[0;32m--> 393\u001B[0m     dct \u001B[38;5;241m=\u001B[39m \u001B[38;5;28;43msuper\u001B[39;49m\u001B[43m(\u001B[49m\u001B[43mTopLevelMixin\u001B[49m\u001B[43m,\u001B[49m\u001B[43m \u001B[49m\u001B[43mcopy\u001B[49m\u001B[43m)\u001B[49m\u001B[38;5;241;43m.\u001B[39;49m\u001B[43mto_dict\u001B[49m\u001B[43m(\u001B[49m\u001B[38;5;241;43m*\u001B[39;49m\u001B[43margs\u001B[49m\u001B[43m,\u001B[49m\u001B[43m \u001B[49m\u001B[38;5;241;43m*\u001B[39;49m\u001B[38;5;241;43m*\u001B[39;49m\u001B[43mkwargs\u001B[49m\u001B[43m)\u001B[49m\n\u001B[1;32m    395\u001B[0m \u001B[38;5;66;03m# TODO: following entries are added after validation. Should they be validated?\u001B[39;00m\n\u001B[1;32m    396\u001B[0m \u001B[38;5;28;01mif\u001B[39;00m is_top_level:\n\u001B[1;32m    397\u001B[0m     \u001B[38;5;66;03m# since this is top-level we add $schema if it's missing\u001B[39;00m\n",
      "File \u001B[0;32m~/dev/datapane-report/.venv/lib/python3.9/site-packages/altair/utils/schemapi.py:326\u001B[0m, in \u001B[0;36mSchemaBase.to_dict\u001B[0;34m(self, validate, ignore, context)\u001B[0m\n\u001B[1;32m    324\u001B[0m     result \u001B[38;5;241m=\u001B[39m _todict(\u001B[38;5;28mself\u001B[39m\u001B[38;5;241m.\u001B[39m_args[\u001B[38;5;241m0\u001B[39m], validate\u001B[38;5;241m=\u001B[39msub_validate, context\u001B[38;5;241m=\u001B[39mcontext)\n\u001B[1;32m    325\u001B[0m \u001B[38;5;28;01melif\u001B[39;00m \u001B[38;5;129;01mnot\u001B[39;00m \u001B[38;5;28mself\u001B[39m\u001B[38;5;241m.\u001B[39m_args:\n\u001B[0;32m--> 326\u001B[0m     result \u001B[38;5;241m=\u001B[39m \u001B[43m_todict\u001B[49m\u001B[43m(\u001B[49m\n\u001B[1;32m    327\u001B[0m \u001B[43m        \u001B[49m\u001B[43m{\u001B[49m\u001B[43mk\u001B[49m\u001B[43m:\u001B[49m\u001B[43m \u001B[49m\u001B[43mv\u001B[49m\u001B[43m \u001B[49m\u001B[38;5;28;43;01mfor\u001B[39;49;00m\u001B[43m \u001B[49m\u001B[43mk\u001B[49m\u001B[43m,\u001B[49m\u001B[43m \u001B[49m\u001B[43mv\u001B[49m\u001B[43m \u001B[49m\u001B[38;5;129;43;01min\u001B[39;49;00m\u001B[43m \u001B[49m\u001B[38;5;28;43mself\u001B[39;49m\u001B[38;5;241;43m.\u001B[39;49m\u001B[43m_kwds\u001B[49m\u001B[38;5;241;43m.\u001B[39;49m\u001B[43mitems\u001B[49m\u001B[43m(\u001B[49m\u001B[43m)\u001B[49m\u001B[43m \u001B[49m\u001B[38;5;28;43;01mif\u001B[39;49;00m\u001B[43m \u001B[49m\u001B[43mk\u001B[49m\u001B[43m \u001B[49m\u001B[38;5;129;43;01mnot\u001B[39;49;00m\u001B[43m \u001B[49m\u001B[38;5;129;43;01min\u001B[39;49;00m\u001B[43m \u001B[49m\u001B[43mignore\u001B[49m\u001B[43m}\u001B[49m\u001B[43m,\u001B[49m\n\u001B[1;32m    328\u001B[0m \u001B[43m        \u001B[49m\u001B[43mvalidate\u001B[49m\u001B[38;5;241;43m=\u001B[39;49m\u001B[43msub_validate\u001B[49m\u001B[43m,\u001B[49m\n\u001B[1;32m    329\u001B[0m \u001B[43m        \u001B[49m\u001B[43mcontext\u001B[49m\u001B[38;5;241;43m=\u001B[39;49m\u001B[43mcontext\u001B[49m\u001B[43m,\u001B[49m\n\u001B[1;32m    330\u001B[0m \u001B[43m    \u001B[49m\u001B[43m)\u001B[49m\n\u001B[1;32m    331\u001B[0m \u001B[38;5;28;01melse\u001B[39;00m:\n\u001B[1;32m    332\u001B[0m     \u001B[38;5;28;01mraise\u001B[39;00m \u001B[38;5;167;01mValueError\u001B[39;00m(\n\u001B[1;32m    333\u001B[0m         \u001B[38;5;124m\"\u001B[39m\u001B[38;5;132;01m{}\u001B[39;00m\u001B[38;5;124m instance has both a value and properties : \u001B[39m\u001B[38;5;124m\"\u001B[39m\n\u001B[1;32m    334\u001B[0m         \u001B[38;5;124m\"\u001B[39m\u001B[38;5;124mcannot serialize to dict\u001B[39m\u001B[38;5;124m\"\u001B[39m\u001B[38;5;241m.\u001B[39mformat(\u001B[38;5;28mself\u001B[39m\u001B[38;5;241m.\u001B[39m\u001B[38;5;18m__class__\u001B[39m)\n\u001B[1;32m    335\u001B[0m     )\n",
      "File \u001B[0;32m~/dev/datapane-report/.venv/lib/python3.9/site-packages/altair/utils/schemapi.py:60\u001B[0m, in \u001B[0;36m_todict\u001B[0;34m(obj, validate, context)\u001B[0m\n\u001B[1;32m     58\u001B[0m     \u001B[38;5;28;01mreturn\u001B[39;00m [_todict(v, validate, context) \u001B[38;5;28;01mfor\u001B[39;00m v \u001B[38;5;129;01min\u001B[39;00m obj]\n\u001B[1;32m     59\u001B[0m \u001B[38;5;28;01melif\u001B[39;00m \u001B[38;5;28misinstance\u001B[39m(obj, \u001B[38;5;28mdict\u001B[39m):\n\u001B[0;32m---> 60\u001B[0m     \u001B[38;5;28;01mreturn\u001B[39;00m {\n\u001B[1;32m     61\u001B[0m         k: _todict(v, validate, context)\n\u001B[1;32m     62\u001B[0m         \u001B[38;5;28;01mfor\u001B[39;00m k, v \u001B[38;5;129;01min\u001B[39;00m obj\u001B[38;5;241m.\u001B[39mitems()\n\u001B[1;32m     63\u001B[0m         \u001B[38;5;28;01mif\u001B[39;00m v \u001B[38;5;129;01mis\u001B[39;00m \u001B[38;5;129;01mnot\u001B[39;00m Undefined\n\u001B[1;32m     64\u001B[0m     }\n\u001B[1;32m     65\u001B[0m \u001B[38;5;28;01melif\u001B[39;00m \u001B[38;5;28mhasattr\u001B[39m(obj, \u001B[38;5;124m\"\u001B[39m\u001B[38;5;124mto_dict\u001B[39m\u001B[38;5;124m\"\u001B[39m):\n\u001B[1;32m     66\u001B[0m     \u001B[38;5;28;01mreturn\u001B[39;00m obj\u001B[38;5;241m.\u001B[39mto_dict()\n",
      "File \u001B[0;32m~/dev/datapane-report/.venv/lib/python3.9/site-packages/altair/utils/schemapi.py:61\u001B[0m, in \u001B[0;36m<dictcomp>\u001B[0;34m(.0)\u001B[0m\n\u001B[1;32m     58\u001B[0m     \u001B[38;5;28;01mreturn\u001B[39;00m [_todict(v, validate, context) \u001B[38;5;28;01mfor\u001B[39;00m v \u001B[38;5;129;01min\u001B[39;00m obj]\n\u001B[1;32m     59\u001B[0m \u001B[38;5;28;01melif\u001B[39;00m \u001B[38;5;28misinstance\u001B[39m(obj, \u001B[38;5;28mdict\u001B[39m):\n\u001B[1;32m     60\u001B[0m     \u001B[38;5;28;01mreturn\u001B[39;00m {\n\u001B[0;32m---> 61\u001B[0m         k: \u001B[43m_todict\u001B[49m\u001B[43m(\u001B[49m\u001B[43mv\u001B[49m\u001B[43m,\u001B[49m\u001B[43m \u001B[49m\u001B[43mvalidate\u001B[49m\u001B[43m,\u001B[49m\u001B[43m \u001B[49m\u001B[43mcontext\u001B[49m\u001B[43m)\u001B[49m\n\u001B[1;32m     62\u001B[0m         \u001B[38;5;28;01mfor\u001B[39;00m k, v \u001B[38;5;129;01min\u001B[39;00m obj\u001B[38;5;241m.\u001B[39mitems()\n\u001B[1;32m     63\u001B[0m         \u001B[38;5;28;01mif\u001B[39;00m v \u001B[38;5;129;01mis\u001B[39;00m \u001B[38;5;129;01mnot\u001B[39;00m Undefined\n\u001B[1;32m     64\u001B[0m     }\n\u001B[1;32m     65\u001B[0m \u001B[38;5;28;01melif\u001B[39;00m \u001B[38;5;28mhasattr\u001B[39m(obj, \u001B[38;5;124m\"\u001B[39m\u001B[38;5;124mto_dict\u001B[39m\u001B[38;5;124m\"\u001B[39m):\n\u001B[1;32m     66\u001B[0m     \u001B[38;5;28;01mreturn\u001B[39;00m obj\u001B[38;5;241m.\u001B[39mto_dict()\n",
      "File \u001B[0;32m~/dev/datapane-report/.venv/lib/python3.9/site-packages/altair/utils/schemapi.py:58\u001B[0m, in \u001B[0;36m_todict\u001B[0;34m(obj, validate, context)\u001B[0m\n\u001B[1;32m     56\u001B[0m     \u001B[38;5;28;01mreturn\u001B[39;00m obj\u001B[38;5;241m.\u001B[39mto_dict(validate\u001B[38;5;241m=\u001B[39mvalidate, context\u001B[38;5;241m=\u001B[39mcontext)\n\u001B[1;32m     57\u001B[0m \u001B[38;5;28;01melif\u001B[39;00m \u001B[38;5;28misinstance\u001B[39m(obj, (\u001B[38;5;28mlist\u001B[39m, \u001B[38;5;28mtuple\u001B[39m, np\u001B[38;5;241m.\u001B[39mndarray)):\n\u001B[0;32m---> 58\u001B[0m     \u001B[38;5;28;01mreturn\u001B[39;00m [_todict(v, validate, context) \u001B[38;5;28;01mfor\u001B[39;00m v \u001B[38;5;129;01min\u001B[39;00m obj]\n\u001B[1;32m     59\u001B[0m \u001B[38;5;28;01melif\u001B[39;00m \u001B[38;5;28misinstance\u001B[39m(obj, \u001B[38;5;28mdict\u001B[39m):\n\u001B[1;32m     60\u001B[0m     \u001B[38;5;28;01mreturn\u001B[39;00m {\n\u001B[1;32m     61\u001B[0m         k: _todict(v, validate, context)\n\u001B[1;32m     62\u001B[0m         \u001B[38;5;28;01mfor\u001B[39;00m k, v \u001B[38;5;129;01min\u001B[39;00m obj\u001B[38;5;241m.\u001B[39mitems()\n\u001B[1;32m     63\u001B[0m         \u001B[38;5;28;01mif\u001B[39;00m v \u001B[38;5;129;01mis\u001B[39;00m \u001B[38;5;129;01mnot\u001B[39;00m Undefined\n\u001B[1;32m     64\u001B[0m     }\n",
      "File \u001B[0;32m~/dev/datapane-report/.venv/lib/python3.9/site-packages/altair/utils/schemapi.py:58\u001B[0m, in \u001B[0;36m<listcomp>\u001B[0;34m(.0)\u001B[0m\n\u001B[1;32m     56\u001B[0m     \u001B[38;5;28;01mreturn\u001B[39;00m obj\u001B[38;5;241m.\u001B[39mto_dict(validate\u001B[38;5;241m=\u001B[39mvalidate, context\u001B[38;5;241m=\u001B[39mcontext)\n\u001B[1;32m     57\u001B[0m \u001B[38;5;28;01melif\u001B[39;00m \u001B[38;5;28misinstance\u001B[39m(obj, (\u001B[38;5;28mlist\u001B[39m, \u001B[38;5;28mtuple\u001B[39m, np\u001B[38;5;241m.\u001B[39mndarray)):\n\u001B[0;32m---> 58\u001B[0m     \u001B[38;5;28;01mreturn\u001B[39;00m [\u001B[43m_todict\u001B[49m\u001B[43m(\u001B[49m\u001B[43mv\u001B[49m\u001B[43m,\u001B[49m\u001B[43m \u001B[49m\u001B[43mvalidate\u001B[49m\u001B[43m,\u001B[49m\u001B[43m \u001B[49m\u001B[43mcontext\u001B[49m\u001B[43m)\u001B[49m \u001B[38;5;28;01mfor\u001B[39;00m v \u001B[38;5;129;01min\u001B[39;00m obj]\n\u001B[1;32m     59\u001B[0m \u001B[38;5;28;01melif\u001B[39;00m \u001B[38;5;28misinstance\u001B[39m(obj, \u001B[38;5;28mdict\u001B[39m):\n\u001B[1;32m     60\u001B[0m     \u001B[38;5;28;01mreturn\u001B[39;00m {\n\u001B[1;32m     61\u001B[0m         k: _todict(v, validate, context)\n\u001B[1;32m     62\u001B[0m         \u001B[38;5;28;01mfor\u001B[39;00m k, v \u001B[38;5;129;01min\u001B[39;00m obj\u001B[38;5;241m.\u001B[39mitems()\n\u001B[1;32m     63\u001B[0m         \u001B[38;5;28;01mif\u001B[39;00m v \u001B[38;5;129;01mis\u001B[39;00m \u001B[38;5;129;01mnot\u001B[39;00m Undefined\n\u001B[1;32m     64\u001B[0m     }\n",
      "File \u001B[0;32m~/dev/datapane-report/.venv/lib/python3.9/site-packages/altair/utils/schemapi.py:56\u001B[0m, in \u001B[0;36m_todict\u001B[0;34m(obj, validate, context)\u001B[0m\n\u001B[1;32m     54\u001B[0m \u001B[38;5;124;03m\"\"\"Convert an object to a dict representation.\"\"\"\u001B[39;00m\n\u001B[1;32m     55\u001B[0m \u001B[38;5;28;01mif\u001B[39;00m \u001B[38;5;28misinstance\u001B[39m(obj, SchemaBase):\n\u001B[0;32m---> 56\u001B[0m     \u001B[38;5;28;01mreturn\u001B[39;00m \u001B[43mobj\u001B[49m\u001B[38;5;241;43m.\u001B[39;49m\u001B[43mto_dict\u001B[49m\u001B[43m(\u001B[49m\u001B[43mvalidate\u001B[49m\u001B[38;5;241;43m=\u001B[39;49m\u001B[43mvalidate\u001B[49m\u001B[43m,\u001B[49m\u001B[43m \u001B[49m\u001B[43mcontext\u001B[49m\u001B[38;5;241;43m=\u001B[39;49m\u001B[43mcontext\u001B[49m\u001B[43m)\u001B[49m\n\u001B[1;32m     57\u001B[0m \u001B[38;5;28;01melif\u001B[39;00m \u001B[38;5;28misinstance\u001B[39m(obj, (\u001B[38;5;28mlist\u001B[39m, \u001B[38;5;28mtuple\u001B[39m, np\u001B[38;5;241m.\u001B[39mndarray)):\n\u001B[1;32m     58\u001B[0m     \u001B[38;5;28;01mreturn\u001B[39;00m [_todict(v, validate, context) \u001B[38;5;28;01mfor\u001B[39;00m v \u001B[38;5;129;01min\u001B[39;00m obj]\n",
      "File \u001B[0;32m~/dev/datapane-report/.venv/lib/python3.9/site-packages/altair/vegalite/v4/api.py:2020\u001B[0m, in \u001B[0;36mChart.to_dict\u001B[0;34m(self, *args, **kwargs)\u001B[0m\n\u001B[1;32m   2018\u001B[0m     copy\u001B[38;5;241m.\u001B[39mdata \u001B[38;5;241m=\u001B[39m core\u001B[38;5;241m.\u001B[39mInlineData(values\u001B[38;5;241m=\u001B[39m[{}])\n\u001B[1;32m   2019\u001B[0m     \u001B[38;5;28;01mreturn\u001B[39;00m \u001B[38;5;28msuper\u001B[39m(Chart, copy)\u001B[38;5;241m.\u001B[39mto_dict(\u001B[38;5;241m*\u001B[39margs, \u001B[38;5;241m*\u001B[39m\u001B[38;5;241m*\u001B[39mkwargs)\n\u001B[0;32m-> 2020\u001B[0m \u001B[38;5;28;01mreturn\u001B[39;00m \u001B[38;5;28;43msuper\u001B[39;49m\u001B[43m(\u001B[49m\u001B[43m)\u001B[49m\u001B[38;5;241;43m.\u001B[39;49m\u001B[43mto_dict\u001B[49m\u001B[43m(\u001B[49m\u001B[38;5;241;43m*\u001B[39;49m\u001B[43margs\u001B[49m\u001B[43m,\u001B[49m\u001B[43m \u001B[49m\u001B[38;5;241;43m*\u001B[39;49m\u001B[38;5;241;43m*\u001B[39;49m\u001B[43mkwargs\u001B[49m\u001B[43m)\u001B[49m\n",
      "File \u001B[0;32m~/dev/datapane-report/.venv/lib/python3.9/site-packages/altair/vegalite/v4/api.py:393\u001B[0m, in \u001B[0;36mTopLevelMixin.to_dict\u001B[0;34m(self, *args, **kwargs)\u001B[0m\n\u001B[1;32m    391\u001B[0m \u001B[38;5;28;01mif\u001B[39;00m dct \u001B[38;5;129;01mis\u001B[39;00m \u001B[38;5;28;01mNone\u001B[39;00m:\n\u001B[1;32m    392\u001B[0m     kwargs[\u001B[38;5;124m\"\u001B[39m\u001B[38;5;124mvalidate\u001B[39m\u001B[38;5;124m\"\u001B[39m] \u001B[38;5;241m=\u001B[39m \u001B[38;5;124m\"\u001B[39m\u001B[38;5;124mdeep\u001B[39m\u001B[38;5;124m\"\u001B[39m\n\u001B[0;32m--> 393\u001B[0m     dct \u001B[38;5;241m=\u001B[39m \u001B[38;5;28;43msuper\u001B[39;49m\u001B[43m(\u001B[49m\u001B[43mTopLevelMixin\u001B[49m\u001B[43m,\u001B[49m\u001B[43m \u001B[49m\u001B[43mcopy\u001B[49m\u001B[43m)\u001B[49m\u001B[38;5;241;43m.\u001B[39;49m\u001B[43mto_dict\u001B[49m\u001B[43m(\u001B[49m\u001B[38;5;241;43m*\u001B[39;49m\u001B[43margs\u001B[49m\u001B[43m,\u001B[49m\u001B[43m \u001B[49m\u001B[38;5;241;43m*\u001B[39;49m\u001B[38;5;241;43m*\u001B[39;49m\u001B[43mkwargs\u001B[49m\u001B[43m)\u001B[49m\n\u001B[1;32m    395\u001B[0m \u001B[38;5;66;03m# TODO: following entries are added after validation. Should they be validated?\u001B[39;00m\n\u001B[1;32m    396\u001B[0m \u001B[38;5;28;01mif\u001B[39;00m is_top_level:\n\u001B[1;32m    397\u001B[0m     \u001B[38;5;66;03m# since this is top-level we add $schema if it's missing\u001B[39;00m\n",
      "File \u001B[0;32m~/dev/datapane-report/.venv/lib/python3.9/site-packages/altair/utils/schemapi.py:326\u001B[0m, in \u001B[0;36mSchemaBase.to_dict\u001B[0;34m(self, validate, ignore, context)\u001B[0m\n\u001B[1;32m    324\u001B[0m     result \u001B[38;5;241m=\u001B[39m _todict(\u001B[38;5;28mself\u001B[39m\u001B[38;5;241m.\u001B[39m_args[\u001B[38;5;241m0\u001B[39m], validate\u001B[38;5;241m=\u001B[39msub_validate, context\u001B[38;5;241m=\u001B[39mcontext)\n\u001B[1;32m    325\u001B[0m \u001B[38;5;28;01melif\u001B[39;00m \u001B[38;5;129;01mnot\u001B[39;00m \u001B[38;5;28mself\u001B[39m\u001B[38;5;241m.\u001B[39m_args:\n\u001B[0;32m--> 326\u001B[0m     result \u001B[38;5;241m=\u001B[39m \u001B[43m_todict\u001B[49m\u001B[43m(\u001B[49m\n\u001B[1;32m    327\u001B[0m \u001B[43m        \u001B[49m\u001B[43m{\u001B[49m\u001B[43mk\u001B[49m\u001B[43m:\u001B[49m\u001B[43m \u001B[49m\u001B[43mv\u001B[49m\u001B[43m \u001B[49m\u001B[38;5;28;43;01mfor\u001B[39;49;00m\u001B[43m \u001B[49m\u001B[43mk\u001B[49m\u001B[43m,\u001B[49m\u001B[43m \u001B[49m\u001B[43mv\u001B[49m\u001B[43m \u001B[49m\u001B[38;5;129;43;01min\u001B[39;49;00m\u001B[43m \u001B[49m\u001B[38;5;28;43mself\u001B[39;49m\u001B[38;5;241;43m.\u001B[39;49m\u001B[43m_kwds\u001B[49m\u001B[38;5;241;43m.\u001B[39;49m\u001B[43mitems\u001B[49m\u001B[43m(\u001B[49m\u001B[43m)\u001B[49m\u001B[43m \u001B[49m\u001B[38;5;28;43;01mif\u001B[39;49;00m\u001B[43m \u001B[49m\u001B[43mk\u001B[49m\u001B[43m \u001B[49m\u001B[38;5;129;43;01mnot\u001B[39;49;00m\u001B[43m \u001B[49m\u001B[38;5;129;43;01min\u001B[39;49;00m\u001B[43m \u001B[49m\u001B[43mignore\u001B[49m\u001B[43m}\u001B[49m\u001B[43m,\u001B[49m\n\u001B[1;32m    328\u001B[0m \u001B[43m        \u001B[49m\u001B[43mvalidate\u001B[49m\u001B[38;5;241;43m=\u001B[39;49m\u001B[43msub_validate\u001B[49m\u001B[43m,\u001B[49m\n\u001B[1;32m    329\u001B[0m \u001B[43m        \u001B[49m\u001B[43mcontext\u001B[49m\u001B[38;5;241;43m=\u001B[39;49m\u001B[43mcontext\u001B[49m\u001B[43m,\u001B[49m\n\u001B[1;32m    330\u001B[0m \u001B[43m    \u001B[49m\u001B[43m)\u001B[49m\n\u001B[1;32m    331\u001B[0m \u001B[38;5;28;01melse\u001B[39;00m:\n\u001B[1;32m    332\u001B[0m     \u001B[38;5;28;01mraise\u001B[39;00m \u001B[38;5;167;01mValueError\u001B[39;00m(\n\u001B[1;32m    333\u001B[0m         \u001B[38;5;124m\"\u001B[39m\u001B[38;5;132;01m{}\u001B[39;00m\u001B[38;5;124m instance has both a value and properties : \u001B[39m\u001B[38;5;124m\"\u001B[39m\n\u001B[1;32m    334\u001B[0m         \u001B[38;5;124m\"\u001B[39m\u001B[38;5;124mcannot serialize to dict\u001B[39m\u001B[38;5;124m\"\u001B[39m\u001B[38;5;241m.\u001B[39mformat(\u001B[38;5;28mself\u001B[39m\u001B[38;5;241m.\u001B[39m\u001B[38;5;18m__class__\u001B[39m)\n\u001B[1;32m    335\u001B[0m     )\n",
      "File \u001B[0;32m~/dev/datapane-report/.venv/lib/python3.9/site-packages/altair/utils/schemapi.py:60\u001B[0m, in \u001B[0;36m_todict\u001B[0;34m(obj, validate, context)\u001B[0m\n\u001B[1;32m     58\u001B[0m     \u001B[38;5;28;01mreturn\u001B[39;00m [_todict(v, validate, context) \u001B[38;5;28;01mfor\u001B[39;00m v \u001B[38;5;129;01min\u001B[39;00m obj]\n\u001B[1;32m     59\u001B[0m \u001B[38;5;28;01melif\u001B[39;00m \u001B[38;5;28misinstance\u001B[39m(obj, \u001B[38;5;28mdict\u001B[39m):\n\u001B[0;32m---> 60\u001B[0m     \u001B[38;5;28;01mreturn\u001B[39;00m {\n\u001B[1;32m     61\u001B[0m         k: _todict(v, validate, context)\n\u001B[1;32m     62\u001B[0m         \u001B[38;5;28;01mfor\u001B[39;00m k, v \u001B[38;5;129;01min\u001B[39;00m obj\u001B[38;5;241m.\u001B[39mitems()\n\u001B[1;32m     63\u001B[0m         \u001B[38;5;28;01mif\u001B[39;00m v \u001B[38;5;129;01mis\u001B[39;00m \u001B[38;5;129;01mnot\u001B[39;00m Undefined\n\u001B[1;32m     64\u001B[0m     }\n\u001B[1;32m     65\u001B[0m \u001B[38;5;28;01melif\u001B[39;00m \u001B[38;5;28mhasattr\u001B[39m(obj, \u001B[38;5;124m\"\u001B[39m\u001B[38;5;124mto_dict\u001B[39m\u001B[38;5;124m\"\u001B[39m):\n\u001B[1;32m     66\u001B[0m     \u001B[38;5;28;01mreturn\u001B[39;00m obj\u001B[38;5;241m.\u001B[39mto_dict()\n",
      "File \u001B[0;32m~/dev/datapane-report/.venv/lib/python3.9/site-packages/altair/utils/schemapi.py:61\u001B[0m, in \u001B[0;36m<dictcomp>\u001B[0;34m(.0)\u001B[0m\n\u001B[1;32m     58\u001B[0m     \u001B[38;5;28;01mreturn\u001B[39;00m [_todict(v, validate, context) \u001B[38;5;28;01mfor\u001B[39;00m v \u001B[38;5;129;01min\u001B[39;00m obj]\n\u001B[1;32m     59\u001B[0m \u001B[38;5;28;01melif\u001B[39;00m \u001B[38;5;28misinstance\u001B[39m(obj, \u001B[38;5;28mdict\u001B[39m):\n\u001B[1;32m     60\u001B[0m     \u001B[38;5;28;01mreturn\u001B[39;00m {\n\u001B[0;32m---> 61\u001B[0m         k: \u001B[43m_todict\u001B[49m\u001B[43m(\u001B[49m\u001B[43mv\u001B[49m\u001B[43m,\u001B[49m\u001B[43m \u001B[49m\u001B[43mvalidate\u001B[49m\u001B[43m,\u001B[49m\u001B[43m \u001B[49m\u001B[43mcontext\u001B[49m\u001B[43m)\u001B[49m\n\u001B[1;32m     62\u001B[0m         \u001B[38;5;28;01mfor\u001B[39;00m k, v \u001B[38;5;129;01min\u001B[39;00m obj\u001B[38;5;241m.\u001B[39mitems()\n\u001B[1;32m     63\u001B[0m         \u001B[38;5;28;01mif\u001B[39;00m v \u001B[38;5;129;01mis\u001B[39;00m \u001B[38;5;129;01mnot\u001B[39;00m Undefined\n\u001B[1;32m     64\u001B[0m     }\n\u001B[1;32m     65\u001B[0m \u001B[38;5;28;01melif\u001B[39;00m \u001B[38;5;28mhasattr\u001B[39m(obj, \u001B[38;5;124m\"\u001B[39m\u001B[38;5;124mto_dict\u001B[39m\u001B[38;5;124m\"\u001B[39m):\n\u001B[1;32m     66\u001B[0m     \u001B[38;5;28;01mreturn\u001B[39;00m obj\u001B[38;5;241m.\u001B[39mto_dict()\n",
      "File \u001B[0;32m~/dev/datapane-report/.venv/lib/python3.9/site-packages/altair/utils/schemapi.py:56\u001B[0m, in \u001B[0;36m_todict\u001B[0;34m(obj, validate, context)\u001B[0m\n\u001B[1;32m     54\u001B[0m \u001B[38;5;124;03m\"\"\"Convert an object to a dict representation.\"\"\"\u001B[39;00m\n\u001B[1;32m     55\u001B[0m \u001B[38;5;28;01mif\u001B[39;00m \u001B[38;5;28misinstance\u001B[39m(obj, SchemaBase):\n\u001B[0;32m---> 56\u001B[0m     \u001B[38;5;28;01mreturn\u001B[39;00m \u001B[43mobj\u001B[49m\u001B[38;5;241;43m.\u001B[39;49m\u001B[43mto_dict\u001B[49m\u001B[43m(\u001B[49m\u001B[43mvalidate\u001B[49m\u001B[38;5;241;43m=\u001B[39;49m\u001B[43mvalidate\u001B[49m\u001B[43m,\u001B[49m\u001B[43m \u001B[49m\u001B[43mcontext\u001B[49m\u001B[38;5;241;43m=\u001B[39;49m\u001B[43mcontext\u001B[49m\u001B[43m)\u001B[49m\n\u001B[1;32m     57\u001B[0m \u001B[38;5;28;01melif\u001B[39;00m \u001B[38;5;28misinstance\u001B[39m(obj, (\u001B[38;5;28mlist\u001B[39m, \u001B[38;5;28mtuple\u001B[39m, np\u001B[38;5;241m.\u001B[39mndarray)):\n\u001B[1;32m     58\u001B[0m     \u001B[38;5;28;01mreturn\u001B[39;00m [_todict(v, validate, context) \u001B[38;5;28;01mfor\u001B[39;00m v \u001B[38;5;129;01min\u001B[39;00m obj]\n",
      "File \u001B[0;32m~/dev/datapane-report/.venv/lib/python3.9/site-packages/altair/utils/schemapi.py:326\u001B[0m, in \u001B[0;36mSchemaBase.to_dict\u001B[0;34m(self, validate, ignore, context)\u001B[0m\n\u001B[1;32m    324\u001B[0m     result \u001B[38;5;241m=\u001B[39m _todict(\u001B[38;5;28mself\u001B[39m\u001B[38;5;241m.\u001B[39m_args[\u001B[38;5;241m0\u001B[39m], validate\u001B[38;5;241m=\u001B[39msub_validate, context\u001B[38;5;241m=\u001B[39mcontext)\n\u001B[1;32m    325\u001B[0m \u001B[38;5;28;01melif\u001B[39;00m \u001B[38;5;129;01mnot\u001B[39;00m \u001B[38;5;28mself\u001B[39m\u001B[38;5;241m.\u001B[39m_args:\n\u001B[0;32m--> 326\u001B[0m     result \u001B[38;5;241m=\u001B[39m \u001B[43m_todict\u001B[49m\u001B[43m(\u001B[49m\n\u001B[1;32m    327\u001B[0m \u001B[43m        \u001B[49m\u001B[43m{\u001B[49m\u001B[43mk\u001B[49m\u001B[43m:\u001B[49m\u001B[43m \u001B[49m\u001B[43mv\u001B[49m\u001B[43m \u001B[49m\u001B[38;5;28;43;01mfor\u001B[39;49;00m\u001B[43m \u001B[49m\u001B[43mk\u001B[49m\u001B[43m,\u001B[49m\u001B[43m \u001B[49m\u001B[43mv\u001B[49m\u001B[43m \u001B[49m\u001B[38;5;129;43;01min\u001B[39;49;00m\u001B[43m \u001B[49m\u001B[38;5;28;43mself\u001B[39;49m\u001B[38;5;241;43m.\u001B[39;49m\u001B[43m_kwds\u001B[49m\u001B[38;5;241;43m.\u001B[39;49m\u001B[43mitems\u001B[49m\u001B[43m(\u001B[49m\u001B[43m)\u001B[49m\u001B[43m \u001B[49m\u001B[38;5;28;43;01mif\u001B[39;49;00m\u001B[43m \u001B[49m\u001B[43mk\u001B[49m\u001B[43m \u001B[49m\u001B[38;5;129;43;01mnot\u001B[39;49;00m\u001B[43m \u001B[49m\u001B[38;5;129;43;01min\u001B[39;49;00m\u001B[43m \u001B[49m\u001B[43mignore\u001B[49m\u001B[43m}\u001B[49m\u001B[43m,\u001B[49m\n\u001B[1;32m    328\u001B[0m \u001B[43m        \u001B[49m\u001B[43mvalidate\u001B[49m\u001B[38;5;241;43m=\u001B[39;49m\u001B[43msub_validate\u001B[49m\u001B[43m,\u001B[49m\n\u001B[1;32m    329\u001B[0m \u001B[43m        \u001B[49m\u001B[43mcontext\u001B[49m\u001B[38;5;241;43m=\u001B[39;49m\u001B[43mcontext\u001B[49m\u001B[43m,\u001B[49m\n\u001B[1;32m    330\u001B[0m \u001B[43m    \u001B[49m\u001B[43m)\u001B[49m\n\u001B[1;32m    331\u001B[0m \u001B[38;5;28;01melse\u001B[39;00m:\n\u001B[1;32m    332\u001B[0m     \u001B[38;5;28;01mraise\u001B[39;00m \u001B[38;5;167;01mValueError\u001B[39;00m(\n\u001B[1;32m    333\u001B[0m         \u001B[38;5;124m\"\u001B[39m\u001B[38;5;132;01m{}\u001B[39;00m\u001B[38;5;124m instance has both a value and properties : \u001B[39m\u001B[38;5;124m\"\u001B[39m\n\u001B[1;32m    334\u001B[0m         \u001B[38;5;124m\"\u001B[39m\u001B[38;5;124mcannot serialize to dict\u001B[39m\u001B[38;5;124m\"\u001B[39m\u001B[38;5;241m.\u001B[39mformat(\u001B[38;5;28mself\u001B[39m\u001B[38;5;241m.\u001B[39m\u001B[38;5;18m__class__\u001B[39m)\n\u001B[1;32m    335\u001B[0m     )\n",
      "File \u001B[0;32m~/dev/datapane-report/.venv/lib/python3.9/site-packages/altair/utils/schemapi.py:60\u001B[0m, in \u001B[0;36m_todict\u001B[0;34m(obj, validate, context)\u001B[0m\n\u001B[1;32m     58\u001B[0m     \u001B[38;5;28;01mreturn\u001B[39;00m [_todict(v, validate, context) \u001B[38;5;28;01mfor\u001B[39;00m v \u001B[38;5;129;01min\u001B[39;00m obj]\n\u001B[1;32m     59\u001B[0m \u001B[38;5;28;01melif\u001B[39;00m \u001B[38;5;28misinstance\u001B[39m(obj, \u001B[38;5;28mdict\u001B[39m):\n\u001B[0;32m---> 60\u001B[0m     \u001B[38;5;28;01mreturn\u001B[39;00m {\n\u001B[1;32m     61\u001B[0m         k: _todict(v, validate, context)\n\u001B[1;32m     62\u001B[0m         \u001B[38;5;28;01mfor\u001B[39;00m k, v \u001B[38;5;129;01min\u001B[39;00m obj\u001B[38;5;241m.\u001B[39mitems()\n\u001B[1;32m     63\u001B[0m         \u001B[38;5;28;01mif\u001B[39;00m v \u001B[38;5;129;01mis\u001B[39;00m \u001B[38;5;129;01mnot\u001B[39;00m Undefined\n\u001B[1;32m     64\u001B[0m     }\n\u001B[1;32m     65\u001B[0m \u001B[38;5;28;01melif\u001B[39;00m \u001B[38;5;28mhasattr\u001B[39m(obj, \u001B[38;5;124m\"\u001B[39m\u001B[38;5;124mto_dict\u001B[39m\u001B[38;5;124m\"\u001B[39m):\n\u001B[1;32m     66\u001B[0m     \u001B[38;5;28;01mreturn\u001B[39;00m obj\u001B[38;5;241m.\u001B[39mto_dict()\n",
      "File \u001B[0;32m~/dev/datapane-report/.venv/lib/python3.9/site-packages/altair/utils/schemapi.py:61\u001B[0m, in \u001B[0;36m<dictcomp>\u001B[0;34m(.0)\u001B[0m\n\u001B[1;32m     58\u001B[0m     \u001B[38;5;28;01mreturn\u001B[39;00m [_todict(v, validate, context) \u001B[38;5;28;01mfor\u001B[39;00m v \u001B[38;5;129;01min\u001B[39;00m obj]\n\u001B[1;32m     59\u001B[0m \u001B[38;5;28;01melif\u001B[39;00m \u001B[38;5;28misinstance\u001B[39m(obj, \u001B[38;5;28mdict\u001B[39m):\n\u001B[1;32m     60\u001B[0m     \u001B[38;5;28;01mreturn\u001B[39;00m {\n\u001B[0;32m---> 61\u001B[0m         k: \u001B[43m_todict\u001B[49m\u001B[43m(\u001B[49m\u001B[43mv\u001B[49m\u001B[43m,\u001B[49m\u001B[43m \u001B[49m\u001B[43mvalidate\u001B[49m\u001B[43m,\u001B[49m\u001B[43m \u001B[49m\u001B[43mcontext\u001B[49m\u001B[43m)\u001B[49m\n\u001B[1;32m     62\u001B[0m         \u001B[38;5;28;01mfor\u001B[39;00m k, v \u001B[38;5;129;01min\u001B[39;00m obj\u001B[38;5;241m.\u001B[39mitems()\n\u001B[1;32m     63\u001B[0m         \u001B[38;5;28;01mif\u001B[39;00m v \u001B[38;5;129;01mis\u001B[39;00m \u001B[38;5;129;01mnot\u001B[39;00m Undefined\n\u001B[1;32m     64\u001B[0m     }\n\u001B[1;32m     65\u001B[0m \u001B[38;5;28;01melif\u001B[39;00m \u001B[38;5;28mhasattr\u001B[39m(obj, \u001B[38;5;124m\"\u001B[39m\u001B[38;5;124mto_dict\u001B[39m\u001B[38;5;124m\"\u001B[39m):\n\u001B[1;32m     66\u001B[0m     \u001B[38;5;28;01mreturn\u001B[39;00m obj\u001B[38;5;241m.\u001B[39mto_dict()\n",
      "File \u001B[0;32m~/dev/datapane-report/.venv/lib/python3.9/site-packages/altair/utils/schemapi.py:56\u001B[0m, in \u001B[0;36m_todict\u001B[0;34m(obj, validate, context)\u001B[0m\n\u001B[1;32m     54\u001B[0m \u001B[38;5;124;03m\"\"\"Convert an object to a dict representation.\"\"\"\u001B[39;00m\n\u001B[1;32m     55\u001B[0m \u001B[38;5;28;01mif\u001B[39;00m \u001B[38;5;28misinstance\u001B[39m(obj, SchemaBase):\n\u001B[0;32m---> 56\u001B[0m     \u001B[38;5;28;01mreturn\u001B[39;00m \u001B[43mobj\u001B[49m\u001B[38;5;241;43m.\u001B[39;49m\u001B[43mto_dict\u001B[49m\u001B[43m(\u001B[49m\u001B[43mvalidate\u001B[49m\u001B[38;5;241;43m=\u001B[39;49m\u001B[43mvalidate\u001B[49m\u001B[43m,\u001B[49m\u001B[43m \u001B[49m\u001B[43mcontext\u001B[49m\u001B[38;5;241;43m=\u001B[39;49m\u001B[43mcontext\u001B[49m\u001B[43m)\u001B[49m\n\u001B[1;32m     57\u001B[0m \u001B[38;5;28;01melif\u001B[39;00m \u001B[38;5;28misinstance\u001B[39m(obj, (\u001B[38;5;28mlist\u001B[39m, \u001B[38;5;28mtuple\u001B[39m, np\u001B[38;5;241m.\u001B[39mndarray)):\n\u001B[1;32m     58\u001B[0m     \u001B[38;5;28;01mreturn\u001B[39;00m [_todict(v, validate, context) \u001B[38;5;28;01mfor\u001B[39;00m v \u001B[38;5;129;01min\u001B[39;00m obj]\n",
      "File \u001B[0;32m~/dev/datapane-report/.venv/lib/python3.9/site-packages/altair/vegalite/v4/schema/channels.py:57\u001B[0m, in \u001B[0;36mFieldChannelMixin.to_dict\u001B[0;34m(self, validate, ignore, context)\u001B[0m\n\u001B[1;32m     54\u001B[0m \u001B[38;5;28mself\u001B[39m\u001B[38;5;241m.\u001B[39mshorthand \u001B[38;5;241m=\u001B[39m Undefined\n\u001B[1;32m     55\u001B[0m \u001B[38;5;28mself\u001B[39m\u001B[38;5;241m.\u001B[39m_kwds\u001B[38;5;241m.\u001B[39mupdate({k: v \u001B[38;5;28;01mfor\u001B[39;00m k, v \u001B[38;5;129;01min\u001B[39;00m parsed\u001B[38;5;241m.\u001B[39mitems()\n\u001B[1;32m     56\u001B[0m                    \u001B[38;5;28;01mif\u001B[39;00m \u001B[38;5;28mself\u001B[39m\u001B[38;5;241m.\u001B[39m_get(k) \u001B[38;5;129;01mis\u001B[39;00m Undefined})\n\u001B[0;32m---> 57\u001B[0m \u001B[38;5;28;01mreturn\u001B[39;00m \u001B[38;5;28;43msuper\u001B[39;49m\u001B[43m(\u001B[49m\u001B[43mFieldChannelMixin\u001B[49m\u001B[43m,\u001B[49m\u001B[43m \u001B[49m\u001B[38;5;28;43mself\u001B[39;49m\u001B[43m)\u001B[49m\u001B[38;5;241;43m.\u001B[39;49m\u001B[43mto_dict\u001B[49m\u001B[43m(\u001B[49m\n\u001B[1;32m     58\u001B[0m \u001B[43m    \u001B[49m\u001B[43mvalidate\u001B[49m\u001B[38;5;241;43m=\u001B[39;49m\u001B[43mvalidate\u001B[49m\u001B[43m,\u001B[49m\n\u001B[1;32m     59\u001B[0m \u001B[43m    \u001B[49m\u001B[43mignore\u001B[49m\u001B[38;5;241;43m=\u001B[39;49m\u001B[43mignore\u001B[49m\u001B[43m,\u001B[49m\n\u001B[1;32m     60\u001B[0m \u001B[43m    \u001B[49m\u001B[43mcontext\u001B[49m\u001B[38;5;241;43m=\u001B[39;49m\u001B[43mcontext\u001B[49m\n\u001B[1;32m     61\u001B[0m \u001B[43m\u001B[49m\u001B[43m)\u001B[49m\n",
      "File \u001B[0;32m~/dev/datapane-report/.venv/lib/python3.9/site-packages/altair/utils/schemapi.py:340\u001B[0m, in \u001B[0;36mSchemaBase.to_dict\u001B[0;34m(self, validate, ignore, context)\u001B[0m\n\u001B[1;32m    338\u001B[0m         \u001B[38;5;28mself\u001B[39m\u001B[38;5;241m.\u001B[39mvalidate(result)\n\u001B[1;32m    339\u001B[0m     \u001B[38;5;28;01mexcept\u001B[39;00m jsonschema\u001B[38;5;241m.\u001B[39mValidationError \u001B[38;5;28;01mas\u001B[39;00m err:\n\u001B[0;32m--> 340\u001B[0m         \u001B[38;5;28;01mraise\u001B[39;00m SchemaValidationError(\u001B[38;5;28mself\u001B[39m, err)\n\u001B[1;32m    341\u001B[0m \u001B[38;5;28;01mreturn\u001B[39;00m result\n",
      "\u001B[0;31mSchemaValidationError\u001B[0m: Invalid specification\n\n        altair.vegalite.v4.schema.channels.Shape->type, validating 'enum'\n\n        'quantitative' is not one of ['nominal', 'ordinal', 'geojson']\n        "
     ]
    },
    {
     "data": {
      "text/plain": "alt.LayerChart(...)"
     },
     "execution_count": 3,
     "metadata": {},
     "output_type": "execute_result"
    }
   ],
   "source": [
    "all_points = alt.Chart(df2)\n",
    "\n",
    "all_dots = all_points.encode(\n",
    "    x=\"started\",\n",
    "    y=\"value\",\n",
    "    tooltip=\"version\",\n",
    "    color=\"measurement\",\n",
    "    shape=alt.Shape(\"measurement\"),\n",
    ").mark_point(size=10, opacity=0.5)\n",
    "\n",
    "trend_line = all_points.encode(\n",
    "    x=\"started\",\n",
    "    y=\"value\",\n",
    "    color=alt.Color(\"measurement\", legend=None)\n",
    ").mark_line(size=1, opacity=0.3)\n",
    "\n",
    "\n",
    "minor_releases = last_minor_releases(df2)\n",
    "\n",
    "last_chart = alt.Chart(df2[df2[\"version\"].isin(minor_releases)])\n",
    "\n",
    "last_points = last_chart.encode(\n",
    "    x=\"started\",\n",
    "    y=\"value\",\n",
    ").mark_point(size=55, opacity=1.0).encode(\n",
    "    shape=\"measurement\",\n",
    "    color=\"measurement\"\n",
    ")\n",
    "\n",
    "last_text = last_chart.mark_text(\n",
    "    align='center',\n",
    "    baseline='line-bottom',\n",
    "    dy=-10\n",
    ").encode(\n",
    "    x=\"started\",\n",
    "    y=\"value\",\n",
    "    text='version'\n",
    ")\n",
    "\n",
    "line = (alt.Chart(pd.DataFrame({'y': [8000000]})).\n",
    "        mark_rule(size=1, strokeDash=[4, 4], color=\"red\", opacity=0.5).\n",
    "        encode(y='y'))\n",
    "\n",
    "warn_text = alt.Chart(pd.DataFrame({'y': [8000000]})).mark_text(text=\"too much\", align=\"center\", opacity=1, baseline=\"line-bottom\", dx=-350, fontSize=14).encode(y=\"y\")\n",
    "\n",
    "\n",
    "alt.layer(\n",
    "    all_dots,\n",
    "    trend_line,\n",
    "    line,\n",
    "    warn_text,\n",
    "    last_points,\n",
    "    last_text,\n",
    ").properties(\n",
    "    width=850,\n",
    "    height=400\n",
    ").interactive()"
   ],
   "metadata": {
    "collapsed": false,
    "pycharm": {
     "name": "#%%\n"
    }
   }
  },
  {
   "cell_type": "code",
   "execution_count": 3,
   "outputs": [],
   "source": [],
   "metadata": {
    "collapsed": false,
    "pycharm": {
     "name": "#%%\n"
    }
   }
  },
  {
   "cell_type": "code",
   "execution_count": 4,
   "outputs": [
    {
     "data": {
      "text/html": "\n<div id=\"altair-viz-663adf4c89c24fc4908c76f509e5f9ca\"></div>\n<script type=\"text/javascript\">\n  var VEGA_DEBUG = (typeof VEGA_DEBUG == \"undefined\") ? {} : VEGA_DEBUG;\n  (function(spec, embedOpt){\n    let outputDiv = document.currentScript.previousElementSibling;\n    if (outputDiv.id !== \"altair-viz-663adf4c89c24fc4908c76f509e5f9ca\") {\n      outputDiv = document.getElementById(\"altair-viz-663adf4c89c24fc4908c76f509e5f9ca\");\n    }\n    const paths = {\n      \"vega\": \"https://cdn.jsdelivr.net/npm//vega@5?noext\",\n      \"vega-lib\": \"https://cdn.jsdelivr.net/npm//vega-lib?noext\",\n      \"vega-lite\": \"https://cdn.jsdelivr.net/npm//vega-lite@4.17.0?noext\",\n      \"vega-embed\": \"https://cdn.jsdelivr.net/npm//vega-embed@6?noext\",\n    };\n\n    function maybeLoadScript(lib, version) {\n      var key = `${lib.replace(\"-\", \"\")}_version`;\n      return (VEGA_DEBUG[key] == version) ?\n        Promise.resolve(paths[lib]) :\n        new Promise(function(resolve, reject) {\n          var s = document.createElement('script');\n          document.getElementsByTagName(\"head\")[0].appendChild(s);\n          s.async = true;\n          s.onload = () => {\n            VEGA_DEBUG[key] = version;\n            return resolve(paths[lib]);\n          };\n          s.onerror = () => reject(`Error loading script: ${paths[lib]}`);\n          s.src = paths[lib];\n        });\n    }\n\n    function showError(err) {\n      outputDiv.innerHTML = `<div class=\"error\" style=\"color:red;\">${err}</div>`;\n      throw err;\n    }\n\n    function displayChart(vegaEmbed) {\n      vegaEmbed(outputDiv, spec, embedOpt)\n        .catch(err => showError(`Javascript Error: ${err.message}<br>This usually means there's a typo in your chart specification. See the javascript console for the full traceback.`));\n    }\n\n    if(typeof define === \"function\" && define.amd) {\n      requirejs.config({paths});\n      require([\"vega-embed\"], displayChart, err => showError(`Error loading script: ${err.message}`));\n    } else {\n      maybeLoadScript(\"vega\", \"5\")\n        .then(() => maybeLoadScript(\"vega-lite\", \"4.17.0\"))\n        .then(() => maybeLoadScript(\"vega-embed\", \"6\"))\n        .catch(showError)\n        .then(() => displayChart(vegaEmbed));\n    }\n  })({\"config\": {\"view\": {\"continuousWidth\": 400, \"continuousHeight\": 300}}, \"data\": {\"name\": \"data-bd8f0db9f75b23b0d3ddf6e8287a0a0f\"}, \"mark\": \"point\", \"encoding\": {\"x\": {\"field\": \"date\", \"scale\": {\"domain\": [\"2022-07-03T19:48:43.155448\", \"2022-08-18T19:48:43.155448\"]}, \"type\": \"temporal\"}, \"y\": {\"field\": \"size\", \"scale\": {\"domain\": [48, 171]}, \"type\": \"quantitative\"}}, \"selection\": {\"selector002\": {\"type\": \"interval\", \"bind\": \"scales\", \"encodings\": [\"x\", \"y\"]}}, \"$schema\": \"https://vega.github.io/schema/vega-lite/v4.17.0.json\", \"datasets\": {\"data-bd8f0db9f75b23b0d3ddf6e8287a0a0f\": [{\"date\": \"2022-07-08T19:48:43.155448\", \"size\": 54}, {\"date\": \"2022-07-11T19:48:43.155448\", \"size\": 60}, {\"date\": \"2022-07-14T19:48:43.155448\", \"size\": 70}, {\"date\": \"2022-07-17T19:48:43.155448\", \"size\": 85}, {\"date\": \"2022-07-20T19:48:43.155448\", \"size\": 77}, {\"date\": \"2022-07-23T19:48:43.155448\", \"size\": 83}, {\"date\": \"2022-07-26T19:48:43.155448\", \"size\": 106}, {\"date\": \"2022-07-29T19:48:43.155448\", \"size\": 105}, {\"date\": \"2022-08-01T19:48:43.155448\", \"size\": 122}, {\"date\": \"2022-08-04T19:48:43.155448\", \"size\": 111}, {\"date\": \"2022-08-07T19:48:43.155448\", \"size\": 143}, {\"date\": \"2022-08-10T19:48:43.155448\", \"size\": 120}]}}, {\"mode\": \"vega-lite\"});\n</script>",
      "text/plain": "alt.Chart(...)"
     },
     "execution_count": 4,
     "metadata": {},
     "output_type": "execute_result"
    }
   ],
   "source": [
    "import random\n",
    "d = datetime.datetime.now()\n",
    "start = d + datetime.timedelta(days=-5)\n",
    "ds =[]\n",
    "sizes =[]\n",
    "for i in range(12):\n",
    "    ds.append(d)\n",
    "    sizes.append(random.randint(50+i*5,55+i*10))\n",
    "    d += datetime.timedelta(days=3)\n",
    "df2 = pd.DataFrame({\"date\":ds, \"size\":sizes})\n",
    "end= d+ datetime.timedelta(days=+5)\n",
    "domain = [start.isoformat(),end.isoformat()]\n",
    "\n",
    "max_size = int(df2[\"size\"].max() * 1.2)\n",
    "min_size = int(df2[\"size\"].min() * 0.9)\n",
    "\n",
    "alt.Chart(df2).mark_point().encode(\n",
    "        x=alt.X(\"date\", scale=alt.Scale(domain=domain)),\n",
    "        y=alt.Y(\"size\", scale=alt.Scale(domain=[min_size, max_size]))\n",
    ").interactive()\n",
    "\n"
   ],
   "metadata": {
    "collapsed": false,
    "pycharm": {
     "name": "#%%\n"
    }
   }
  },
  {
   "cell_type": "code",
   "execution_count": 5,
   "outputs": [
    {
     "data": {
      "text/html": "\n<div id=\"altair-viz-9006cd327eb34122bb85b0c874b4cb67\"></div>\n<script type=\"text/javascript\">\n  var VEGA_DEBUG = (typeof VEGA_DEBUG == \"undefined\") ? {} : VEGA_DEBUG;\n  (function(spec, embedOpt){\n    let outputDiv = document.currentScript.previousElementSibling;\n    if (outputDiv.id !== \"altair-viz-9006cd327eb34122bb85b0c874b4cb67\") {\n      outputDiv = document.getElementById(\"altair-viz-9006cd327eb34122bb85b0c874b4cb67\");\n    }\n    const paths = {\n      \"vega\": \"https://cdn.jsdelivr.net/npm//vega@5?noext\",\n      \"vega-lib\": \"https://cdn.jsdelivr.net/npm//vega-lib?noext\",\n      \"vega-lite\": \"https://cdn.jsdelivr.net/npm//vega-lite@4.17.0?noext\",\n      \"vega-embed\": \"https://cdn.jsdelivr.net/npm//vega-embed@6?noext\",\n    };\n\n    function maybeLoadScript(lib, version) {\n      var key = `${lib.replace(\"-\", \"\")}_version`;\n      return (VEGA_DEBUG[key] == version) ?\n        Promise.resolve(paths[lib]) :\n        new Promise(function(resolve, reject) {\n          var s = document.createElement('script');\n          document.getElementsByTagName(\"head\")[0].appendChild(s);\n          s.async = true;\n          s.onload = () => {\n            VEGA_DEBUG[key] = version;\n            return resolve(paths[lib]);\n          };\n          s.onerror = () => reject(`Error loading script: ${paths[lib]}`);\n          s.src = paths[lib];\n        });\n    }\n\n    function showError(err) {\n      outputDiv.innerHTML = `<div class=\"error\" style=\"color:red;\">${err}</div>`;\n      throw err;\n    }\n\n    function displayChart(vegaEmbed) {\n      vegaEmbed(outputDiv, spec, embedOpt)\n        .catch(err => showError(`Javascript Error: ${err.message}<br>This usually means there's a typo in your chart specification. See the javascript console for the full traceback.`));\n    }\n\n    if(typeof define === \"function\" && define.amd) {\n      requirejs.config({paths});\n      require([\"vega-embed\"], displayChart, err => showError(`Error loading script: ${err.message}`));\n    } else {\n      maybeLoadScript(\"vega\", \"5\")\n        .then(() => maybeLoadScript(\"vega-lite\", \"4.17.0\"))\n        .then(() => maybeLoadScript(\"vega-embed\", \"6\"))\n        .catch(showError)\n        .then(() => displayChart(vegaEmbed));\n    }\n  })({\"config\": {\"view\": {\"continuousWidth\": 400, \"continuousHeight\": 300}}, \"data\": {\"name\": \"data-bd8f0db9f75b23b0d3ddf6e8287a0a0f\"}, \"mark\": \"point\", \"encoding\": {\"x\": {\"field\": \"date\", \"type\": \"temporal\"}, \"y\": {\"field\": \"size\", \"type\": \"quantitative\"}}, \"selection\": {\"selector003\": {\"type\": \"interval\", \"bind\": \"scales\", \"encodings\": [\"x\", \"y\"]}}, \"$schema\": \"https://vega.github.io/schema/vega-lite/v4.17.0.json\", \"datasets\": {\"data-bd8f0db9f75b23b0d3ddf6e8287a0a0f\": [{\"date\": \"2022-07-08T19:48:43.155448\", \"size\": 54}, {\"date\": \"2022-07-11T19:48:43.155448\", \"size\": 60}, {\"date\": \"2022-07-14T19:48:43.155448\", \"size\": 70}, {\"date\": \"2022-07-17T19:48:43.155448\", \"size\": 85}, {\"date\": \"2022-07-20T19:48:43.155448\", \"size\": 77}, {\"date\": \"2022-07-23T19:48:43.155448\", \"size\": 83}, {\"date\": \"2022-07-26T19:48:43.155448\", \"size\": 106}, {\"date\": \"2022-07-29T19:48:43.155448\", \"size\": 105}, {\"date\": \"2022-08-01T19:48:43.155448\", \"size\": 122}, {\"date\": \"2022-08-04T19:48:43.155448\", \"size\": 111}, {\"date\": \"2022-08-07T19:48:43.155448\", \"size\": 143}, {\"date\": \"2022-08-10T19:48:43.155448\", \"size\": 120}]}}, {\"mode\": \"vega-lite\"});\n</script>",
      "text/plain": "alt.Chart(...)"
     },
     "execution_count": 5,
     "metadata": {},
     "output_type": "execute_result"
    }
   ],
   "source": [
    "alt.Chart(df2).mark_point().encode(\n",
    "        x=\"date\",\n",
    "        y=\"size\"\n",
    ").interactive()\n",
    "\n"
   ],
   "metadata": {
    "collapsed": false,
    "pycharm": {
     "name": "#%%\n"
    }
   }
  },
  {
   "cell_type": "code",
   "execution_count": 6,
   "outputs": [
    {
     "data": {
      "text/plain": "a              int64\nb     datetime64[ns]\nc            float64\nd             object\ne             object\nf    timedelta64[ns]\ndtype: object"
     },
     "execution_count": 6,
     "metadata": {},
     "output_type": "execute_result"
    }
   ],
   "source": [
    "df3 = pd.DataFrame({\"a\":[1], \"b\":[datetime.datetime.now()], \"c\": [3.14], \"d\":[\"abc\"], \"e\":[\"small\"], \"f\":[datetime.timedelta(seconds=1)] })\n",
    "df3.dtypes"
   ],
   "metadata": {
    "collapsed": false,
    "pycharm": {
     "name": "#%%\n"
    }
   }
  },
  {
   "cell_type": "code",
   "execution_count": 7,
   "outputs": [
    {
     "data": {
      "text/plain": "   a                          b     c    d      e           f\n0  1 2022-07-08 19:48:43.239110  3.14  abc  small  1000000000",
      "text/html": "<div>\n<style scoped>\n    .dataframe tbody tr th:only-of-type {\n        vertical-align: middle;\n    }\n\n    .dataframe tbody tr th {\n        vertical-align: top;\n    }\n\n    .dataframe thead th {\n        text-align: right;\n    }\n</style>\n<table border=\"1\" class=\"dataframe\">\n  <thead>\n    <tr style=\"text-align: right;\">\n      <th></th>\n      <th>a</th>\n      <th>b</th>\n      <th>c</th>\n      <th>d</th>\n      <th>e</th>\n      <th>f</th>\n    </tr>\n  </thead>\n  <tbody>\n    <tr>\n      <th>0</th>\n      <td>1</td>\n      <td>2022-07-08 19:48:43.239110</td>\n      <td>3.14</td>\n      <td>abc</td>\n      <td>small</td>\n      <td>1000000000</td>\n    </tr>\n  </tbody>\n</table>\n</div>"
     },
     "execution_count": 7,
     "metadata": {},
     "output_type": "execute_result"
    }
   ],
   "source": [
    "df3[\"f\"]=df3[\"f\"].astype(\"int\")\n",
    "df3"
   ],
   "metadata": {
    "collapsed": false,
    "pycharm": {
     "name": "#%%\n"
    }
   }
  },
  {
   "cell_type": "code",
   "execution_count": 8,
   "outputs": [
    {
     "data": {
      "text/plain": "   a                          b     c    d      e               f\n0  1 2022-07-08 19:48:43.239110  3.14  abc  small 0 days 00:00:01",
      "text/html": "<div>\n<style scoped>\n    .dataframe tbody tr th:only-of-type {\n        vertical-align: middle;\n    }\n\n    .dataframe tbody tr th {\n        vertical-align: top;\n    }\n\n    .dataframe thead th {\n        text-align: right;\n    }\n</style>\n<table border=\"1\" class=\"dataframe\">\n  <thead>\n    <tr style=\"text-align: right;\">\n      <th></th>\n      <th>a</th>\n      <th>b</th>\n      <th>c</th>\n      <th>d</th>\n      <th>e</th>\n      <th>f</th>\n    </tr>\n  </thead>\n  <tbody>\n    <tr>\n      <th>0</th>\n      <td>1</td>\n      <td>2022-07-08 19:48:43.239110</td>\n      <td>3.14</td>\n      <td>abc</td>\n      <td>small</td>\n      <td>0 days 00:00:01</td>\n    </tr>\n  </tbody>\n</table>\n</div>"
     },
     "execution_count": 8,
     "metadata": {},
     "output_type": "execute_result"
    }
   ],
   "source": [
    "df3[\"f\"]=df3[\"f\"].astype(\"timedelta64[ns]\")\n",
    "df3"
   ],
   "metadata": {
    "collapsed": false,
    "pycharm": {
     "name": "#%%\n"
    }
   }
  },
  {
   "cell_type": "code",
   "execution_count": 9,
   "outputs": [
    {
     "data": {
      "text/plain": "                  commit_date commit_count measurement     value\n148 2022-07-01 13:12:58+00:00         1426        mean  0.014581\n149 2022-07-01 13:12:58+00:00         1426         q05  0.017876\n150 2022-07-01 13:12:58+00:00         1426         q09  0.018819\n151 2022-07-01 13:12:58+00:00         1426         max  0.018819\n160 2022-06-22 08:27:38+00:00         1421        mean  0.017339\n161 2022-06-22 08:27:38+00:00         1421         q05  0.021800\n162 2022-06-22 08:27:38+00:00         1421         q09  0.023877\n163 2022-06-22 08:27:38+00:00         1421         max  0.023877\n164 2022-06-21 11:08:28+00:00         1418        mean  0.015087\n165 2022-06-21 11:08:28+00:00         1418         q05  0.016774\n166 2022-06-21 11:08:28+00:00         1418         q09  0.019497\n167 2022-06-21 11:08:28+00:00         1418         max  0.019497\n168 2022-06-02 08:11:35+00:00         1417        mean  0.019051\n169 2022-06-02 08:11:35+00:00         1417         q05  0.021461\n170 2022-06-02 08:11:35+00:00         1417         q09  0.027425\n171 2022-06-02 08:11:35+00:00         1417         max  0.027425\n180 2022-05-10 12:26:14+00:00         1413        mean  0.014357\n181 2022-05-10 12:26:14+00:00         1413         q05  0.015246\n182 2022-05-10 12:26:14+00:00         1413         q09  0.019999\n183 2022-05-10 12:26:14+00:00         1413         max  0.019999\n200 2022-05-06 09:16:39+00:00         1409        mean  0.016896\n201 2022-05-06 09:16:39+00:00         1409         q05  0.021483\n202 2022-05-06 09:16:39+00:00         1409         q09  0.025572\n203 2022-05-06 09:16:39+00:00         1409         max  0.025572\n204 2022-05-05 12:21:44+00:00         1405        mean  0.014978\n205 2022-05-05 12:21:44+00:00         1405         q05  0.020925\n206 2022-05-05 12:21:44+00:00         1405         q09  0.022830\n207 2022-05-05 12:21:44+00:00         1405         max  0.022830\n288 2022-05-05 13:50:30+00:00         1407        mean  0.016248\n289 2022-05-05 13:50:30+00:00         1407         q05  0.020944\n290 2022-05-05 13:50:30+00:00         1407         q09  0.022234\n291 2022-05-05 13:50:30+00:00         1407         max  0.022234",
      "text/html": "<div>\n<style scoped>\n    .dataframe tbody tr th:only-of-type {\n        vertical-align: middle;\n    }\n\n    .dataframe tbody tr th {\n        vertical-align: top;\n    }\n\n    .dataframe thead th {\n        text-align: right;\n    }\n</style>\n<table border=\"1\" class=\"dataframe\">\n  <thead>\n    <tr style=\"text-align: right;\">\n      <th></th>\n      <th>commit_date</th>\n      <th>commit_count</th>\n      <th>measurement</th>\n      <th>value</th>\n    </tr>\n  </thead>\n  <tbody>\n    <tr>\n      <th>148</th>\n      <td>2022-07-01 13:12:58+00:00</td>\n      <td>1426</td>\n      <td>mean</td>\n      <td>0.014581</td>\n    </tr>\n    <tr>\n      <th>149</th>\n      <td>2022-07-01 13:12:58+00:00</td>\n      <td>1426</td>\n      <td>q05</td>\n      <td>0.017876</td>\n    </tr>\n    <tr>\n      <th>150</th>\n      <td>2022-07-01 13:12:58+00:00</td>\n      <td>1426</td>\n      <td>q09</td>\n      <td>0.018819</td>\n    </tr>\n    <tr>\n      <th>151</th>\n      <td>2022-07-01 13:12:58+00:00</td>\n      <td>1426</td>\n      <td>max</td>\n      <td>0.018819</td>\n    </tr>\n    <tr>\n      <th>160</th>\n      <td>2022-06-22 08:27:38+00:00</td>\n      <td>1421</td>\n      <td>mean</td>\n      <td>0.017339</td>\n    </tr>\n    <tr>\n      <th>161</th>\n      <td>2022-06-22 08:27:38+00:00</td>\n      <td>1421</td>\n      <td>q05</td>\n      <td>0.021800</td>\n    </tr>\n    <tr>\n      <th>162</th>\n      <td>2022-06-22 08:27:38+00:00</td>\n      <td>1421</td>\n      <td>q09</td>\n      <td>0.023877</td>\n    </tr>\n    <tr>\n      <th>163</th>\n      <td>2022-06-22 08:27:38+00:00</td>\n      <td>1421</td>\n      <td>max</td>\n      <td>0.023877</td>\n    </tr>\n    <tr>\n      <th>164</th>\n      <td>2022-06-21 11:08:28+00:00</td>\n      <td>1418</td>\n      <td>mean</td>\n      <td>0.015087</td>\n    </tr>\n    <tr>\n      <th>165</th>\n      <td>2022-06-21 11:08:28+00:00</td>\n      <td>1418</td>\n      <td>q05</td>\n      <td>0.016774</td>\n    </tr>\n    <tr>\n      <th>166</th>\n      <td>2022-06-21 11:08:28+00:00</td>\n      <td>1418</td>\n      <td>q09</td>\n      <td>0.019497</td>\n    </tr>\n    <tr>\n      <th>167</th>\n      <td>2022-06-21 11:08:28+00:00</td>\n      <td>1418</td>\n      <td>max</td>\n      <td>0.019497</td>\n    </tr>\n    <tr>\n      <th>168</th>\n      <td>2022-06-02 08:11:35+00:00</td>\n      <td>1417</td>\n      <td>mean</td>\n      <td>0.019051</td>\n    </tr>\n    <tr>\n      <th>169</th>\n      <td>2022-06-02 08:11:35+00:00</td>\n      <td>1417</td>\n      <td>q05</td>\n      <td>0.021461</td>\n    </tr>\n    <tr>\n      <th>170</th>\n      <td>2022-06-02 08:11:35+00:00</td>\n      <td>1417</td>\n      <td>q09</td>\n      <td>0.027425</td>\n    </tr>\n    <tr>\n      <th>171</th>\n      <td>2022-06-02 08:11:35+00:00</td>\n      <td>1417</td>\n      <td>max</td>\n      <td>0.027425</td>\n    </tr>\n    <tr>\n      <th>180</th>\n      <td>2022-05-10 12:26:14+00:00</td>\n      <td>1413</td>\n      <td>mean</td>\n      <td>0.014357</td>\n    </tr>\n    <tr>\n      <th>181</th>\n      <td>2022-05-10 12:26:14+00:00</td>\n      <td>1413</td>\n      <td>q05</td>\n      <td>0.015246</td>\n    </tr>\n    <tr>\n      <th>182</th>\n      <td>2022-05-10 12:26:14+00:00</td>\n      <td>1413</td>\n      <td>q09</td>\n      <td>0.019999</td>\n    </tr>\n    <tr>\n      <th>183</th>\n      <td>2022-05-10 12:26:14+00:00</td>\n      <td>1413</td>\n      <td>max</td>\n      <td>0.019999</td>\n    </tr>\n    <tr>\n      <th>200</th>\n      <td>2022-05-06 09:16:39+00:00</td>\n      <td>1409</td>\n      <td>mean</td>\n      <td>0.016896</td>\n    </tr>\n    <tr>\n      <th>201</th>\n      <td>2022-05-06 09:16:39+00:00</td>\n      <td>1409</td>\n      <td>q05</td>\n      <td>0.021483</td>\n    </tr>\n    <tr>\n      <th>202</th>\n      <td>2022-05-06 09:16:39+00:00</td>\n      <td>1409</td>\n      <td>q09</td>\n      <td>0.025572</td>\n    </tr>\n    <tr>\n      <th>203</th>\n      <td>2022-05-06 09:16:39+00:00</td>\n      <td>1409</td>\n      <td>max</td>\n      <td>0.025572</td>\n    </tr>\n    <tr>\n      <th>204</th>\n      <td>2022-05-05 12:21:44+00:00</td>\n      <td>1405</td>\n      <td>mean</td>\n      <td>0.014978</td>\n    </tr>\n    <tr>\n      <th>205</th>\n      <td>2022-05-05 12:21:44+00:00</td>\n      <td>1405</td>\n      <td>q05</td>\n      <td>0.020925</td>\n    </tr>\n    <tr>\n      <th>206</th>\n      <td>2022-05-05 12:21:44+00:00</td>\n      <td>1405</td>\n      <td>q09</td>\n      <td>0.022830</td>\n    </tr>\n    <tr>\n      <th>207</th>\n      <td>2022-05-05 12:21:44+00:00</td>\n      <td>1405</td>\n      <td>max</td>\n      <td>0.022830</td>\n    </tr>\n    <tr>\n      <th>288</th>\n      <td>2022-05-05 13:50:30+00:00</td>\n      <td>1407</td>\n      <td>mean</td>\n      <td>0.016248</td>\n    </tr>\n    <tr>\n      <th>289</th>\n      <td>2022-05-05 13:50:30+00:00</td>\n      <td>1407</td>\n      <td>q05</td>\n      <td>0.020944</td>\n    </tr>\n    <tr>\n      <th>290</th>\n      <td>2022-05-05 13:50:30+00:00</td>\n      <td>1407</td>\n      <td>q09</td>\n      <td>0.022234</td>\n    </tr>\n    <tr>\n      <th>291</th>\n      <td>2022-05-05 13:50:30+00:00</td>\n      <td>1407</td>\n      <td>max</td>\n      <td>0.022234</td>\n    </tr>\n  </tbody>\n</table>\n</div>"
     },
     "execution_count": 9,
     "metadata": {},
     "output_type": "execute_result"
    }
   ],
   "source": [
    "\n",
    "cpu_usage = get_cpu_usage()\n",
    "\n",
    "cpu_usage\n"
   ],
   "metadata": {
    "collapsed": false,
    "pycharm": {
     "name": "#%%\n"
    }
   }
  },
  {
   "cell_type": "code",
   "execution_count": 35,
   "outputs": [
    {
     "data": {
      "text/plain": "[0.022829744, 0.022234144]"
     },
     "execution_count": 35,
     "metadata": {},
     "output_type": "execute_result"
    }
   ],
   "source": [
    "cpu_usage[cpu_usage['measurement'].isin(['max'])].tail(2)['value'].tolist()\n"
   ],
   "metadata": {
    "collapsed": false,
    "pycharm": {
     "name": "#%%\n"
    }
   }
  },
  {
   "cell_type": "code",
   "execution_count": null,
   "outputs": [],
   "source": [],
   "metadata": {
    "collapsed": false,
    "pycharm": {
     "name": "#%%\n"
    }
   }
  }
 ],
 "metadata": {
  "kernelspec": {
   "display_name": "Python 3 (ipykernel)",
   "language": "python",
   "name": "python3"
  },
  "language_info": {
   "codemirror_mode": {
    "name": "ipython",
    "version": 3
   },
   "file_extension": ".py",
   "mimetype": "text/x-python",
   "name": "python",
   "nbconvert_exporter": "python",
   "pygments_lexer": "ipython3",
   "version": "3.9.13"
  }
 },
 "nbformat": 4,
 "nbformat_minor": 1
}