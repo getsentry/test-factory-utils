{
 "cells": [
  {
   "cell_type": "code",
   "execution_count": 124,
   "metadata": {
    "pycharm": {
     "name": "#%%\n"
    }
   },
   "outputs": [],
   "source": [
    "import datetime\n",
    "\n",
    "import pandas as pd\n",
    "import altair as alt\n",
    "\n",
    "from sdk_performance import last_minor_releases"
   ]
  },
  {
   "cell_type": "code",
   "execution_count": 128,
   "outputs": [
    {
     "data": {
      "text/plain": "    started version measurement    value\n0      None   0.1.0        full  3634826\n1      None   0.1.0         min  2019348\n2      None   0.1.1        full  3726644\n3      None   0.1.1         min  2070358\n4      None   0.1.2        full  3762333\n..      ...     ...         ...      ...\n195    None  25.1.2         min  5051148\n196    None  25.2.0        full  9134344\n197    None  25.2.0         min  5074636\n198    None  25.2.1        full  9181533\n199    None  25.2.1         min  5100852\n\n[200 rows x 4 columns]",
      "text/html": "<div>\n<style scoped>\n    .dataframe tbody tr th:only-of-type {\n        vertical-align: middle;\n    }\n\n    .dataframe tbody tr th {\n        vertical-align: top;\n    }\n\n    .dataframe thead th {\n        text-align: right;\n    }\n</style>\n<table border=\"1\" class=\"dataframe\">\n  <thead>\n    <tr style=\"text-align: right;\">\n      <th></th>\n      <th>started</th>\n      <th>version</th>\n      <th>measurement</th>\n      <th>value</th>\n    </tr>\n  </thead>\n  <tbody>\n    <tr>\n      <th>0</th>\n      <td>None</td>\n      <td>0.1.0</td>\n      <td>full</td>\n      <td>3634826</td>\n    </tr>\n    <tr>\n      <th>1</th>\n      <td>None</td>\n      <td>0.1.0</td>\n      <td>min</td>\n      <td>2019348</td>\n    </tr>\n    <tr>\n      <th>2</th>\n      <td>None</td>\n      <td>0.1.1</td>\n      <td>full</td>\n      <td>3726644</td>\n    </tr>\n    <tr>\n      <th>3</th>\n      <td>None</td>\n      <td>0.1.1</td>\n      <td>min</td>\n      <td>2070358</td>\n    </tr>\n    <tr>\n      <th>4</th>\n      <td>None</td>\n      <td>0.1.2</td>\n      <td>full</td>\n      <td>3762333</td>\n    </tr>\n    <tr>\n      <th>...</th>\n      <td>...</td>\n      <td>...</td>\n      <td>...</td>\n      <td>...</td>\n    </tr>\n    <tr>\n      <th>195</th>\n      <td>None</td>\n      <td>25.1.2</td>\n      <td>min</td>\n      <td>5051148</td>\n    </tr>\n    <tr>\n      <th>196</th>\n      <td>None</td>\n      <td>25.2.0</td>\n      <td>full</td>\n      <td>9134344</td>\n    </tr>\n    <tr>\n      <th>197</th>\n      <td>None</td>\n      <td>25.2.0</td>\n      <td>min</td>\n      <td>5074636</td>\n    </tr>\n    <tr>\n      <th>198</th>\n      <td>None</td>\n      <td>25.2.1</td>\n      <td>full</td>\n      <td>9181533</td>\n    </tr>\n    <tr>\n      <th>199</th>\n      <td>None</td>\n      <td>25.2.1</td>\n      <td>min</td>\n      <td>5100852</td>\n    </tr>\n  </tbody>\n</table>\n<p>200 rows × 4 columns</p>\n</div>"
     },
     "execution_count": 128,
     "metadata": {},
     "output_type": "execute_result"
    }
   ],
   "source": [
    "from mongo_data import get_sdk_size\n",
    "\n",
    "df2 = get_sdk_size()\n",
    "df2\n"
   ],
   "metadata": {
    "collapsed": false,
    "pycharm": {
     "name": "#%%\n"
    }
   }
  },
  {
   "cell_type": "code",
   "execution_count": 126,
   "outputs": [
    {
     "data": {
      "text/html": "\n<div id=\"altair-viz-3883eb0d4ad049a987076a9c675d445f\"></div>\n<script type=\"text/javascript\">\n  var VEGA_DEBUG = (typeof VEGA_DEBUG == \"undefined\") ? {} : VEGA_DEBUG;\n  (function(spec, embedOpt){\n    let outputDiv = document.currentScript.previousElementSibling;\n    if (outputDiv.id !== \"altair-viz-3883eb0d4ad049a987076a9c675d445f\") {\n      outputDiv = document.getElementById(\"altair-viz-3883eb0d4ad049a987076a9c675d445f\");\n    }\n    const paths = {\n      \"vega\": \"https://cdn.jsdelivr.net/npm//vega@5?noext\",\n      \"vega-lib\": \"https://cdn.jsdelivr.net/npm//vega-lib?noext\",\n      \"vega-lite\": \"https://cdn.jsdelivr.net/npm//vega-lite@4.17.0?noext\",\n      \"vega-embed\": \"https://cdn.jsdelivr.net/npm//vega-embed@6?noext\",\n    };\n\n    function maybeLoadScript(lib, version) {\n      var key = `${lib.replace(\"-\", \"\")}_version`;\n      return (VEGA_DEBUG[key] == version) ?\n        Promise.resolve(paths[lib]) :\n        new Promise(function(resolve, reject) {\n          var s = document.createElement('script');\n          document.getElementsByTagName(\"head\")[0].appendChild(s);\n          s.async = true;\n          s.onload = () => {\n            VEGA_DEBUG[key] = version;\n            return resolve(paths[lib]);\n          };\n          s.onerror = () => reject(`Error loading script: ${paths[lib]}`);\n          s.src = paths[lib];\n        });\n    }\n\n    function showError(err) {\n      outputDiv.innerHTML = `<div class=\"error\" style=\"color:red;\">${err}</div>`;\n      throw err;\n    }\n\n    function displayChart(vegaEmbed) {\n      vegaEmbed(outputDiv, spec, embedOpt)\n        .catch(err => showError(`Javascript Error: ${err.message}<br>This usually means there's a typo in your chart specification. See the javascript console for the full traceback.`));\n    }\n\n    if(typeof define === \"function\" && define.amd) {\n      requirejs.config({paths});\n      require([\"vega-embed\"], displayChart, err => showError(`Error loading script: ${err.message}`));\n    } else {\n      maybeLoadScript(\"vega\", \"5\")\n        .then(() => maybeLoadScript(\"vega-lite\", \"4.17.0\"))\n        .then(() => maybeLoadScript(\"vega-embed\", \"6\"))\n        .catch(showError)\n        .then(() => displayChart(vegaEmbed));\n    }\n  })({\"config\": {\"view\": {\"continuousWidth\": 400, \"continuousHeight\": 300}}, \"layer\": [{\"data\": {\"name\": \"data-35d272af463f5364b8e2e8c2a2d5a339\"}, \"mark\": {\"type\": \"point\", \"opacity\": 0.5, \"size\": 10}, \"encoding\": {\"color\": {\"field\": \"measurement\", \"type\": \"nominal\"}, \"shape\": {\"field\": \"measurement\", \"type\": \"nominal\"}, \"tooltip\": {\"field\": \"version\", \"type\": \"nominal\"}, \"x\": {\"field\": \"started\", \"type\": \"nominal\"}, \"y\": {\"field\": \"value\", \"type\": \"quantitative\"}}, \"selection\": {\"selector021\": {\"type\": \"interval\", \"bind\": \"scales\", \"encodings\": [\"x\", \"y\"]}}}, {\"data\": {\"name\": \"data-35d272af463f5364b8e2e8c2a2d5a339\"}, \"mark\": {\"type\": \"line\", \"opacity\": 0.3, \"size\": 1}, \"encoding\": {\"color\": {\"field\": \"measurement\", \"legend\": null, \"type\": \"nominal\"}, \"x\": {\"field\": \"started\", \"type\": \"nominal\"}, \"y\": {\"field\": \"value\", \"type\": \"quantitative\"}}}, {\"data\": {\"name\": \"data-53f74962562aa0fbcea7913db762249a\"}, \"mark\": {\"type\": \"rule\", \"color\": \"red\", \"opacity\": 0.5, \"size\": 1, \"strokeDash\": [4, 4]}, \"encoding\": {\"y\": {\"field\": \"y\", \"type\": \"quantitative\"}}}, {\"data\": {\"name\": \"data-53f74962562aa0fbcea7913db762249a\"}, \"mark\": {\"type\": \"text\", \"align\": \"center\", \"baseline\": \"line-bottom\", \"dx\": -350, \"fontSize\": 14, \"opacity\": 1, \"text\": \"too much\"}, \"encoding\": {\"y\": {\"field\": \"y\", \"type\": \"quantitative\"}}}, {\"data\": {\"name\": \"data-390c0a979284e789d00597e4e44cc3be\"}, \"mark\": {\"type\": \"point\", \"opacity\": 1.0, \"size\": 55}, \"encoding\": {\"color\": {\"field\": \"measurement\", \"type\": \"nominal\"}, \"shape\": {\"field\": \"measurement\", \"type\": \"nominal\"}, \"x\": {\"field\": \"started\", \"type\": \"nominal\"}, \"y\": {\"field\": \"value\", \"type\": \"quantitative\"}}}, {\"data\": {\"name\": \"data-390c0a979284e789d00597e4e44cc3be\"}, \"mark\": {\"type\": \"text\", \"align\": \"center\", \"baseline\": \"line-bottom\", \"dy\": -10}, \"encoding\": {\"text\": {\"field\": \"version\", \"type\": \"nominal\"}, \"x\": {\"field\": \"started\", \"type\": \"nominal\"}, \"y\": {\"field\": \"value\", \"type\": \"quantitative\"}}}], \"height\": 400, \"width\": 850, \"$schema\": \"https://vega.github.io/schema/vega-lite/v4.17.0.json\", \"datasets\": {\"data-35d272af463f5364b8e2e8c2a2d5a339\": [{\"started\": null, \"version\": \"0.1.0\", \"measurement\": \"full\", \"value\": 3634826}, {\"started\": null, \"version\": \"0.1.0\", \"measurement\": \"min\", \"value\": 2019348}, {\"started\": null, \"version\": \"0.1.1\", \"measurement\": \"full\", \"value\": 3726644}, {\"started\": null, \"version\": \"0.1.1\", \"measurement\": \"min\", \"value\": 2070358}, {\"started\": null, \"version\": \"0.1.2\", \"measurement\": \"full\", \"value\": 3762333}, {\"started\": null, \"version\": \"0.1.2\", \"measurement\": \"min\", \"value\": 2090185}, {\"started\": null, \"version\": \"1.0.0\", \"measurement\": \"full\", \"value\": 3848803}, {\"started\": null, \"version\": \"1.0.0\", \"measurement\": \"min\", \"value\": 2138224}, {\"started\": null, \"version\": \"1.0.1\", \"measurement\": \"full\", \"value\": 3910262}, {\"started\": null, \"version\": \"1.0.1\", \"measurement\": \"min\", \"value\": 2172368}, {\"started\": null, \"version\": \"1.1.0\", \"measurement\": \"full\", \"value\": 3946194}, {\"started\": null, \"version\": \"1.1.0\", \"measurement\": \"min\", \"value\": 2192330}, {\"started\": null, \"version\": \"1.1.1\", \"measurement\": \"full\", \"value\": 4025656}, {\"started\": null, \"version\": \"1.1.1\", \"measurement\": \"min\", \"value\": 2236476}, {\"started\": null, \"version\": \"1.1.2\", \"measurement\": \"full\", \"value\": 4032905}, {\"started\": null, \"version\": \"1.1.2\", \"measurement\": \"min\", \"value\": 2240503}, {\"started\": null, \"version\": \"2.0.0\", \"measurement\": \"full\", \"value\": 4092339}, {\"started\": null, \"version\": \"2.0.0\", \"measurement\": \"min\", \"value\": 2273522}, {\"started\": null, \"version\": \"2.0.1\", \"measurement\": \"full\", \"value\": 4178696}, {\"started\": null, \"version\": \"2.0.1\", \"measurement\": \"min\", \"value\": 2321498}, {\"started\": null, \"version\": \"2.0.2\", \"measurement\": \"full\", \"value\": 4189345}, {\"started\": null, \"version\": \"2.0.2\", \"measurement\": \"min\", \"value\": 2327414}, {\"started\": null, \"version\": \"3.0.0\", \"measurement\": \"full\", \"value\": 4277462}, {\"started\": null, \"version\": \"3.0.0\", \"measurement\": \"min\", \"value\": 2376368}, {\"started\": null, \"version\": \"3.0.1\", \"measurement\": \"full\", \"value\": 4295833}, {\"started\": null, \"version\": \"3.0.1\", \"measurement\": \"min\", \"value\": 2386574}, {\"started\": null, \"version\": \"3.0.2\", \"measurement\": \"full\", \"value\": 4309520}, {\"started\": null, \"version\": \"3.0.2\", \"measurement\": \"min\", \"value\": 2394178}, {\"started\": null, \"version\": \"4.0.0\", \"measurement\": \"full\", \"value\": 4405370}, {\"started\": null, \"version\": \"4.0.0\", \"measurement\": \"min\", \"value\": 2447428}, {\"started\": null, \"version\": \"5.0.0\", \"measurement\": \"full\", \"value\": 4428630}, {\"started\": null, \"version\": \"5.0.0\", \"measurement\": \"min\", \"value\": 2460350}, {\"started\": null, \"version\": \"5.1.0\", \"measurement\": \"full\", \"value\": 4453113}, {\"started\": null, \"version\": \"5.1.0\", \"measurement\": \"min\", \"value\": 2473952}, {\"started\": null, \"version\": \"5.1.1\", \"measurement\": \"full\", \"value\": 4542256}, {\"started\": null, \"version\": \"5.1.1\", \"measurement\": \"min\", \"value\": 2523476}, {\"started\": null, \"version\": \"6.0.0\", \"measurement\": \"full\", \"value\": 4589055}, {\"started\": null, \"version\": \"6.0.0\", \"measurement\": \"min\", \"value\": 2549475}, {\"started\": null, \"version\": \"7.0.0\", \"measurement\": \"full\", \"value\": 4607458}, {\"started\": null, \"version\": \"7.0.0\", \"measurement\": \"min\", \"value\": 2559699}, {\"started\": null, \"version\": \"7.0.1\", \"measurement\": \"full\", \"value\": 4713897}, {\"started\": null, \"version\": \"7.0.1\", \"measurement\": \"min\", \"value\": 2618832}, {\"started\": null, \"version\": \"7.1.0\", \"measurement\": \"full\", \"value\": 4724064}, {\"started\": null, \"version\": \"7.1.0\", \"measurement\": \"min\", \"value\": 2624480}, {\"started\": null, \"version\": \"7.1.1\", \"measurement\": \"full\", \"value\": 4727736}, {\"started\": null, \"version\": \"7.1.1\", \"measurement\": \"min\", \"value\": 2626520}, {\"started\": null, \"version\": \"7.1.2\", \"measurement\": \"full\", \"value\": 4756843}, {\"started\": null, \"version\": \"7.1.2\", \"measurement\": \"min\", \"value\": 2642691}, {\"started\": null, \"version\": \"8.0.0\", \"measurement\": \"full\", \"value\": 4773677}, {\"started\": null, \"version\": \"8.0.0\", \"measurement\": \"min\", \"value\": 2652043}, {\"started\": null, \"version\": \"8.0.1\", \"measurement\": \"full\", \"value\": 4816427}, {\"started\": null, \"version\": \"8.0.1\", \"measurement\": \"min\", \"value\": 2675793}, {\"started\": null, \"version\": \"8.0.2\", \"measurement\": \"full\", \"value\": 4873573}, {\"started\": null, \"version\": \"8.0.2\", \"measurement\": \"min\", \"value\": 2707541}, {\"started\": null, \"version\": \"8.1.0\", \"measurement\": \"full\", \"value\": 4921542}, {\"started\": null, \"version\": \"8.1.0\", \"measurement\": \"min\", \"value\": 2734190}, {\"started\": null, \"version\": \"8.2.0\", \"measurement\": \"full\", \"value\": 5014083}, {\"started\": null, \"version\": \"8.2.0\", \"measurement\": \"min\", \"value\": 2785602}, {\"started\": null, \"version\": \"8.2.1\", \"measurement\": \"full\", \"value\": 5050470}, {\"started\": null, \"version\": \"8.2.1\", \"measurement\": \"min\", \"value\": 2805817}, {\"started\": null, \"version\": \"8.2.2\", \"measurement\": \"full\", \"value\": 5126963}, {\"started\": null, \"version\": \"8.2.2\", \"measurement\": \"min\", \"value\": 2848313}, {\"started\": null, \"version\": \"8.3.0\", \"measurement\": \"full\", \"value\": 5231766}, {\"started\": null, \"version\": \"8.3.0\", \"measurement\": \"min\", \"value\": 2906537}, {\"started\": null, \"version\": \"8.3.1\", \"measurement\": \"full\", \"value\": 5326918}, {\"started\": null, \"version\": \"8.3.1\", \"measurement\": \"min\", \"value\": 2959399}, {\"started\": null, \"version\": \"9.0.0\", \"measurement\": \"full\", \"value\": 5431447}, {\"started\": null, \"version\": \"9.0.0\", \"measurement\": \"min\", \"value\": 3017471}, {\"started\": null, \"version\": \"9.0.1\", \"measurement\": \"full\", \"value\": 5518877}, {\"started\": null, \"version\": \"9.0.1\", \"measurement\": \"min\", \"value\": 3066043}, {\"started\": null, \"version\": \"10.0.0\", \"measurement\": \"full\", \"value\": 5613562}, {\"started\": null, \"version\": \"10.0.0\", \"measurement\": \"min\", \"value\": 3118646}, {\"started\": null, \"version\": \"10.0.1\", \"measurement\": \"full\", \"value\": 5641097}, {\"started\": null, \"version\": \"10.0.1\", \"measurement\": \"min\", \"value\": 3133943}, {\"started\": null, \"version\": \"11.0.0\", \"measurement\": \"full\", \"value\": 5704907}, {\"started\": null, \"version\": \"11.0.0\", \"measurement\": \"min\", \"value\": 3169393}, {\"started\": null, \"version\": \"11.0.1\", \"measurement\": \"full\", \"value\": 5734657}, {\"started\": null, \"version\": \"11.0.1\", \"measurement\": \"min\", \"value\": 3185921}, {\"started\": null, \"version\": \"11.0.2\", \"measurement\": \"full\", \"value\": 5740218}, {\"started\": null, \"version\": \"11.0.2\", \"measurement\": \"min\", \"value\": 3189010}, {\"started\": null, \"version\": \"11.1.0\", \"measurement\": \"full\", \"value\": 5827140}, {\"started\": null, \"version\": \"11.1.0\", \"measurement\": \"min\", \"value\": 3237300}, {\"started\": null, \"version\": \"11.2.0\", \"measurement\": \"full\", \"value\": 5915269}, {\"started\": null, \"version\": \"11.2.0\", \"measurement\": \"min\", \"value\": 3286261}, {\"started\": null, \"version\": \"11.2.1\", \"measurement\": \"full\", \"value\": 5925645}, {\"started\": null, \"version\": \"11.2.1\", \"measurement\": \"min\", \"value\": 3292025}, {\"started\": null, \"version\": \"11.2.2\", \"measurement\": \"full\", \"value\": 5944620}, {\"started\": null, \"version\": \"11.2.2\", \"measurement\": \"min\", \"value\": 3302567}, {\"started\": null, \"version\": \"12.0.0\", \"measurement\": \"full\", \"value\": 6028995}, {\"started\": null, \"version\": \"12.0.0\", \"measurement\": \"min\", \"value\": 3349442}, {\"started\": null, \"version\": \"12.0.1\", \"measurement\": \"full\", \"value\": 6131129}, {\"started\": null, \"version\": \"12.0.1\", \"measurement\": \"min\", \"value\": 3406183}, {\"started\": null, \"version\": \"13.0.0\", \"measurement\": \"full\", \"value\": 6185039}, {\"started\": null, \"version\": \"13.0.0\", \"measurement\": \"min\", \"value\": 3436133}, {\"started\": null, \"version\": \"13.0.1\", \"measurement\": \"full\", \"value\": 6220656}, {\"started\": null, \"version\": \"13.0.1\", \"measurement\": \"min\", \"value\": 3455920}, {\"started\": null, \"version\": \"13.0.2\", \"measurement\": \"full\", \"value\": 6297589}, {\"started\": null, \"version\": \"13.0.2\", \"measurement\": \"min\", \"value\": 3498661}, {\"started\": null, \"version\": \"13.1.0\", \"measurement\": \"full\", \"value\": 6315273}, {\"started\": null, \"version\": \"13.1.0\", \"measurement\": \"min\", \"value\": 3508485}, {\"started\": null, \"version\": \"13.1.1\", \"measurement\": \"full\", \"value\": 6353749}, {\"started\": null, \"version\": \"13.1.1\", \"measurement\": \"min\", \"value\": 3529861}, {\"started\": null, \"version\": \"14.0.0\", \"measurement\": \"full\", \"value\": 6457185}, {\"started\": null, \"version\": \"14.0.0\", \"measurement\": \"min\", \"value\": 3587325}, {\"started\": null, \"version\": \"14.0.1\", \"measurement\": \"full\", \"value\": 6549084}, {\"started\": null, \"version\": \"14.0.1\", \"measurement\": \"min\", \"value\": 3638380}, {\"started\": null, \"version\": \"14.1.0\", \"measurement\": \"full\", \"value\": 6612708}, {\"started\": null, \"version\": \"14.1.0\", \"measurement\": \"min\", \"value\": 3673727}, {\"started\": null, \"version\": \"14.1.1\", \"measurement\": \"full\", \"value\": 6673172}, {\"started\": null, \"version\": \"14.1.1\", \"measurement\": \"min\", \"value\": 3707318}, {\"started\": null, \"version\": \"14.1.2\", \"measurement\": \"full\", \"value\": 6727543}, {\"started\": null, \"version\": \"14.1.2\", \"measurement\": \"min\", \"value\": 3737524}, {\"started\": null, \"version\": \"14.2.0\", \"measurement\": \"full\", \"value\": 6812917}, {\"started\": null, \"version\": \"14.2.0\", \"measurement\": \"min\", \"value\": 3784954}, {\"started\": null, \"version\": \"14.2.1\", \"measurement\": \"full\", \"value\": 6897045}, {\"started\": null, \"version\": \"14.2.1\", \"measurement\": \"min\", \"value\": 3831692}, {\"started\": null, \"version\": \"14.3.0\", \"measurement\": \"full\", \"value\": 6948433}, {\"started\": null, \"version\": \"14.3.0\", \"measurement\": \"min\", \"value\": 3860241}, {\"started\": null, \"version\": \"14.3.1\", \"measurement\": \"full\", \"value\": 7053114}, {\"started\": null, \"version\": \"14.3.1\", \"measurement\": \"min\", \"value\": 3918397}, {\"started\": null, \"version\": \"14.3.2\", \"measurement\": \"full\", \"value\": 7097403}, {\"started\": null, \"version\": \"14.3.2\", \"measurement\": \"min\", \"value\": 3943002}, {\"started\": null, \"version\": \"15.0.0\", \"measurement\": \"full\", \"value\": 7170996}, {\"started\": null, \"version\": \"15.0.0\", \"measurement\": \"min\", \"value\": 3983887}, {\"started\": null, \"version\": \"15.0.1\", \"measurement\": \"full\", \"value\": 7172290}, {\"started\": null, \"version\": \"15.0.1\", \"measurement\": \"min\", \"value\": 3984606}, {\"started\": null, \"version\": \"16.0.0\", \"measurement\": \"full\", \"value\": 7238763}, {\"started\": null, \"version\": \"16.0.0\", \"measurement\": \"min\", \"value\": 4021535}, {\"started\": null, \"version\": \"16.0.1\", \"measurement\": \"full\", \"value\": 7286610}, {\"started\": null, \"version\": \"16.0.1\", \"measurement\": \"min\", \"value\": 4048117}, {\"started\": null, \"version\": \"16.0.2\", \"measurement\": \"full\", \"value\": 7301104}, {\"started\": null, \"version\": \"16.0.2\", \"measurement\": \"min\", \"value\": 4056169}, {\"started\": null, \"version\": \"16.1.0\", \"measurement\": \"full\", \"value\": 7331337}, {\"started\": null, \"version\": \"16.1.0\", \"measurement\": \"min\", \"value\": 4072965}, {\"started\": null, \"version\": \"16.2.0\", \"measurement\": \"full\", \"value\": 7351779}, {\"started\": null, \"version\": \"16.2.0\", \"measurement\": \"min\", \"value\": 4084322}, {\"started\": null, \"version\": \"16.2.1\", \"measurement\": \"full\", \"value\": 7423309}, {\"started\": null, \"version\": \"16.2.1\", \"measurement\": \"min\", \"value\": 4124061}, {\"started\": null, \"version\": \"17.0.0\", \"measurement\": \"full\", \"value\": 7485611}, {\"started\": null, \"version\": \"17.0.0\", \"measurement\": \"min\", \"value\": 4158673}, {\"started\": null, \"version\": \"17.0.1\", \"measurement\": \"full\", \"value\": 7493302}, {\"started\": null, \"version\": \"17.0.1\", \"measurement\": \"min\", \"value\": 4162946}, {\"started\": null, \"version\": \"18.0.0\", \"measurement\": \"full\", \"value\": 7514681}, {\"started\": null, \"version\": \"18.0.0\", \"measurement\": \"min\", \"value\": 4174823}, {\"started\": null, \"version\": \"19.0.0\", \"measurement\": \"full\", \"value\": 7530217}, {\"started\": null, \"version\": \"19.0.0\", \"measurement\": \"min\", \"value\": 4183454}, {\"started\": null, \"version\": \"20.0.0\", \"measurement\": \"full\", \"value\": 7614941}, {\"started\": null, \"version\": \"20.0.0\", \"measurement\": \"min\", \"value\": 4230523}, {\"started\": null, \"version\": \"21.0.0\", \"measurement\": \"full\", \"value\": 7666023}, {\"started\": null, \"version\": \"21.0.0\", \"measurement\": \"min\", \"value\": 4258902}, {\"started\": null, \"version\": \"21.0.1\", \"measurement\": \"full\", \"value\": 7693367}, {\"started\": null, \"version\": \"21.0.1\", \"measurement\": \"min\", \"value\": 4274093}, {\"started\": null, \"version\": \"21.1.0\", \"measurement\": \"full\", \"value\": 7723335}, {\"started\": null, \"version\": \"21.1.0\", \"measurement\": \"min\", \"value\": 4290742}, {\"started\": null, \"version\": \"21.1.1\", \"measurement\": \"full\", \"value\": 7826529}, {\"started\": null, \"version\": \"21.1.1\", \"measurement\": \"min\", \"value\": 4348072}, {\"started\": null, \"version\": \"21.1.2\", \"measurement\": \"full\", \"value\": 7858733}, {\"started\": null, \"version\": \"21.1.2\", \"measurement\": \"min\", \"value\": 4365963}, {\"started\": null, \"version\": \"21.2.0\", \"measurement\": \"full\", \"value\": 7896249}, {\"started\": null, \"version\": \"21.2.0\", \"measurement\": \"min\", \"value\": 4386805}, {\"started\": null, \"version\": \"22.0.0\", \"measurement\": \"full\", \"value\": 7939341}, {\"started\": null, \"version\": \"22.0.0\", \"measurement\": \"min\", \"value\": 4410745}, {\"started\": null, \"version\": \"22.0.1\", \"measurement\": \"full\", \"value\": 8044968}, {\"started\": null, \"version\": \"22.0.1\", \"measurement\": \"min\", \"value\": 4469427}, {\"started\": null, \"version\": \"22.0.2\", \"measurement\": \"full\", \"value\": 8063424}, {\"started\": null, \"version\": \"22.0.2\", \"measurement\": \"min\", \"value\": 4479680}, {\"started\": null, \"version\": \"22.1.0\", \"measurement\": \"full\", \"value\": 8093230}, {\"started\": null, \"version\": \"22.1.0\", \"measurement\": \"min\", \"value\": 4496239}, {\"started\": null, \"version\": \"22.1.1\", \"measurement\": \"full\", \"value\": 8177239}, {\"started\": null, \"version\": \"22.1.1\", \"measurement\": \"min\", \"value\": 4542911}, {\"started\": null, \"version\": \"22.1.2\", \"measurement\": \"full\", \"value\": 8216985}, {\"started\": null, \"version\": \"22.1.2\", \"measurement\": \"min\", \"value\": 4564992}, {\"started\": null, \"version\": \"23.0.0\", \"measurement\": \"full\", \"value\": 8309784}, {\"started\": null, \"version\": \"23.0.0\", \"measurement\": \"min\", \"value\": 4616547}, {\"started\": null, \"version\": \"23.1.0\", \"measurement\": \"full\", \"value\": 8400619}, {\"started\": null, \"version\": \"23.1.0\", \"measurement\": \"min\", \"value\": 4667011}, {\"started\": null, \"version\": \"23.2.0\", \"measurement\": \"full\", \"value\": 8494036}, {\"started\": null, \"version\": \"23.2.0\", \"measurement\": \"min\", \"value\": 4718909}, {\"started\": null, \"version\": \"23.2.1\", \"measurement\": \"full\", \"value\": 8577694}, {\"started\": null, \"version\": \"23.2.1\", \"measurement\": \"min\", \"value\": 4765386}, {\"started\": null, \"version\": \"23.2.2\", \"measurement\": \"full\", \"value\": 8631277}, {\"started\": null, \"version\": \"23.2.2\", \"measurement\": \"min\", \"value\": 4795154}, {\"started\": null, \"version\": \"24.0.0\", \"measurement\": \"full\", \"value\": 8653266}, {\"started\": null, \"version\": \"24.0.0\", \"measurement\": \"min\", \"value\": 4807370}, {\"started\": null, \"version\": \"24.0.1\", \"measurement\": \"full\", \"value\": 8756838}, {\"started\": null, \"version\": \"24.0.1\", \"measurement\": \"min\", \"value\": 4864910}, {\"started\": null, \"version\": \"25.0.0\", \"measurement\": \"full\", \"value\": 8786745}, {\"started\": null, \"version\": \"25.0.0\", \"measurement\": \"min\", \"value\": 4881525}, {\"started\": null, \"version\": \"25.0.1\", \"measurement\": \"full\", \"value\": 8823997}, {\"started\": null, \"version\": \"25.0.1\", \"measurement\": \"min\", \"value\": 4902221}, {\"started\": null, \"version\": \"25.1.0\", \"measurement\": \"full\", \"value\": 8896588}, {\"started\": null, \"version\": \"25.1.0\", \"measurement\": \"min\", \"value\": 4942549}, {\"started\": null, \"version\": \"25.1.1\", \"measurement\": \"full\", \"value\": 9001243}, {\"started\": null, \"version\": \"25.1.1\", \"measurement\": \"min\", \"value\": 5000691}, {\"started\": null, \"version\": \"25.1.2\", \"measurement\": \"full\", \"value\": 9092066}, {\"started\": null, \"version\": \"25.1.2\", \"measurement\": \"min\", \"value\": 5051148}, {\"started\": null, \"version\": \"25.2.0\", \"measurement\": \"full\", \"value\": 9134344}, {\"started\": null, \"version\": \"25.2.0\", \"measurement\": \"min\", \"value\": 5074636}, {\"started\": null, \"version\": \"25.2.1\", \"measurement\": \"full\", \"value\": 9181533}, {\"started\": null, \"version\": \"25.2.1\", \"measurement\": \"min\", \"value\": 5100852}], \"data-53f74962562aa0fbcea7913db762249a\": [{\"y\": 8000000}], \"data-390c0a979284e789d00597e4e44cc3be\": [{\"started\": null, \"version\": \"0.1.2\", \"measurement\": \"full\", \"value\": 3762333}, {\"started\": null, \"version\": \"0.1.2\", \"measurement\": \"min\", \"value\": 2090185}, {\"started\": null, \"version\": \"1.0.1\", \"measurement\": \"full\", \"value\": 3910262}, {\"started\": null, \"version\": \"1.0.1\", \"measurement\": \"min\", \"value\": 2172368}, {\"started\": null, \"version\": \"1.1.2\", \"measurement\": \"full\", \"value\": 4032905}, {\"started\": null, \"version\": \"1.1.2\", \"measurement\": \"min\", \"value\": 2240503}, {\"started\": null, \"version\": \"2.0.2\", \"measurement\": \"full\", \"value\": 4189345}, {\"started\": null, \"version\": \"2.0.2\", \"measurement\": \"min\", \"value\": 2327414}, {\"started\": null, \"version\": \"3.0.2\", \"measurement\": \"full\", \"value\": 4309520}, {\"started\": null, \"version\": \"3.0.2\", \"measurement\": \"min\", \"value\": 2394178}, {\"started\": null, \"version\": \"5.1.1\", \"measurement\": \"full\", \"value\": 4542256}, {\"started\": null, \"version\": \"5.1.1\", \"measurement\": \"min\", \"value\": 2523476}, {\"started\": null, \"version\": \"7.0.1\", \"measurement\": \"full\", \"value\": 4713897}, {\"started\": null, \"version\": \"7.0.1\", \"measurement\": \"min\", \"value\": 2618832}, {\"started\": null, \"version\": \"7.1.2\", \"measurement\": \"full\", \"value\": 4756843}, {\"started\": null, \"version\": \"7.1.2\", \"measurement\": \"min\", \"value\": 2642691}, {\"started\": null, \"version\": \"8.0.2\", \"measurement\": \"full\", \"value\": 4873573}, {\"started\": null, \"version\": \"8.0.2\", \"measurement\": \"min\", \"value\": 2707541}, {\"started\": null, \"version\": \"8.2.2\", \"measurement\": \"full\", \"value\": 5126963}, {\"started\": null, \"version\": \"8.2.2\", \"measurement\": \"min\", \"value\": 2848313}, {\"started\": null, \"version\": \"8.3.1\", \"measurement\": \"full\", \"value\": 5326918}, {\"started\": null, \"version\": \"8.3.1\", \"measurement\": \"min\", \"value\": 2959399}, {\"started\": null, \"version\": \"9.0.1\", \"measurement\": \"full\", \"value\": 5518877}, {\"started\": null, \"version\": \"9.0.1\", \"measurement\": \"min\", \"value\": 3066043}, {\"started\": null, \"version\": \"10.0.1\", \"measurement\": \"full\", \"value\": 5641097}, {\"started\": null, \"version\": \"10.0.1\", \"measurement\": \"min\", \"value\": 3133943}, {\"started\": null, \"version\": \"11.0.2\", \"measurement\": \"full\", \"value\": 5740218}, {\"started\": null, \"version\": \"11.0.2\", \"measurement\": \"min\", \"value\": 3189010}, {\"started\": null, \"version\": \"11.2.2\", \"measurement\": \"full\", \"value\": 5944620}, {\"started\": null, \"version\": \"11.2.2\", \"measurement\": \"min\", \"value\": 3302567}, {\"started\": null, \"version\": \"12.0.1\", \"measurement\": \"full\", \"value\": 6131129}, {\"started\": null, \"version\": \"12.0.1\", \"measurement\": \"min\", \"value\": 3406183}, {\"started\": null, \"version\": \"13.0.2\", \"measurement\": \"full\", \"value\": 6297589}, {\"started\": null, \"version\": \"13.0.2\", \"measurement\": \"min\", \"value\": 3498661}, {\"started\": null, \"version\": \"13.1.1\", \"measurement\": \"full\", \"value\": 6353749}, {\"started\": null, \"version\": \"13.1.1\", \"measurement\": \"min\", \"value\": 3529861}, {\"started\": null, \"version\": \"14.0.1\", \"measurement\": \"full\", \"value\": 6549084}, {\"started\": null, \"version\": \"14.0.1\", \"measurement\": \"min\", \"value\": 3638380}, {\"started\": null, \"version\": \"14.1.2\", \"measurement\": \"full\", \"value\": 6727543}, {\"started\": null, \"version\": \"14.1.2\", \"measurement\": \"min\", \"value\": 3737524}, {\"started\": null, \"version\": \"14.2.1\", \"measurement\": \"full\", \"value\": 6897045}, {\"started\": null, \"version\": \"14.2.1\", \"measurement\": \"min\", \"value\": 3831692}, {\"started\": null, \"version\": \"14.3.2\", \"measurement\": \"full\", \"value\": 7097403}, {\"started\": null, \"version\": \"14.3.2\", \"measurement\": \"min\", \"value\": 3943002}, {\"started\": null, \"version\": \"15.0.1\", \"measurement\": \"full\", \"value\": 7172290}, {\"started\": null, \"version\": \"15.0.1\", \"measurement\": \"min\", \"value\": 3984606}, {\"started\": null, \"version\": \"16.0.2\", \"measurement\": \"full\", \"value\": 7301104}, {\"started\": null, \"version\": \"16.0.2\", \"measurement\": \"min\", \"value\": 4056169}, {\"started\": null, \"version\": \"16.2.1\", \"measurement\": \"full\", \"value\": 7423309}, {\"started\": null, \"version\": \"16.2.1\", \"measurement\": \"min\", \"value\": 4124061}, {\"started\": null, \"version\": \"17.0.1\", \"measurement\": \"full\", \"value\": 7493302}, {\"started\": null, \"version\": \"17.0.1\", \"measurement\": \"min\", \"value\": 4162946}, {\"started\": null, \"version\": \"21.0.1\", \"measurement\": \"full\", \"value\": 7693367}, {\"started\": null, \"version\": \"21.0.1\", \"measurement\": \"min\", \"value\": 4274093}, {\"started\": null, \"version\": \"21.1.2\", \"measurement\": \"full\", \"value\": 7858733}, {\"started\": null, \"version\": \"21.1.2\", \"measurement\": \"min\", \"value\": 4365963}, {\"started\": null, \"version\": \"22.0.2\", \"measurement\": \"full\", \"value\": 8063424}, {\"started\": null, \"version\": \"22.0.2\", \"measurement\": \"min\", \"value\": 4479680}, {\"started\": null, \"version\": \"22.1.2\", \"measurement\": \"full\", \"value\": 8216985}, {\"started\": null, \"version\": \"22.1.2\", \"measurement\": \"min\", \"value\": 4564992}, {\"started\": null, \"version\": \"23.2.2\", \"measurement\": \"full\", \"value\": 8631277}, {\"started\": null, \"version\": \"23.2.2\", \"measurement\": \"min\", \"value\": 4795154}, {\"started\": null, \"version\": \"24.0.1\", \"measurement\": \"full\", \"value\": 8756838}, {\"started\": null, \"version\": \"24.0.1\", \"measurement\": \"min\", \"value\": 4864910}, {\"started\": null, \"version\": \"25.0.1\", \"measurement\": \"full\", \"value\": 8823997}, {\"started\": null, \"version\": \"25.0.1\", \"measurement\": \"min\", \"value\": 4902221}, {\"started\": null, \"version\": \"25.1.2\", \"measurement\": \"full\", \"value\": 9092066}, {\"started\": null, \"version\": \"25.1.2\", \"measurement\": \"min\", \"value\": 5051148}, {\"started\": null, \"version\": \"25.2.1\", \"measurement\": \"full\", \"value\": 9181533}, {\"started\": null, \"version\": \"25.2.1\", \"measurement\": \"min\", \"value\": 5100852}]}}, {\"mode\": \"vega-lite\"});\n</script>",
      "text/plain": "alt.LayerChart(...)"
     },
     "execution_count": 126,
     "metadata": {},
     "output_type": "execute_result"
    }
   ],
   "source": [
    "all_points = alt.Chart(df2)\n",
    "\n",
    "all_dots = all_points.encode(\n",
    "    x=\"started\",\n",
    "    y=\"value\",\n",
    "    tooltip=\"version\",\n",
    "    color=\"measurement\",\n",
    "    shape=alt.Shape(\"measurement\"),\n",
    ").mark_point(size=10, opacity=0.5)\n",
    "\n",
    "trend_line = all_points.encode(\n",
    "    x=\"started\",\n",
    "    y=\"value\",\n",
    "    color=alt.Color(\"measurement\", legend=None)\n",
    ").mark_line(size=1, opacity=0.3)\n",
    "\n",
    "\n",
    "minor_releases = last_minor_releases(df2)\n",
    "\n",
    "last_chart = alt.Chart(df2[df2[\"version\"].isin(minor_releases)])\n",
    "\n",
    "last_points = last_chart.encode(\n",
    "    x=\"started\",\n",
    "    y=\"value\",\n",
    ").mark_point(size=55, opacity=1.0).encode(\n",
    "    shape=\"measurement\",\n",
    "    color=\"measurement\"\n",
    ")\n",
    "\n",
    "last_text = last_chart.mark_text(\n",
    "    align='center',\n",
    "    baseline='line-bottom',\n",
    "    dy=-10\n",
    ").encode(\n",
    "    x=\"started\",\n",
    "    y=\"value\",\n",
    "    text='version'\n",
    ")\n",
    "\n",
    "line = (alt.Chart(pd.DataFrame({'y': [8000000]})).\n",
    "        mark_rule(size=1, strokeDash=[4, 4], color=\"red\", opacity=0.5).\n",
    "        encode(y='y'))\n",
    "\n",
    "warn_text = alt.Chart(pd.DataFrame({'y': [8000000]})).mark_text(text=\"too much\", align=\"center\", opacity=1, baseline=\"line-bottom\", dx=-350, fontSize=14).encode(y=\"y\")\n",
    "\n",
    "\n",
    "alt.layer(\n",
    "    all_dots,\n",
    "    trend_line,\n",
    "    line,\n",
    "    warn_text,\n",
    "    last_points,\n",
    "    last_text,\n",
    ").properties(\n",
    "    width=850,\n",
    "    height=400\n",
    ").interactive()"
   ],
   "metadata": {
    "collapsed": false,
    "pycharm": {
     "name": "#%%\n"
    }
   }
  },
  {
   "cell_type": "code",
   "execution_count": null,
   "outputs": [],
   "source": [],
   "metadata": {
    "collapsed": false,
    "pycharm": {
     "name": "#%%\n"
    }
   }
  },
  {
   "cell_type": "code",
   "execution_count": 160,
   "outputs": [
    {
     "data": {
      "text/html": "\n<div id=\"altair-viz-bd81c1046a53473d8f5af00c71940c0b\"></div>\n<script type=\"text/javascript\">\n  var VEGA_DEBUG = (typeof VEGA_DEBUG == \"undefined\") ? {} : VEGA_DEBUG;\n  (function(spec, embedOpt){\n    let outputDiv = document.currentScript.previousElementSibling;\n    if (outputDiv.id !== \"altair-viz-bd81c1046a53473d8f5af00c71940c0b\") {\n      outputDiv = document.getElementById(\"altair-viz-bd81c1046a53473d8f5af00c71940c0b\");\n    }\n    const paths = {\n      \"vega\": \"https://cdn.jsdelivr.net/npm//vega@5?noext\",\n      \"vega-lib\": \"https://cdn.jsdelivr.net/npm//vega-lib?noext\",\n      \"vega-lite\": \"https://cdn.jsdelivr.net/npm//vega-lite@4.17.0?noext\",\n      \"vega-embed\": \"https://cdn.jsdelivr.net/npm//vega-embed@6?noext\",\n    };\n\n    function maybeLoadScript(lib, version) {\n      var key = `${lib.replace(\"-\", \"\")}_version`;\n      return (VEGA_DEBUG[key] == version) ?\n        Promise.resolve(paths[lib]) :\n        new Promise(function(resolve, reject) {\n          var s = document.createElement('script');\n          document.getElementsByTagName(\"head\")[0].appendChild(s);\n          s.async = true;\n          s.onload = () => {\n            VEGA_DEBUG[key] = version;\n            return resolve(paths[lib]);\n          };\n          s.onerror = () => reject(`Error loading script: ${paths[lib]}`);\n          s.src = paths[lib];\n        });\n    }\n\n    function showError(err) {\n      outputDiv.innerHTML = `<div class=\"error\" style=\"color:red;\">${err}</div>`;\n      throw err;\n    }\n\n    function displayChart(vegaEmbed) {\n      vegaEmbed(outputDiv, spec, embedOpt)\n        .catch(err => showError(`Javascript Error: ${err.message}<br>This usually means there's a typo in your chart specification. See the javascript console for the full traceback.`));\n    }\n\n    if(typeof define === \"function\" && define.amd) {\n      requirejs.config({paths});\n      require([\"vega-embed\"], displayChart, err => showError(`Error loading script: ${err.message}`));\n    } else {\n      maybeLoadScript(\"vega\", \"5\")\n        .then(() => maybeLoadScript(\"vega-lite\", \"4.17.0\"))\n        .then(() => maybeLoadScript(\"vega-embed\", \"6\"))\n        .catch(showError)\n        .then(() => displayChart(vegaEmbed));\n    }\n  })({\"config\": {\"view\": {\"continuousWidth\": 400, \"continuousHeight\": 300}}, \"data\": {\"name\": \"data-7da4ccd93fd8ee593d35c568f95dde5b\"}, \"mark\": \"point\", \"encoding\": {\"x\": {\"field\": \"date\", \"scale\": {\"domain\": [\"2022-07-03T12:24:37.527502\", \"2022-08-18T12:24:37.527502\"]}, \"type\": \"temporal\"}, \"y\": {\"field\": \"size\", \"scale\": {\"domain\": [49, 160]}, \"type\": \"quantitative\"}}, \"selection\": {\"selector031\": {\"type\": \"interval\", \"bind\": \"scales\", \"encodings\": [\"x\", \"y\"]}}, \"$schema\": \"https://vega.github.io/schema/vega-lite/v4.17.0.json\", \"datasets\": {\"data-7da4ccd93fd8ee593d35c568f95dde5b\": [{\"date\": \"2022-07-08T12:24:37.527502\", \"size\": 55}, {\"date\": \"2022-07-11T12:24:37.527502\", \"size\": 58}, {\"date\": \"2022-07-14T12:24:37.527502\", \"size\": 71}, {\"date\": \"2022-07-17T12:24:37.527502\", \"size\": 71}, {\"date\": \"2022-07-20T12:24:37.527502\", \"size\": 81}, {\"date\": \"2022-07-23T12:24:37.527502\", \"size\": 79}, {\"date\": \"2022-07-26T12:24:37.527502\", \"size\": 97}, {\"date\": \"2022-07-29T12:24:37.527502\", \"size\": 111}, {\"date\": \"2022-08-01T12:24:37.527502\", \"size\": 125}, {\"date\": \"2022-08-04T12:24:37.527502\", \"size\": 134}, {\"date\": \"2022-08-07T12:24:37.527502\", \"size\": 125}, {\"date\": \"2022-08-10T12:24:37.527502\", \"size\": 115}]}}, {\"mode\": \"vega-lite\"});\n</script>",
      "text/plain": "alt.Chart(...)"
     },
     "execution_count": 160,
     "metadata": {},
     "output_type": "execute_result"
    }
   ],
   "source": [
    "import random\n",
    "d = datetime.datetime.now()\n",
    "start = d + datetime.timedelta(days=-5)\n",
    "ds =[]\n",
    "sizes =[]\n",
    "for i in range(12):\n",
    "    ds.append(d)\n",
    "    sizes.append(random.randint(50+i*5,55+i*10))\n",
    "    d += datetime.timedelta(days=3)\n",
    "df2 = pd.DataFrame({\"date\":ds, \"size\":sizes})\n",
    "end= d+ datetime.timedelta(days=+5)\n",
    "domain = [start.isoformat(),end.isoformat()]\n",
    "\n",
    "max_size = int(df2[\"size\"].max() * 1.2)\n",
    "min_size = int(df2[\"size\"].min() * 0.9)\n",
    "\n",
    "alt.Chart(df2).mark_point().encode(\n",
    "        x=alt.X(\"date\", scale=alt.Scale(domain=domain)),\n",
    "        y=alt.Y(\"size\", scale=alt.Scale(domain=[min_size, max_size]))\n",
    ").interactive()\n",
    "\n"
   ],
   "metadata": {
    "collapsed": false,
    "pycharm": {
     "name": "#%%\n"
    }
   }
  },
  {
   "cell_type": "code",
   "execution_count": 161,
   "outputs": [
    {
     "data": {
      "text/html": "\n<div id=\"altair-viz-3558f53734114fc3a57c59af3f233b78\"></div>\n<script type=\"text/javascript\">\n  var VEGA_DEBUG = (typeof VEGA_DEBUG == \"undefined\") ? {} : VEGA_DEBUG;\n  (function(spec, embedOpt){\n    let outputDiv = document.currentScript.previousElementSibling;\n    if (outputDiv.id !== \"altair-viz-3558f53734114fc3a57c59af3f233b78\") {\n      outputDiv = document.getElementById(\"altair-viz-3558f53734114fc3a57c59af3f233b78\");\n    }\n    const paths = {\n      \"vega\": \"https://cdn.jsdelivr.net/npm//vega@5?noext\",\n      \"vega-lib\": \"https://cdn.jsdelivr.net/npm//vega-lib?noext\",\n      \"vega-lite\": \"https://cdn.jsdelivr.net/npm//vega-lite@4.17.0?noext\",\n      \"vega-embed\": \"https://cdn.jsdelivr.net/npm//vega-embed@6?noext\",\n    };\n\n    function maybeLoadScript(lib, version) {\n      var key = `${lib.replace(\"-\", \"\")}_version`;\n      return (VEGA_DEBUG[key] == version) ?\n        Promise.resolve(paths[lib]) :\n        new Promise(function(resolve, reject) {\n          var s = document.createElement('script');\n          document.getElementsByTagName(\"head\")[0].appendChild(s);\n          s.async = true;\n          s.onload = () => {\n            VEGA_DEBUG[key] = version;\n            return resolve(paths[lib]);\n          };\n          s.onerror = () => reject(`Error loading script: ${paths[lib]}`);\n          s.src = paths[lib];\n        });\n    }\n\n    function showError(err) {\n      outputDiv.innerHTML = `<div class=\"error\" style=\"color:red;\">${err}</div>`;\n      throw err;\n    }\n\n    function displayChart(vegaEmbed) {\n      vegaEmbed(outputDiv, spec, embedOpt)\n        .catch(err => showError(`Javascript Error: ${err.message}<br>This usually means there's a typo in your chart specification. See the javascript console for the full traceback.`));\n    }\n\n    if(typeof define === \"function\" && define.amd) {\n      requirejs.config({paths});\n      require([\"vega-embed\"], displayChart, err => showError(`Error loading script: ${err.message}`));\n    } else {\n      maybeLoadScript(\"vega\", \"5\")\n        .then(() => maybeLoadScript(\"vega-lite\", \"4.17.0\"))\n        .then(() => maybeLoadScript(\"vega-embed\", \"6\"))\n        .catch(showError)\n        .then(() => displayChart(vegaEmbed));\n    }\n  })({\"config\": {\"view\": {\"continuousWidth\": 400, \"continuousHeight\": 300}}, \"data\": {\"name\": \"data-7da4ccd93fd8ee593d35c568f95dde5b\"}, \"mark\": \"point\", \"encoding\": {\"x\": {\"field\": \"date\", \"type\": \"temporal\"}, \"y\": {\"field\": \"size\", \"type\": \"quantitative\"}}, \"selection\": {\"selector032\": {\"type\": \"interval\", \"bind\": \"scales\", \"encodings\": [\"x\", \"y\"]}}, \"$schema\": \"https://vega.github.io/schema/vega-lite/v4.17.0.json\", \"datasets\": {\"data-7da4ccd93fd8ee593d35c568f95dde5b\": [{\"date\": \"2022-07-08T12:24:37.527502\", \"size\": 55}, {\"date\": \"2022-07-11T12:24:37.527502\", \"size\": 58}, {\"date\": \"2022-07-14T12:24:37.527502\", \"size\": 71}, {\"date\": \"2022-07-17T12:24:37.527502\", \"size\": 71}, {\"date\": \"2022-07-20T12:24:37.527502\", \"size\": 81}, {\"date\": \"2022-07-23T12:24:37.527502\", \"size\": 79}, {\"date\": \"2022-07-26T12:24:37.527502\", \"size\": 97}, {\"date\": \"2022-07-29T12:24:37.527502\", \"size\": 111}, {\"date\": \"2022-08-01T12:24:37.527502\", \"size\": 125}, {\"date\": \"2022-08-04T12:24:37.527502\", \"size\": 134}, {\"date\": \"2022-08-07T12:24:37.527502\", \"size\": 125}, {\"date\": \"2022-08-10T12:24:37.527502\", \"size\": 115}]}}, {\"mode\": \"vega-lite\"});\n</script>",
      "text/plain": "alt.Chart(...)"
     },
     "execution_count": 161,
     "metadata": {},
     "output_type": "execute_result"
    }
   ],
   "source": [
    "alt.Chart(df2).mark_point().encode(\n",
    "        x=\"date\",\n",
    "        y=\"size\"\n",
    ").interactive()\n",
    "\n"
   ],
   "metadata": {
    "collapsed": false,
    "pycharm": {
     "name": "#%%\n"
    }
   }
  },
  {
   "cell_type": "code",
   "execution_count": 184,
   "outputs": [
    {
     "data": {
      "text/plain": "a              int64\nb     datetime64[ns]\nc            float64\nd             object\ne             object\nf    timedelta64[ns]\ndtype: object"
     },
     "execution_count": 184,
     "metadata": {},
     "output_type": "execute_result"
    }
   ],
   "source": [
    "df3 = pd.DataFrame({\"a\":[1], \"b\":[datetime.datetime.now()], \"c\": [3.14], \"d\":[\"abc\"], \"e\":[\"small\"], \"f\":[datetime.timedelta(seconds=1)] })\n",
    "df3.dtypes"
   ],
   "metadata": {
    "collapsed": false,
    "pycharm": {
     "name": "#%%\n"
    }
   }
  },
  {
   "cell_type": "code",
   "execution_count": 185,
   "outputs": [
    {
     "data": {
      "text/plain": "   a                          b     c    d      e           f\n0  1 2022-07-08 13:05:46.227736  3.14  abc  small  1000000000",
      "text/html": "<div>\n<style scoped>\n    .dataframe tbody tr th:only-of-type {\n        vertical-align: middle;\n    }\n\n    .dataframe tbody tr th {\n        vertical-align: top;\n    }\n\n    .dataframe thead th {\n        text-align: right;\n    }\n</style>\n<table border=\"1\" class=\"dataframe\">\n  <thead>\n    <tr style=\"text-align: right;\">\n      <th></th>\n      <th>a</th>\n      <th>b</th>\n      <th>c</th>\n      <th>d</th>\n      <th>e</th>\n      <th>f</th>\n    </tr>\n  </thead>\n  <tbody>\n    <tr>\n      <th>0</th>\n      <td>1</td>\n      <td>2022-07-08 13:05:46.227736</td>\n      <td>3.14</td>\n      <td>abc</td>\n      <td>small</td>\n      <td>1000000000</td>\n    </tr>\n  </tbody>\n</table>\n</div>"
     },
     "execution_count": 185,
     "metadata": {},
     "output_type": "execute_result"
    }
   ],
   "source": [
    "df3[\"f\"]=df3[\"f\"].astype(\"int\")\n",
    "df3"
   ],
   "metadata": {
    "collapsed": false,
    "pycharm": {
     "name": "#%%\n"
    }
   }
  },
  {
   "cell_type": "code",
   "execution_count": 186,
   "outputs": [
    {
     "data": {
      "text/plain": "   a                          b     c    d      e               f\n0  1 2022-07-08 13:05:46.227736  3.14  abc  small 0 days 00:00:01",
      "text/html": "<div>\n<style scoped>\n    .dataframe tbody tr th:only-of-type {\n        vertical-align: middle;\n    }\n\n    .dataframe tbody tr th {\n        vertical-align: top;\n    }\n\n    .dataframe thead th {\n        text-align: right;\n    }\n</style>\n<table border=\"1\" class=\"dataframe\">\n  <thead>\n    <tr style=\"text-align: right;\">\n      <th></th>\n      <th>a</th>\n      <th>b</th>\n      <th>c</th>\n      <th>d</th>\n      <th>e</th>\n      <th>f</th>\n    </tr>\n  </thead>\n  <tbody>\n    <tr>\n      <th>0</th>\n      <td>1</td>\n      <td>2022-07-08 13:05:46.227736</td>\n      <td>3.14</td>\n      <td>abc</td>\n      <td>small</td>\n      <td>0 days 00:00:01</td>\n    </tr>\n  </tbody>\n</table>\n</div>"
     },
     "execution_count": 186,
     "metadata": {},
     "output_type": "execute_result"
    }
   ],
   "source": [
    "df3[\"f\"]=df3[\"f\"].astype(\"timedelta64[ns]\")\n",
    "df3"
   ],
   "metadata": {
    "collapsed": false,
    "pycharm": {
     "name": "#%%\n"
    }
   }
  },
  {
   "cell_type": "code",
   "execution_count": null,
   "outputs": [],
   "source": [],
   "metadata": {
    "collapsed": false,
    "pycharm": {
     "name": "#%%\n"
    }
   }
  }
 ],
 "metadata": {
  "kernelspec": {
   "display_name": "Python 3 (ipykernel)",
   "language": "python",
   "name": "python3"
  },
  "language_info": {
   "codemirror_mode": {
    "name": "ipython",
    "version": 3
   },
   "file_extension": ".py",
   "mimetype": "text/x-python",
   "name": "python",
   "nbconvert_exporter": "python",
   "pygments_lexer": "ipython3",
   "version": "3.9.13"
  }
 },
 "nbformat": 4,
 "nbformat_minor": 1
}