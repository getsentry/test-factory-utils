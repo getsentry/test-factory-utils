{
 "cells": [
  {
   "cell_type": "code",
   "execution_count": 104,
   "metadata": {
    "pycharm": {
     "name": "#%%\n"
    }
   },
   "outputs": [],
   "source": [
    "import datetime\n",
    "\n",
    "import pandas as pd\n",
    "import numpy as np\n",
    "import matplotlib.pyplot as plt\n",
    "import altair as alt\n",
    "\n",
    "from sdk_performance import (\n",
    "    get_connection, get_sdk_size, last_minor_releases, get_latest_release,\n",
    "    get_previous, VersionLevel, get_versions\n",
    ")"
   ]
  },
  {
   "cell_type": "code",
   "execution_count": 105,
   "metadata": {
    "pycharm": {
     "name": "#%%\n"
    }
   },
   "outputs": [
    {
     "data": {
      "text/plain": "       id             started version measurement      value\n0    1887 2022-05-27 04:20:00   6.1.1        full  9922493.0\n1    1887 2022-05-27 04:20:00   6.1.1         min  4314127.0\n2    1888 2022-05-15 23:20:00   6.1.0        full  9844986.0\n3    1888 2022-05-15 23:20:00   6.1.0         min  4280428.0\n4    1889 2022-05-06 19:20:00   6.0.3        full  9767479.0\n..    ...                 ...     ...         ...        ...\n163  1968 2020-03-16 08:20:00   1.0.2         min  1584533.0\n164  1969 2020-03-07 01:20:00   1.0.1        full  3566919.0\n165  1969 2020-03-07 01:20:00   1.0.1         min  1550834.0\n166  1970 2020-02-20 21:20:00   1.0.0        full  3489412.0\n167  1970 2020-02-20 21:20:00   1.0.0         min  1517135.0\n\n[168 rows x 5 columns]",
      "text/html": "<div>\n<style scoped>\n    .dataframe tbody tr th:only-of-type {\n        vertical-align: middle;\n    }\n\n    .dataframe tbody tr th {\n        vertical-align: top;\n    }\n\n    .dataframe thead th {\n        text-align: right;\n    }\n</style>\n<table border=\"1\" class=\"dataframe\">\n  <thead>\n    <tr style=\"text-align: right;\">\n      <th></th>\n      <th>id</th>\n      <th>started</th>\n      <th>version</th>\n      <th>measurement</th>\n      <th>value</th>\n    </tr>\n  </thead>\n  <tbody>\n    <tr>\n      <th>0</th>\n      <td>1887</td>\n      <td>2022-05-27 04:20:00</td>\n      <td>6.1.1</td>\n      <td>full</td>\n      <td>9922493.0</td>\n    </tr>\n    <tr>\n      <th>1</th>\n      <td>1887</td>\n      <td>2022-05-27 04:20:00</td>\n      <td>6.1.1</td>\n      <td>min</td>\n      <td>4314127.0</td>\n    </tr>\n    <tr>\n      <th>2</th>\n      <td>1888</td>\n      <td>2022-05-15 23:20:00</td>\n      <td>6.1.0</td>\n      <td>full</td>\n      <td>9844986.0</td>\n    </tr>\n    <tr>\n      <th>3</th>\n      <td>1888</td>\n      <td>2022-05-15 23:20:00</td>\n      <td>6.1.0</td>\n      <td>min</td>\n      <td>4280428.0</td>\n    </tr>\n    <tr>\n      <th>4</th>\n      <td>1889</td>\n      <td>2022-05-06 19:20:00</td>\n      <td>6.0.3</td>\n      <td>full</td>\n      <td>9767479.0</td>\n    </tr>\n    <tr>\n      <th>...</th>\n      <td>...</td>\n      <td>...</td>\n      <td>...</td>\n      <td>...</td>\n      <td>...</td>\n    </tr>\n    <tr>\n      <th>163</th>\n      <td>1968</td>\n      <td>2020-03-16 08:20:00</td>\n      <td>1.0.2</td>\n      <td>min</td>\n      <td>1584533.0</td>\n    </tr>\n    <tr>\n      <th>164</th>\n      <td>1969</td>\n      <td>2020-03-07 01:20:00</td>\n      <td>1.0.1</td>\n      <td>full</td>\n      <td>3566919.0</td>\n    </tr>\n    <tr>\n      <th>165</th>\n      <td>1969</td>\n      <td>2020-03-07 01:20:00</td>\n      <td>1.0.1</td>\n      <td>min</td>\n      <td>1550834.0</td>\n    </tr>\n    <tr>\n      <th>166</th>\n      <td>1970</td>\n      <td>2020-02-20 21:20:00</td>\n      <td>1.0.0</td>\n      <td>full</td>\n      <td>3489412.0</td>\n    </tr>\n    <tr>\n      <th>167</th>\n      <td>1970</td>\n      <td>2020-02-20 21:20:00</td>\n      <td>1.0.0</td>\n      <td>min</td>\n      <td>1517135.0</td>\n    </tr>\n  </tbody>\n</table>\n<p>168 rows × 5 columns</p>\n</div>"
     },
     "execution_count": 105,
     "metadata": {},
     "output_type": "execute_result"
    }
   ],
   "source": [
    "connection = get_connection()\n",
    "sdk_vals = get_sdk_size(connection)\n",
    "connection.close()\n",
    "sdk_vals"
   ]
  },
  {
   "cell_type": "code",
   "execution_count": 106,
   "metadata": {
    "pycharm": {
     "name": "#%%\n"
    }
   },
   "outputs": [
    {
     "data": {
      "text/plain": "                    version measurement      value\nstarted                                           \n2022-05-27 04:20:00   6.1.1        full  9922493.0\n2022-05-27 04:20:00   6.1.1         min  4314127.0\n2022-05-15 23:20:00   6.1.0        full  9844986.0\n2022-05-15 23:20:00   6.1.0         min  4280428.0\n2022-05-06 19:20:00   6.0.3        full  9767479.0\n...                     ...         ...        ...\n2020-03-16 08:20:00   1.0.2         min  1584533.0\n2020-03-07 01:20:00   1.0.1        full  3566919.0\n2020-03-07 01:20:00   1.0.1         min  1550834.0\n2020-02-20 21:20:00   1.0.0        full  3489412.0\n2020-02-20 21:20:00   1.0.0         min  1517135.0\n\n[168 rows x 3 columns]",
      "text/html": "<div>\n<style scoped>\n    .dataframe tbody tr th:only-of-type {\n        vertical-align: middle;\n    }\n\n    .dataframe tbody tr th {\n        vertical-align: top;\n    }\n\n    .dataframe thead th {\n        text-align: right;\n    }\n</style>\n<table border=\"1\" class=\"dataframe\">\n  <thead>\n    <tr style=\"text-align: right;\">\n      <th></th>\n      <th>version</th>\n      <th>measurement</th>\n      <th>value</th>\n    </tr>\n    <tr>\n      <th>started</th>\n      <th></th>\n      <th></th>\n      <th></th>\n    </tr>\n  </thead>\n  <tbody>\n    <tr>\n      <th>2022-05-27 04:20:00</th>\n      <td>6.1.1</td>\n      <td>full</td>\n      <td>9922493.0</td>\n    </tr>\n    <tr>\n      <th>2022-05-27 04:20:00</th>\n      <td>6.1.1</td>\n      <td>min</td>\n      <td>4314127.0</td>\n    </tr>\n    <tr>\n      <th>2022-05-15 23:20:00</th>\n      <td>6.1.0</td>\n      <td>full</td>\n      <td>9844986.0</td>\n    </tr>\n    <tr>\n      <th>2022-05-15 23:20:00</th>\n      <td>6.1.0</td>\n      <td>min</td>\n      <td>4280428.0</td>\n    </tr>\n    <tr>\n      <th>2022-05-06 19:20:00</th>\n      <td>6.0.3</td>\n      <td>full</td>\n      <td>9767479.0</td>\n    </tr>\n    <tr>\n      <th>...</th>\n      <td>...</td>\n      <td>...</td>\n      <td>...</td>\n    </tr>\n    <tr>\n      <th>2020-03-16 08:20:00</th>\n      <td>1.0.2</td>\n      <td>min</td>\n      <td>1584533.0</td>\n    </tr>\n    <tr>\n      <th>2020-03-07 01:20:00</th>\n      <td>1.0.1</td>\n      <td>full</td>\n      <td>3566919.0</td>\n    </tr>\n    <tr>\n      <th>2020-03-07 01:20:00</th>\n      <td>1.0.1</td>\n      <td>min</td>\n      <td>1550834.0</td>\n    </tr>\n    <tr>\n      <th>2020-02-20 21:20:00</th>\n      <td>1.0.0</td>\n      <td>full</td>\n      <td>3489412.0</td>\n    </tr>\n    <tr>\n      <th>2020-02-20 21:20:00</th>\n      <td>1.0.0</td>\n      <td>min</td>\n      <td>1517135.0</td>\n    </tr>\n  </tbody>\n</table>\n<p>168 rows × 3 columns</p>\n</div>"
     },
     "execution_count": 106,
     "metadata": {},
     "output_type": "execute_result"
    }
   ],
   "source": [
    "sdk_vals = sdk_vals.drop(columns='id')\n",
    "sdk_vals = sdk_vals.set_index(keys='started')\n",
    "sdk_vals"
   ]
  },
  {
   "cell_type": "code",
   "execution_count": 107,
   "outputs": [
    {
     "data": {
      "text/plain": "version         object\nmeasurement     object\nvalue          float64\ndtype: object"
     },
     "execution_count": 107,
     "metadata": {},
     "output_type": "execute_result"
    }
   ],
   "source": [
    "# x = pd.DataFrame(columns=[\"started\",\"version\", \"measurement\", \"value\"])\n",
    "# x.set_index(keys=\"started\")\n",
    "# d = datetime.datetime.now()\n",
    "x = pd.DataFrame({\"started\":[datetime.datetime.now()], \"version\":[\"123\"], 'measurement':[\"full\"], \"value\": [3.43]}, ).set_index(\"started\")\n",
    "x.dtypes"
   ],
   "metadata": {
    "collapsed": false,
    "pycharm": {
     "name": "#%%\n"
    }
   }
  },
  {
   "cell_type": "code",
   "execution_count": 108,
   "outputs": [
    {
     "data": {
      "text/plain": "                           version measurement  value\nstarted                                              \n2022-06-29 18:46:44.871405     123        full   3.43\n2022-06-29 18:46:44.884343     123         min   1.12",
      "text/html": "<div>\n<style scoped>\n    .dataframe tbody tr th:only-of-type {\n        vertical-align: middle;\n    }\n\n    .dataframe tbody tr th {\n        vertical-align: top;\n    }\n\n    .dataframe thead th {\n        text-align: right;\n    }\n</style>\n<table border=\"1\" class=\"dataframe\">\n  <thead>\n    <tr style=\"text-align: right;\">\n      <th></th>\n      <th>version</th>\n      <th>measurement</th>\n      <th>value</th>\n    </tr>\n    <tr>\n      <th>started</th>\n      <th></th>\n      <th></th>\n      <th></th>\n    </tr>\n  </thead>\n  <tbody>\n    <tr>\n      <th>2022-06-29 18:46:44.871405</th>\n      <td>123</td>\n      <td>full</td>\n      <td>3.43</td>\n    </tr>\n    <tr>\n      <th>2022-06-29 18:46:44.884343</th>\n      <td>123</td>\n      <td>min</td>\n      <td>1.12</td>\n    </tr>\n  </tbody>\n</table>\n</div>"
     },
     "execution_count": 108,
     "metadata": {},
     "output_type": "execute_result"
    }
   ],
   "source": [
    "x.loc[datetime.datetime.now()]={\"version\":\"123\", 'measurement':\"min\", \"value\": 1.12}\n",
    "x"
   ],
   "metadata": {
    "collapsed": false,
    "pycharm": {
     "name": "#%%\n"
    }
   }
  },
  {
   "cell_type": "code",
   "execution_count": 109,
   "metadata": {
    "pycharm": {
     "name": "#%%\n"
    }
   },
   "outputs": [
    {
     "data": {
      "text/plain": "                    version measurement      value\nstarted                                           \n2022-05-27 04:20:00   6.1.1        full  9922493.0",
      "text/html": "<div>\n<style scoped>\n    .dataframe tbody tr th:only-of-type {\n        vertical-align: middle;\n    }\n\n    .dataframe tbody tr th {\n        vertical-align: top;\n    }\n\n    .dataframe thead th {\n        text-align: right;\n    }\n</style>\n<table border=\"1\" class=\"dataframe\">\n  <thead>\n    <tr style=\"text-align: right;\">\n      <th></th>\n      <th>version</th>\n      <th>measurement</th>\n      <th>value</th>\n    </tr>\n    <tr>\n      <th>started</th>\n      <th></th>\n      <th></th>\n      <th></th>\n    </tr>\n  </thead>\n  <tbody>\n    <tr>\n      <th>2022-05-27 04:20:00</th>\n      <td>6.1.1</td>\n      <td>full</td>\n      <td>9922493.0</td>\n    </tr>\n  </tbody>\n</table>\n</div>"
     },
     "execution_count": 109,
     "metadata": {},
     "output_type": "execute_result"
    }
   ],
   "source": [
    "sdk_vals.loc[(sdk_vals[\"measurement\"] == \"full\") & (sdk_vals[\"version\"] == \"6.1.1\")]"
   ]
  },
  {
   "cell_type": "code",
   "execution_count": 110,
   "metadata": {
    "pycharm": {
     "name": "#%%\n"
    }
   },
   "outputs": [
    {
     "data": {
      "text/html": "\n<div id=\"altair-viz-5df5f16d3577415c9f86bb97aa3517f2\"></div>\n<script type=\"text/javascript\">\n  var VEGA_DEBUG = (typeof VEGA_DEBUG == \"undefined\") ? {} : VEGA_DEBUG;\n  (function(spec, embedOpt){\n    let outputDiv = document.currentScript.previousElementSibling;\n    if (outputDiv.id !== \"altair-viz-5df5f16d3577415c9f86bb97aa3517f2\") {\n      outputDiv = document.getElementById(\"altair-viz-5df5f16d3577415c9f86bb97aa3517f2\");\n    }\n    const paths = {\n      \"vega\": \"https://cdn.jsdelivr.net/npm//vega@5?noext\",\n      \"vega-lib\": \"https://cdn.jsdelivr.net/npm//vega-lib?noext\",\n      \"vega-lite\": \"https://cdn.jsdelivr.net/npm//vega-lite@4.17.0?noext\",\n      \"vega-embed\": \"https://cdn.jsdelivr.net/npm//vega-embed@6?noext\",\n    };\n\n    function maybeLoadScript(lib, version) {\n      var key = `${lib.replace(\"-\", \"\")}_version`;\n      return (VEGA_DEBUG[key] == version) ?\n        Promise.resolve(paths[lib]) :\n        new Promise(function(resolve, reject) {\n          var s = document.createElement('script');\n          document.getElementsByTagName(\"head\")[0].appendChild(s);\n          s.async = true;\n          s.onload = () => {\n            VEGA_DEBUG[key] = version;\n            return resolve(paths[lib]);\n          };\n          s.onerror = () => reject(`Error loading script: ${paths[lib]}`);\n          s.src = paths[lib];\n        });\n    }\n\n    function showError(err) {\n      outputDiv.innerHTML = `<div class=\"error\" style=\"color:red;\">${err}</div>`;\n      throw err;\n    }\n\n    function displayChart(vegaEmbed) {\n      vegaEmbed(outputDiv, spec, embedOpt)\n        .catch(err => showError(`Javascript Error: ${err.message}<br>This usually means there's a typo in your chart specification. See the javascript console for the full traceback.`));\n    }\n\n    if(typeof define === \"function\" && define.amd) {\n      requirejs.config({paths});\n      require([\"vega-embed\"], displayChart, err => showError(`Error loading script: ${err.message}`));\n    } else {\n      maybeLoadScript(\"vega\", \"5\")\n        .then(() => maybeLoadScript(\"vega-lite\", \"4.17.0\"))\n        .then(() => maybeLoadScript(\"vega-embed\", \"6\"))\n        .catch(showError)\n        .then(() => displayChart(vegaEmbed));\n    }\n  })({\"config\": {\"view\": {\"continuousWidth\": 400, \"continuousHeight\": 300}}, \"layer\": [{\"data\": {\"name\": \"data-b066ea54157c855c9db2593cf7b93bdc\"}, \"mark\": {\"type\": \"point\", \"opacity\": 0.5, \"size\": 10}, \"encoding\": {\"color\": {\"field\": \"measurement\", \"type\": \"nominal\"}, \"shape\": {\"field\": \"measurement\", \"type\": \"nominal\"}, \"text\": {\"field\": \"version\", \"type\": \"nominal\"}, \"tooltip\": {\"field\": \"version\", \"type\": \"nominal\"}, \"x\": {\"field\": \"started\", \"type\": \"temporal\"}, \"y\": {\"field\": \"value\", \"type\": \"quantitative\"}}, \"selection\": {\"selector008\": {\"type\": \"interval\", \"bind\": \"scales\", \"encodings\": [\"x\", \"y\"]}}}, {\"data\": {\"name\": \"data-b066ea54157c855c9db2593cf7b93bdc\"}, \"mark\": {\"type\": \"line\", \"opacity\": 0.3, \"size\": 1}, \"encoding\": {\"color\": {\"field\": \"measurement\", \"type\": \"nominal\"}, \"shape\": {\"field\": \"measurement\", \"type\": \"nominal\"}, \"text\": {\"field\": \"version\", \"type\": \"nominal\"}, \"tooltip\": {\"field\": \"version\", \"type\": \"nominal\"}, \"x\": {\"field\": \"started\", \"type\": \"temporal\"}, \"y\": {\"field\": \"value\", \"type\": \"quantitative\"}}}, {\"data\": {\"name\": \"data-53f74962562aa0fbcea7913db762249a\"}, \"mark\": {\"type\": \"rule\", \"color\": \"red\", \"opacity\": 0.5, \"size\": 1, \"strokeDash\": [4, 4]}, \"encoding\": {\"y\": {\"field\": \"y\", \"type\": \"quantitative\"}}}, {\"data\": {\"name\": \"data-53f74962562aa0fbcea7913db762249a\"}, \"mark\": {\"type\": \"text\", \"align\": \"center\", \"baseline\": \"line-bottom\", \"dx\": -300, \"fontSize\": 12, \"opacity\": 1, \"text\": \"too much\"}, \"encoding\": {\"y\": {\"field\": \"y\", \"type\": \"quantitative\"}}}, {\"data\": {\"name\": \"data-1e46d36f9cc8177c7b8725be210ade22\"}, \"mark\": {\"type\": \"point\", \"opacity\": 1.0, \"size\": 55}, \"encoding\": {\"color\": {\"field\": \"measurement\", \"type\": \"nominal\"}, \"shape\": {\"field\": \"measurement\", \"type\": \"nominal\"}, \"text\": {\"field\": \"version\", \"type\": \"nominal\"}, \"tooltip\": {\"field\": \"version\", \"type\": \"nominal\"}, \"x\": {\"field\": \"started\", \"type\": \"temporal\"}, \"y\": {\"field\": \"value\", \"type\": \"quantitative\"}}}, {\"data\": {\"name\": \"data-1e46d36f9cc8177c7b8725be210ade22\"}, \"mark\": {\"type\": \"text\", \"align\": \"center\", \"baseline\": \"line-bottom\", \"dy\": -10}, \"encoding\": {\"color\": {\"field\": \"measurement\", \"type\": \"nominal\"}, \"shape\": {\"field\": \"measurement\", \"type\": \"nominal\"}, \"text\": {\"field\": \"version\", \"type\": \"nominal\"}, \"tooltip\": {\"field\": \"version\", \"type\": \"nominal\"}, \"x\": {\"field\": \"started\", \"type\": \"temporal\"}, \"y\": {\"field\": \"value\", \"type\": \"quantitative\"}}}], \"height\": 400, \"width\": 850, \"$schema\": \"https://vega.github.io/schema/vega-lite/v4.17.0.json\", \"datasets\": {\"data-b066ea54157c855c9db2593cf7b93bdc\": [{\"started\": \"2022-05-27T04:20:00\", \"version\": \"6.1.1\", \"measurement\": \"full\", \"value\": 9922493.0}, {\"started\": \"2022-05-27T04:20:00\", \"version\": \"6.1.1\", \"measurement\": \"min\", \"value\": 4314127.0}, {\"started\": \"2022-05-15T23:20:00\", \"version\": \"6.1.0\", \"measurement\": \"full\", \"value\": 9844986.0}, {\"started\": \"2022-05-15T23:20:00\", \"version\": \"6.1.0\", \"measurement\": \"min\", \"value\": 4280428.0}, {\"started\": \"2022-05-06T19:20:00\", \"version\": \"6.0.3\", \"measurement\": \"full\", \"value\": 9767479.0}, {\"started\": \"2022-05-06T19:20:00\", \"version\": \"6.0.3\", \"measurement\": \"min\", \"value\": 4246730.0}, {\"started\": \"2022-04-22T13:20:00\", \"version\": \"6.0.2\", \"measurement\": \"full\", \"value\": 9689972.0}, {\"started\": \"2022-04-22T13:20:00\", \"version\": \"6.0.2\", \"measurement\": \"min\", \"value\": 4213031.0}, {\"started\": \"2022-04-08T08:20:00\", \"version\": \"6.0.1\", \"measurement\": \"full\", \"value\": 9612465.0}, {\"started\": \"2022-04-08T08:20:00\", \"version\": \"6.0.1\", \"measurement\": \"min\", \"value\": 4179332.0}, {\"started\": \"2022-03-29T02:20:00\", \"version\": \"6.0.0\", \"measurement\": \"full\", \"value\": 9534958.0}, {\"started\": \"2022-03-29T02:20:00\", \"version\": \"6.0.0\", \"measurement\": \"min\", \"value\": 4145633.0}, {\"started\": \"2022-03-20T23:20:00\", \"version\": \"5.5.3\", \"measurement\": \"full\", \"value\": 9457451.0}, {\"started\": \"2022-03-20T23:20:00\", \"version\": \"5.5.3\", \"measurement\": \"min\", \"value\": 4111935.0}, {\"started\": \"2022-03-13T21:20:00\", \"version\": \"5.5.2\", \"measurement\": \"full\", \"value\": 9379944.0}, {\"started\": \"2022-03-13T21:20:00\", \"version\": \"5.5.2\", \"measurement\": \"min\", \"value\": 4078236.0}, {\"started\": \"2022-03-04T19:20:00\", \"version\": \"5.5.1\", \"measurement\": \"full\", \"value\": 9302437.0}, {\"started\": \"2022-03-04T19:20:00\", \"version\": \"5.5.1\", \"measurement\": \"min\", \"value\": 4044537.0}, {\"started\": \"2022-02-23T16:20:00\", \"version\": \"5.5.0\", \"measurement\": \"full\", \"value\": 9224930.0}, {\"started\": \"2022-02-23T16:20:00\", \"version\": \"5.5.0\", \"measurement\": \"min\", \"value\": 4010839.0}, {\"started\": \"2022-02-11T10:20:00\", \"version\": \"5.4.3\", \"measurement\": \"full\", \"value\": 9147423.0}, {\"started\": \"2022-02-11T10:20:00\", \"version\": \"5.4.3\", \"measurement\": \"min\", \"value\": 3977140.0}, {\"started\": \"2022-02-06T07:20:00\", \"version\": \"5.4.2\", \"measurement\": \"full\", \"value\": 9069916.0}, {\"started\": \"2022-02-06T07:20:00\", \"version\": \"5.4.2\", \"measurement\": \"min\", \"value\": 3943441.0}, {\"started\": \"2022-02-01T03:20:00\", \"version\": \"5.4.1\", \"measurement\": \"full\", \"value\": 8992409.0}, {\"started\": \"2022-02-01T03:20:00\", \"version\": \"5.4.1\", \"measurement\": \"min\", \"value\": 3909743.0}, {\"started\": \"2022-01-24T19:20:00\", \"version\": \"5.4.0\", \"measurement\": \"full\", \"value\": 8914902.0}, {\"started\": \"2022-01-24T19:20:00\", \"version\": \"5.4.0\", \"measurement\": \"min\", \"value\": 3876044.0}, {\"started\": \"2022-01-19T13:20:00\", \"version\": \"5.3.2\", \"measurement\": \"full\", \"value\": 8837395.0}, {\"started\": \"2022-01-19T13:20:00\", \"version\": \"5.3.2\", \"measurement\": \"min\", \"value\": 3842345.0}, {\"started\": \"2022-01-06T06:20:00\", \"version\": \"5.3.1\", \"measurement\": \"full\", \"value\": 8759888.0}, {\"started\": \"2022-01-06T06:20:00\", \"version\": \"5.3.1\", \"measurement\": \"min\", \"value\": 3808646.0}, {\"started\": \"2021-12-31T23:20:00\", \"version\": \"5.3.0\", \"measurement\": \"full\", \"value\": 8682381.0}, {\"started\": \"2021-12-31T23:20:00\", \"version\": \"5.3.0\", \"measurement\": \"min\", \"value\": 3774948.0}, {\"started\": \"2021-12-17T22:20:00\", \"version\": \"5.2.3\", \"measurement\": \"full\", \"value\": 8604874.0}, {\"started\": \"2021-12-17T22:20:00\", \"version\": \"5.2.3\", \"measurement\": \"min\", \"value\": 3741249.0}, {\"started\": \"2021-12-02T18:20:00\", \"version\": \"5.2.2\", \"measurement\": \"full\", \"value\": 8527367.0}, {\"started\": \"2021-12-02T18:20:00\", \"version\": \"5.2.2\", \"measurement\": \"min\", \"value\": 3707550.0}, {\"started\": \"2021-11-18T16:20:00\", \"version\": \"5.2.1\", \"measurement\": \"full\", \"value\": 8449860.0}, {\"started\": \"2021-11-18T16:20:00\", \"version\": \"5.2.1\", \"measurement\": \"min\", \"value\": 3673852.0}, {\"started\": \"2021-11-11T08:20:00\", \"version\": \"5.2.0\", \"measurement\": \"full\", \"value\": 8372353.0}, {\"started\": \"2021-11-11T08:20:00\", \"version\": \"5.2.0\", \"measurement\": \"min\", \"value\": 3640153.0}, {\"started\": \"2021-10-31T02:20:00\", \"version\": \"5.1.1\", \"measurement\": \"full\", \"value\": 8294846.0}, {\"started\": \"2021-10-31T02:20:00\", \"version\": \"5.1.1\", \"measurement\": \"min\", \"value\": 3606454.0}, {\"started\": \"2021-10-25T20:20:00\", \"version\": \"5.1.0\", \"measurement\": \"full\", \"value\": 8217339.0}, {\"started\": \"2021-10-25T20:20:00\", \"version\": \"5.1.0\", \"measurement\": \"min\", \"value\": 3572756.0}, {\"started\": \"2021-10-13T16:20:00\", \"version\": \"5.0.1\", \"measurement\": \"full\", \"value\": 8139832.0}, {\"started\": \"2021-10-13T16:20:00\", \"version\": \"5.0.1\", \"measurement\": \"min\", \"value\": 3539057.0}, {\"started\": \"2021-10-02T12:20:00\", \"version\": \"5.0.0\", \"measurement\": \"full\", \"value\": 8062325.0}, {\"started\": \"2021-10-02T12:20:00\", \"version\": \"5.0.0\", \"measurement\": \"min\", \"value\": 3505358.0}, {\"started\": \"2021-09-18T05:20:00\", \"version\": \"4.3.2\", \"measurement\": \"full\", \"value\": 7984818.0}, {\"started\": \"2021-09-18T05:20:00\", \"version\": \"4.3.2\", \"measurement\": \"min\", \"value\": 3471660.0}, {\"started\": \"2021-09-11T23:20:00\", \"version\": \"4.3.1\", \"measurement\": \"full\", \"value\": 7907311.0}, {\"started\": \"2021-09-11T23:20:00\", \"version\": \"4.3.1\", \"measurement\": \"min\", \"value\": 3437961.0}, {\"started\": \"2021-08-30T18:20:00\", \"version\": \"4.3.0\", \"measurement\": \"full\", \"value\": 7829804.0}, {\"started\": \"2021-08-30T18:20:00\", \"version\": \"4.3.0\", \"measurement\": \"min\", \"value\": 3404262.0}, {\"started\": \"2021-08-24T14:20:00\", \"version\": \"4.2.2\", \"measurement\": \"full\", \"value\": 7752297.0}, {\"started\": \"2021-08-24T14:20:00\", \"version\": \"4.2.2\", \"measurement\": \"min\", \"value\": 3370563.0}, {\"started\": \"2021-08-19T13:20:00\", \"version\": \"4.2.1\", \"measurement\": \"full\", \"value\": 7674790.0}, {\"started\": \"2021-08-19T13:20:00\", \"version\": \"4.2.1\", \"measurement\": \"min\", \"value\": 3336865.0}, {\"started\": \"2021-08-09T05:20:00\", \"version\": \"4.2.0\", \"measurement\": \"full\", \"value\": 7597283.0}, {\"started\": \"2021-08-09T05:20:00\", \"version\": \"4.2.0\", \"measurement\": \"min\", \"value\": 3303166.0}, {\"started\": \"2021-07-30T23:20:00\", \"version\": \"4.1.3\", \"measurement\": \"full\", \"value\": 7519776.0}, {\"started\": \"2021-07-30T23:20:00\", \"version\": \"4.1.3\", \"measurement\": \"min\", \"value\": 3269467.0}, {\"started\": \"2021-07-24T20:20:00\", \"version\": \"4.1.2\", \"measurement\": \"full\", \"value\": 7442269.0}, {\"started\": \"2021-07-24T20:20:00\", \"version\": \"4.1.2\", \"measurement\": \"min\", \"value\": 3235769.0}, {\"started\": \"2021-07-10T18:20:00\", \"version\": \"4.1.1\", \"measurement\": \"full\", \"value\": 7364762.0}, {\"started\": \"2021-07-10T18:20:00\", \"version\": \"4.1.1\", \"measurement\": \"min\", \"value\": 3202070.0}, {\"started\": \"2021-06-28T15:20:00\", \"version\": \"4.1.0\", \"measurement\": \"full\", \"value\": 7287255.0}, {\"started\": \"2021-06-28T15:20:00\", \"version\": \"4.1.0\", \"measurement\": \"min\", \"value\": 3168371.0}, {\"started\": \"2021-06-15T06:20:00\", \"version\": \"4.0.2\", \"measurement\": \"full\", \"value\": 7209748.0}, {\"started\": \"2021-06-15T06:20:00\", \"version\": \"4.0.2\", \"measurement\": \"min\", \"value\": 3134673.0}, {\"started\": \"2021-06-05T05:20:00\", \"version\": \"4.0.1\", \"measurement\": \"full\", \"value\": 7132241.0}, {\"started\": \"2021-06-05T05:20:00\", \"version\": \"4.0.1\", \"measurement\": \"min\", \"value\": 3100974.0}, {\"started\": \"2021-05-28T03:20:00\", \"version\": \"4.0.0\", \"measurement\": \"full\", \"value\": 7054734.0}, {\"started\": \"2021-05-28T03:20:00\", \"version\": \"4.0.0\", \"measurement\": \"min\", \"value\": 3067275.0}, {\"started\": \"2021-05-19T18:20:00\", \"version\": \"3.3.3\", \"measurement\": \"full\", \"value\": 6977227.0}, {\"started\": \"2021-05-19T18:20:00\", \"version\": \"3.3.3\", \"measurement\": \"min\", \"value\": 3033576.0}, {\"started\": \"2021-05-08T13:20:00\", \"version\": \"3.3.2\", \"measurement\": \"full\", \"value\": 6899720.0}, {\"started\": \"2021-05-08T13:20:00\", \"version\": \"3.3.2\", \"measurement\": \"min\", \"value\": 2999878.0}, {\"started\": \"2021-04-30T08:20:00\", \"version\": \"3.3.1\", \"measurement\": \"full\", \"value\": 6822213.0}, {\"started\": \"2021-04-30T08:20:00\", \"version\": \"3.3.1\", \"measurement\": \"min\", \"value\": 2966179.0}, {\"started\": \"2021-04-20T07:20:00\", \"version\": \"3.3.0\", \"measurement\": \"full\", \"value\": 6744706.0}, {\"started\": \"2021-04-20T07:20:00\", \"version\": \"3.3.0\", \"measurement\": \"min\", \"value\": 2932480.0}, {\"started\": \"2021-04-14T06:20:00\", \"version\": \"3.2.3\", \"measurement\": \"full\", \"value\": 6667199.0}, {\"started\": \"2021-04-14T06:20:00\", \"version\": \"3.2.3\", \"measurement\": \"min\", \"value\": 2898782.0}, {\"started\": \"2021-04-07T22:20:00\", \"version\": \"3.2.2\", \"measurement\": \"full\", \"value\": 6589692.0}, {\"started\": \"2021-04-07T22:20:00\", \"version\": \"3.2.2\", \"measurement\": \"min\", \"value\": 2865083.0}, {\"started\": \"2021-03-31T18:20:00\", \"version\": \"3.2.1\", \"measurement\": \"full\", \"value\": 6512185.0}, {\"started\": \"2021-03-31T18:20:00\", \"version\": \"3.2.1\", \"measurement\": \"min\", \"value\": 2831384.0}, {\"started\": \"2021-03-24T14:20:00\", \"version\": \"3.2.0\", \"measurement\": \"full\", \"value\": 6434678.0}, {\"started\": \"2021-03-24T14:20:00\", \"version\": \"3.2.0\", \"measurement\": \"min\", \"value\": 2797686.0}, {\"started\": \"2021-03-16T13:20:00\", \"version\": \"3.1.3\", \"measurement\": \"full\", \"value\": 6357171.0}, {\"started\": \"2021-03-16T13:20:00\", \"version\": \"3.1.3\", \"measurement\": \"min\", \"value\": 2763987.0}, {\"started\": \"2021-03-11T09:20:00\", \"version\": \"3.1.2\", \"measurement\": \"full\", \"value\": 6279664.0}, {\"started\": \"2021-03-11T09:20:00\", \"version\": \"3.1.2\", \"measurement\": \"min\", \"value\": 2730288.0}, {\"started\": \"2021-03-05T00:20:00\", \"version\": \"3.1.1\", \"measurement\": \"full\", \"value\": 6202157.0}, {\"started\": \"2021-03-05T00:20:00\", \"version\": \"3.1.1\", \"measurement\": \"min\", \"value\": 2696590.0}, {\"started\": \"2021-02-23T23:20:00\", \"version\": \"3.1.0\", \"measurement\": \"full\", \"value\": 6124650.0}, {\"started\": \"2021-02-23T23:20:00\", \"version\": \"3.1.0\", \"measurement\": \"min\", \"value\": 2662891.0}, {\"started\": \"2021-02-14T16:20:00\", \"version\": \"3.0.2\", \"measurement\": \"full\", \"value\": 6047143.0}, {\"started\": \"2021-02-14T16:20:00\", \"version\": \"3.0.2\", \"measurement\": \"min\", \"value\": 2629192.0}, {\"started\": \"2021-02-05T10:20:00\", \"version\": \"3.0.1\", \"measurement\": \"full\", \"value\": 5969636.0}, {\"started\": \"2021-02-05T10:20:00\", \"version\": \"3.0.1\", \"measurement\": \"min\", \"value\": 2595493.0}, {\"started\": \"2021-01-23T09:20:00\", \"version\": \"3.0.0\", \"measurement\": \"full\", \"value\": 5892129.0}, {\"started\": \"2021-01-23T09:20:00\", \"version\": \"3.0.0\", \"measurement\": \"min\", \"value\": 2561795.0}, {\"started\": \"2021-01-12T07:20:00\", \"version\": \"2.2.1\", \"measurement\": \"full\", \"value\": 5814622.0}, {\"started\": \"2021-01-12T07:20:00\", \"version\": \"2.2.1\", \"measurement\": \"min\", \"value\": 2528096.0}, {\"started\": \"2020-12-31T02:20:00\", \"version\": \"2.2.0\", \"measurement\": \"full\", \"value\": 5737115.0}, {\"started\": \"2020-12-31T02:20:00\", \"version\": \"2.2.0\", \"measurement\": \"min\", \"value\": 2494397.0}, {\"started\": \"2020-12-18T00:20:00\", \"version\": \"2.1.3\", \"measurement\": \"full\", \"value\": 5659608.0}, {\"started\": \"2020-12-18T00:20:00\", \"version\": \"2.1.3\", \"measurement\": \"min\", \"value\": 2460699.0}, {\"started\": \"2020-12-11T15:20:00\", \"version\": \"2.1.2\", \"measurement\": \"full\", \"value\": 5582101.0}, {\"started\": \"2020-12-11T15:20:00\", \"version\": \"2.1.2\", \"measurement\": \"min\", \"value\": 2427000.0}, {\"started\": \"2020-11-30T14:20:00\", \"version\": \"2.1.1\", \"measurement\": \"full\", \"value\": 5504594.0}, {\"started\": \"2020-11-30T14:20:00\", \"version\": \"2.1.1\", \"measurement\": \"min\", \"value\": 2393301.0}, {\"started\": \"2020-11-16T09:20:00\", \"version\": \"2.1.0\", \"measurement\": \"full\", \"value\": 5427087.0}, {\"started\": \"2020-11-16T09:20:00\", \"version\": \"2.1.0\", \"measurement\": \"min\", \"value\": 2359603.0}, {\"started\": \"2020-11-07T06:20:00\", \"version\": \"2.0.2\", \"measurement\": \"full\", \"value\": 5349580.0}, {\"started\": \"2020-11-07T06:20:00\", \"version\": \"2.0.2\", \"measurement\": \"min\", \"value\": 2325904.0}, {\"started\": \"2020-10-25T23:20:00\", \"version\": \"2.0.1\", \"measurement\": \"full\", \"value\": 5272073.0}, {\"started\": \"2020-10-25T23:20:00\", \"version\": \"2.0.1\", \"measurement\": \"min\", \"value\": 2292205.0}, {\"started\": \"2020-10-13T14:20:00\", \"version\": \"2.0.0\", \"measurement\": \"full\", \"value\": 5194566.0}, {\"started\": \"2020-10-13T14:20:00\", \"version\": \"2.0.0\", \"measurement\": \"min\", \"value\": 2258506.0}, {\"started\": \"2020-09-28T08:20:00\", \"version\": \"1.6.3\", \"measurement\": \"full\", \"value\": 5117059.0}, {\"started\": \"2020-09-28T08:20:00\", \"version\": \"1.6.3\", \"measurement\": \"min\", \"value\": 2224808.0}, {\"started\": \"2020-09-21T02:20:00\", \"version\": \"1.6.2\", \"measurement\": \"full\", \"value\": 5039552.0}, {\"started\": \"2020-09-21T02:20:00\", \"version\": \"1.6.2\", \"measurement\": \"min\", \"value\": 2191109.0}, {\"started\": \"2020-09-10T18:20:00\", \"version\": \"1.6.1\", \"measurement\": \"full\", \"value\": 4962045.0}, {\"started\": \"2020-09-10T18:20:00\", \"version\": \"1.6.1\", \"measurement\": \"min\", \"value\": 2157410.0}, {\"started\": \"2020-09-05T13:20:00\", \"version\": \"1.6.0\", \"measurement\": \"full\", \"value\": 4884538.0}, {\"started\": \"2020-09-05T13:20:00\", \"version\": \"1.6.0\", \"measurement\": \"min\", \"value\": 2123712.0}, {\"started\": \"2020-08-31T09:20:00\", \"version\": \"1.5.1\", \"measurement\": \"full\", \"value\": 4807031.0}, {\"started\": \"2020-08-31T09:20:00\", \"version\": \"1.5.1\", \"measurement\": \"min\", \"value\": 2090013.0}, {\"started\": \"2020-08-19T02:20:00\", \"version\": \"1.5.0\", \"measurement\": \"full\", \"value\": 4729524.0}, {\"started\": \"2020-08-19T02:20:00\", \"version\": \"1.5.0\", \"measurement\": \"min\", \"value\": 2056314.0}, {\"started\": \"2020-08-10T01:20:00\", \"version\": \"1.4.2\", \"measurement\": \"full\", \"value\": 4652017.0}, {\"started\": \"2020-08-10T01:20:00\", \"version\": \"1.4.2\", \"measurement\": \"min\", \"value\": 2022616.0}, {\"started\": \"2020-07-28T21:20:00\", \"version\": \"1.4.1\", \"measurement\": \"full\", \"value\": 4574510.0}, {\"started\": \"2020-07-28T21:20:00\", \"version\": \"1.4.1\", \"measurement\": \"min\", \"value\": 1988917.0}, {\"started\": \"2020-07-14T18:20:00\", \"version\": \"1.4.0\", \"measurement\": \"full\", \"value\": 4497003.0}, {\"started\": \"2020-07-14T18:20:00\", \"version\": \"1.4.0\", \"measurement\": \"min\", \"value\": 1955218.0}, {\"started\": \"2020-07-03T13:20:00\", \"version\": \"1.3.2\", \"measurement\": \"full\", \"value\": 4419496.0}, {\"started\": \"2020-07-03T13:20:00\", \"version\": \"1.3.2\", \"measurement\": \"min\", \"value\": 1921520.0}, {\"started\": \"2020-06-19T06:20:00\", \"version\": \"1.3.1\", \"measurement\": \"full\", \"value\": 4341989.0}, {\"started\": \"2020-06-19T06:20:00\", \"version\": \"1.3.1\", \"measurement\": \"min\", \"value\": 1887821.0}, {\"started\": \"2020-06-03T22:20:00\", \"version\": \"1.3.0\", \"measurement\": \"full\", \"value\": 4264482.0}, {\"started\": \"2020-06-03T22:20:00\", \"version\": \"1.3.0\", \"measurement\": \"min\", \"value\": 1854122.0}, {\"started\": \"2020-05-29T16:20:00\", \"version\": \"1.2.2\", \"measurement\": \"full\", \"value\": 4186975.0}, {\"started\": \"2020-05-29T16:20:00\", \"version\": \"1.2.2\", \"measurement\": \"min\", \"value\": 1820423.0}, {\"started\": \"2020-05-16T08:20:00\", \"version\": \"1.2.1\", \"measurement\": \"full\", \"value\": 4109468.0}, {\"started\": \"2020-05-16T08:20:00\", \"version\": \"1.2.1\", \"measurement\": \"min\", \"value\": 1786725.0}, {\"started\": \"2020-05-01T02:20:00\", \"version\": \"1.2.0\", \"measurement\": \"full\", \"value\": 4031961.0}, {\"started\": \"2020-05-01T02:20:00\", \"version\": \"1.2.0\", \"measurement\": \"min\", \"value\": 1753026.0}, {\"started\": \"2020-04-16T21:20:00\", \"version\": \"1.1.3\", \"measurement\": \"full\", \"value\": 3954454.0}, {\"started\": \"2020-04-16T21:20:00\", \"version\": \"1.1.3\", \"measurement\": \"min\", \"value\": 1719327.0}, {\"started\": \"2020-04-11T20:20:00\", \"version\": \"1.1.2\", \"measurement\": \"full\", \"value\": 3876947.0}, {\"started\": \"2020-04-11T20:20:00\", \"version\": \"1.1.2\", \"measurement\": \"min\", \"value\": 1685629.0}, {\"started\": \"2020-04-06T16:20:00\", \"version\": \"1.1.1\", \"measurement\": \"full\", \"value\": 3799440.0}, {\"started\": \"2020-04-06T16:20:00\", \"version\": \"1.1.1\", \"measurement\": \"min\", \"value\": 1651930.0}, {\"started\": \"2020-03-25T11:20:00\", \"version\": \"1.1.0\", \"measurement\": \"full\", \"value\": 3721933.0}, {\"started\": \"2020-03-25T11:20:00\", \"version\": \"1.1.0\", \"measurement\": \"min\", \"value\": 1618231.0}, {\"started\": \"2020-03-16T08:20:00\", \"version\": \"1.0.2\", \"measurement\": \"full\", \"value\": 3644426.0}, {\"started\": \"2020-03-16T08:20:00\", \"version\": \"1.0.2\", \"measurement\": \"min\", \"value\": 1584533.0}, {\"started\": \"2020-03-07T01:20:00\", \"version\": \"1.0.1\", \"measurement\": \"full\", \"value\": 3566919.0}, {\"started\": \"2020-03-07T01:20:00\", \"version\": \"1.0.1\", \"measurement\": \"min\", \"value\": 1550834.0}, {\"started\": \"2020-02-20T21:20:00\", \"version\": \"1.0.0\", \"measurement\": \"full\", \"value\": 3489412.0}, {\"started\": \"2020-02-20T21:20:00\", \"version\": \"1.0.0\", \"measurement\": \"min\", \"value\": 1517135.0}], \"data-53f74962562aa0fbcea7913db762249a\": [{\"y\": 8000000}], \"data-1e46d36f9cc8177c7b8725be210ade22\": [{\"started\": \"2022-05-27T04:20:00\", \"version\": \"6.1.1\", \"measurement\": \"full\", \"value\": 9922493.0}, {\"started\": \"2022-05-27T04:20:00\", \"version\": \"6.1.1\", \"measurement\": \"min\", \"value\": 4314127.0}, {\"started\": \"2022-05-06T19:20:00\", \"version\": \"6.0.3\", \"measurement\": \"full\", \"value\": 9767479.0}, {\"started\": \"2022-05-06T19:20:00\", \"version\": \"6.0.3\", \"measurement\": \"min\", \"value\": 4246730.0}, {\"started\": \"2022-03-20T23:20:00\", \"version\": \"5.5.3\", \"measurement\": \"full\", \"value\": 9457451.0}, {\"started\": \"2022-03-20T23:20:00\", \"version\": \"5.5.3\", \"measurement\": \"min\", \"value\": 4111935.0}, {\"started\": \"2022-02-11T10:20:00\", \"version\": \"5.4.3\", \"measurement\": \"full\", \"value\": 9147423.0}, {\"started\": \"2022-02-11T10:20:00\", \"version\": \"5.4.3\", \"measurement\": \"min\", \"value\": 3977140.0}, {\"started\": \"2022-01-19T13:20:00\", \"version\": \"5.3.2\", \"measurement\": \"full\", \"value\": 8837395.0}, {\"started\": \"2022-01-19T13:20:00\", \"version\": \"5.3.2\", \"measurement\": \"min\", \"value\": 3842345.0}, {\"started\": \"2021-12-17T22:20:00\", \"version\": \"5.2.3\", \"measurement\": \"full\", \"value\": 8604874.0}, {\"started\": \"2021-12-17T22:20:00\", \"version\": \"5.2.3\", \"measurement\": \"min\", \"value\": 3741249.0}, {\"started\": \"2021-10-31T02:20:00\", \"version\": \"5.1.1\", \"measurement\": \"full\", \"value\": 8294846.0}, {\"started\": \"2021-10-31T02:20:00\", \"version\": \"5.1.1\", \"measurement\": \"min\", \"value\": 3606454.0}, {\"started\": \"2021-10-13T16:20:00\", \"version\": \"5.0.1\", \"measurement\": \"full\", \"value\": 8139832.0}, {\"started\": \"2021-10-13T16:20:00\", \"version\": \"5.0.1\", \"measurement\": \"min\", \"value\": 3539057.0}, {\"started\": \"2021-09-18T05:20:00\", \"version\": \"4.3.2\", \"measurement\": \"full\", \"value\": 7984818.0}, {\"started\": \"2021-09-18T05:20:00\", \"version\": \"4.3.2\", \"measurement\": \"min\", \"value\": 3471660.0}, {\"started\": \"2021-08-24T14:20:00\", \"version\": \"4.2.2\", \"measurement\": \"full\", \"value\": 7752297.0}, {\"started\": \"2021-08-24T14:20:00\", \"version\": \"4.2.2\", \"measurement\": \"min\", \"value\": 3370563.0}, {\"started\": \"2021-07-30T23:20:00\", \"version\": \"4.1.3\", \"measurement\": \"full\", \"value\": 7519776.0}, {\"started\": \"2021-07-30T23:20:00\", \"version\": \"4.1.3\", \"measurement\": \"min\", \"value\": 3269467.0}, {\"started\": \"2021-06-15T06:20:00\", \"version\": \"4.0.2\", \"measurement\": \"full\", \"value\": 7209748.0}, {\"started\": \"2021-06-15T06:20:00\", \"version\": \"4.0.2\", \"measurement\": \"min\", \"value\": 3134673.0}, {\"started\": \"2021-05-19T18:20:00\", \"version\": \"3.3.3\", \"measurement\": \"full\", \"value\": 6977227.0}, {\"started\": \"2021-05-19T18:20:00\", \"version\": \"3.3.3\", \"measurement\": \"min\", \"value\": 3033576.0}, {\"started\": \"2021-04-14T06:20:00\", \"version\": \"3.2.3\", \"measurement\": \"full\", \"value\": 6667199.0}, {\"started\": \"2021-04-14T06:20:00\", \"version\": \"3.2.3\", \"measurement\": \"min\", \"value\": 2898782.0}, {\"started\": \"2021-03-16T13:20:00\", \"version\": \"3.1.3\", \"measurement\": \"full\", \"value\": 6357171.0}, {\"started\": \"2021-03-16T13:20:00\", \"version\": \"3.1.3\", \"measurement\": \"min\", \"value\": 2763987.0}, {\"started\": \"2021-02-14T16:20:00\", \"version\": \"3.0.2\", \"measurement\": \"full\", \"value\": 6047143.0}, {\"started\": \"2021-02-14T16:20:00\", \"version\": \"3.0.2\", \"measurement\": \"min\", \"value\": 2629192.0}, {\"started\": \"2021-01-12T07:20:00\", \"version\": \"2.2.1\", \"measurement\": \"full\", \"value\": 5814622.0}, {\"started\": \"2021-01-12T07:20:00\", \"version\": \"2.2.1\", \"measurement\": \"min\", \"value\": 2528096.0}, {\"started\": \"2020-12-18T00:20:00\", \"version\": \"2.1.3\", \"measurement\": \"full\", \"value\": 5659608.0}, {\"started\": \"2020-12-18T00:20:00\", \"version\": \"2.1.3\", \"measurement\": \"min\", \"value\": 2460699.0}, {\"started\": \"2020-11-07T06:20:00\", \"version\": \"2.0.2\", \"measurement\": \"full\", \"value\": 5349580.0}, {\"started\": \"2020-11-07T06:20:00\", \"version\": \"2.0.2\", \"measurement\": \"min\", \"value\": 2325904.0}, {\"started\": \"2020-09-28T08:20:00\", \"version\": \"1.6.3\", \"measurement\": \"full\", \"value\": 5117059.0}, {\"started\": \"2020-09-28T08:20:00\", \"version\": \"1.6.3\", \"measurement\": \"min\", \"value\": 2224808.0}, {\"started\": \"2020-08-31T09:20:00\", \"version\": \"1.5.1\", \"measurement\": \"full\", \"value\": 4807031.0}, {\"started\": \"2020-08-31T09:20:00\", \"version\": \"1.5.1\", \"measurement\": \"min\", \"value\": 2090013.0}, {\"started\": \"2020-08-10T01:20:00\", \"version\": \"1.4.2\", \"measurement\": \"full\", \"value\": 4652017.0}, {\"started\": \"2020-08-10T01:20:00\", \"version\": \"1.4.2\", \"measurement\": \"min\", \"value\": 2022616.0}, {\"started\": \"2020-07-03T13:20:00\", \"version\": \"1.3.2\", \"measurement\": \"full\", \"value\": 4419496.0}, {\"started\": \"2020-07-03T13:20:00\", \"version\": \"1.3.2\", \"measurement\": \"min\", \"value\": 1921520.0}, {\"started\": \"2020-05-29T16:20:00\", \"version\": \"1.2.2\", \"measurement\": \"full\", \"value\": 4186975.0}, {\"started\": \"2020-05-29T16:20:00\", \"version\": \"1.2.2\", \"measurement\": \"min\", \"value\": 1820423.0}, {\"started\": \"2020-04-16T21:20:00\", \"version\": \"1.1.3\", \"measurement\": \"full\", \"value\": 3954454.0}, {\"started\": \"2020-04-16T21:20:00\", \"version\": \"1.1.3\", \"measurement\": \"min\", \"value\": 1719327.0}, {\"started\": \"2020-03-16T08:20:00\", \"version\": \"1.0.2\", \"measurement\": \"full\", \"value\": 3644426.0}, {\"started\": \"2020-03-16T08:20:00\", \"version\": \"1.0.2\", \"measurement\": \"min\", \"value\": 1584533.0}]}}, {\"mode\": \"vega-lite\"});\n</script>",
      "text/plain": "alt.LayerChart(...)"
     },
     "execution_count": 110,
     "metadata": {},
     "output_type": "execute_result"
    }
   ],
   "source": [
    "sdk_vals_no_idx = sdk_vals.reset_index()\n",
    "base = alt.Chart(sdk_vals_no_idx).encode(\n",
    "    x=\"started\",\n",
    "    y=\"value\",\n",
    "    tooltip=\"version\",\n",
    "    text=\"version\",\n",
    "    shape=\"measurement\",\n",
    "    color=\"measurement\"\n",
    ")\n",
    "\n",
    "last_release = sdk_vals_no_idx[sdk_vals_no_idx[\"version\"] == \"6.1.1\"]\n",
    "minor_releases = last_minor_releases(sdk_vals_no_idx)\n",
    "\n",
    "last = alt.Chart(sdk_vals_no_idx[sdk_vals_no_idx[\"version\"].isin(minor_releases)]).encode(\n",
    "    x=\"started\",\n",
    "    y=\"value\",\n",
    "    tooltip=\"version\",\n",
    "    text=\"version\",\n",
    ").mark_point(size=55, opacity=1.0).encode(\n",
    "    shape=\"measurement\",\n",
    "    color=\"measurement\"\n",
    "\n",
    ")\n",
    "\n",
    "line = (alt.Chart(pd.DataFrame({'y': [8000000]})).\n",
    "        mark_rule(size=1, strokeDash=[4, 4], color=\"red\", opacity=0.5).\n",
    "        encode(y='y'))\n",
    "\n",
    "warn_text = alt.Chart(pd.DataFrame({'y': [8000000]})).mark_text(text=\"too much\", align=\"center\", opacity=1, baseline=\"line-bottom\", dx=-300, fontSize=12).encode(y=\"y\")\n",
    "\n",
    "last_text = last.mark_text(\n",
    "    align='center',\n",
    "    baseline='line-bottom',\n",
    "    dy=-10\n",
    ").encode(\n",
    "    text='version'\n",
    "\n",
    ")\n",
    "alt.layer(\n",
    "    base.mark_point(size=10, opacity=0.5),\n",
    "    base.mark_line(size=1, opacity=0.3),\n",
    "    line,\n",
    "    warn_text,\n",
    "    last,\n",
    "    last_text,\n",
    ").properties(\n",
    "    width=850,\n",
    "    height=400\n",
    ").interactive()"
   ]
  },
  {
   "cell_type": "code",
   "execution_count": 111,
   "metadata": {
    "pycharm": {
     "name": "#%%\n"
    }
   },
   "outputs": [
    {
     "data": {
      "text/plain": "(Version(major=6, minor=1, patch=1),\n Version(major=5, minor=5, patch=3),\n Version(major=6, minor=0, patch=3),\n Version(major=6, minor=1, patch=0))"
     },
     "execution_count": 111,
     "metadata": {},
     "output_type": "execute_result"
    }
   ],
   "source": [
    "versions = get_versions(sdk_vals_no_idx[\"version\"])\n",
    "r_latest = get_latest_release(versions)\n",
    "previous_major = get_previous(r_latest, versions, VersionLevel.Major)\n",
    "previous_minor = get_previous(r_latest, versions, VersionLevel.Minor)\n",
    "previous_patch = get_previous(r_latest, versions, VersionLevel.Patch)\n",
    "(r_latest, previous_major, previous_minor, previous_patch)"
   ]
  },
  {
   "cell_type": "code",
   "execution_count": 112,
   "metadata": {
    "pycharm": {
     "name": "#%%\n"
    }
   },
   "outputs": [
    {
     "data": {
      "text/plain": "4111935.0"
     },
     "execution_count": 112,
     "metadata": {},
     "output_type": "execute_result"
    }
   ],
   "source": [
    "\n",
    "def get_val(df, version, measurement):\n",
    "    return df.loc[(df[\"measurement\"] == measurement) & (df[\"version\"] == version),]\n",
    "\n",
    "\n",
    "get_val(sdk_vals_no_idx, str(previous_major), \"min\").reset_index()[\"value\"][0]"
   ]
  },
  {
   "cell_type": "code",
   "execution_count": 113,
   "metadata": {
    "pycharm": {
     "name": "#%%\n"
    }
   },
   "outputs": [
    {
     "data": {
      "text/plain": "<pandas.io.formats.style.Styler at 0x125277d90>",
      "text/html": "<style type=\"text/css\">\n</style>\n<table id=\"T_ab389\">\n  <thead>\n    <tr>\n      <th class=\"index_name level0\" >Model:</th>\n      <th id=\"T_ab389_level0_col0\" class=\"col_heading level0 col0\" colspan=\"2\">Decision Tree</th>\n      <th id=\"T_ab389_level0_col2\" class=\"col_heading level0 col2\" colspan=\"2\">Regression</th>\n      <th id=\"T_ab389_level0_col4\" class=\"col_heading level0 col4\" colspan=\"2\">Random</th>\n    </tr>\n    <tr>\n      <th class=\"index_name level1\" >Predicted:</th>\n      <th id=\"T_ab389_level1_col0\" class=\"col_heading level1 col0\" >Tumour</th>\n      <th id=\"T_ab389_level1_col1\" class=\"col_heading level1 col1\" >Non-Tumour</th>\n      <th id=\"T_ab389_level1_col2\" class=\"col_heading level1 col2\" >Tumour</th>\n      <th id=\"T_ab389_level1_col3\" class=\"col_heading level1 col3\" >Non-Tumour</th>\n      <th id=\"T_ab389_level1_col4\" class=\"col_heading level1 col4\" >Tumour</th>\n      <th id=\"T_ab389_level1_col5\" class=\"col_heading level1 col5\" >Non-Tumour</th>\n    </tr>\n    <tr>\n      <th class=\"index_name level0\" >Actual Label:</th>\n      <th class=\"blank col0\" >&nbsp;</th>\n      <th class=\"blank col1\" >&nbsp;</th>\n      <th class=\"blank col2\" >&nbsp;</th>\n      <th class=\"blank col3\" >&nbsp;</th>\n      <th class=\"blank col4\" >&nbsp;</th>\n      <th class=\"blank col5\" >&nbsp;</th>\n    </tr>\n  </thead>\n  <tbody>\n    <tr>\n      <th id=\"T_ab389_level0_row0\" class=\"row_heading level0 row0\" >Tumour (Positive)</th>\n      <td id=\"T_ab389_row0_col0\" class=\"data row0 col0\" >38.000000</td>\n      <td id=\"T_ab389_row0_col1\" class=\"data row0 col1\" >2.000000</td>\n      <td id=\"T_ab389_row0_col2\" class=\"data row0 col2\" >18.000000</td>\n      <td id=\"T_ab389_row0_col3\" class=\"data row0 col3\" >22.000000</td>\n      <td id=\"T_ab389_row0_col4\" class=\"data row0 col4\" >21</td>\n      <td id=\"T_ab389_row0_col5\" class=\"data row0 col5\" >nan</td>\n    </tr>\n    <tr>\n      <th id=\"T_ab389_level0_row1\" class=\"row_heading level0 row1\" >Non-Tumour (Negative)</th>\n      <td id=\"T_ab389_row1_col0\" class=\"data row1 col0\" >19.000000</td>\n      <td id=\"T_ab389_row1_col1\" class=\"data row1 col1\" >439.000000</td>\n      <td id=\"T_ab389_row1_col2\" class=\"data row1 col2\" >6.000000</td>\n      <td id=\"T_ab389_row1_col3\" class=\"data row1 col3\" >452.000000</td>\n      <td id=\"T_ab389_row1_col4\" class=\"data row1 col4\" >226</td>\n      <td id=\"T_ab389_row1_col5\" class=\"data row1 col5\" >232.000000</td>\n    </tr>\n  </tbody>\n</table>\n"
     },
     "execution_count": 113,
     "metadata": {},
     "output_type": "execute_result"
    }
   ],
   "source": [
    "\n",
    "df = pd.DataFrame([[38.0, 2.0, 18.0, 22.0, 21, np.nan], [19, 439, 6, 452, 226, 232]],\n",
    "                  index=pd.Index(['Tumour (Positive)', 'Non-Tumour (Negative)'], name='Actual Label:'),\n",
    "                  columns=pd.MultiIndex.from_product([['Decision Tree', 'Regression', 'Random'], ['Tumour', 'Non-Tumour']], names=['Model:', 'Predicted:']))\n",
    "df.style\n"
   ]
  },
  {
   "cell_type": "code",
   "execution_count": 114,
   "metadata": {
    "pycharm": {
     "name": "#%%\n"
    }
   },
   "outputs": [
    {
     "data": {
      "text/plain": "Model:                Decision Tree            Regression            Random  \\\nPredicted:                   Tumour Non-Tumour     Tumour Non-Tumour Tumour   \nActual Label:                                                                 \nTumour (Positive)              38.0        2.0       18.0       22.0     21   \nNon-Tumour (Negative)          19.0      439.0        6.0      452.0    226   \n\nModel:                            \nPredicted:            Non-Tumour  \nActual Label:                     \nTumour (Positive)            NaN  \nNon-Tumour (Negative)      232.0  ",
      "text/html": "<div>\n<style scoped>\n    .dataframe tbody tr th:only-of-type {\n        vertical-align: middle;\n    }\n\n    .dataframe tbody tr th {\n        vertical-align: top;\n    }\n\n    .dataframe thead tr th {\n        text-align: left;\n    }\n\n    .dataframe thead tr:last-of-type th {\n        text-align: right;\n    }\n</style>\n<table border=\"1\" class=\"dataframe\">\n  <thead>\n    <tr>\n      <th>Model:</th>\n      <th colspan=\"2\" halign=\"left\">Decision Tree</th>\n      <th colspan=\"2\" halign=\"left\">Regression</th>\n      <th colspan=\"2\" halign=\"left\">Random</th>\n    </tr>\n    <tr>\n      <th>Predicted:</th>\n      <th>Tumour</th>\n      <th>Non-Tumour</th>\n      <th>Tumour</th>\n      <th>Non-Tumour</th>\n      <th>Tumour</th>\n      <th>Non-Tumour</th>\n    </tr>\n    <tr>\n      <th>Actual Label:</th>\n      <th></th>\n      <th></th>\n      <th></th>\n      <th></th>\n      <th></th>\n      <th></th>\n    </tr>\n  </thead>\n  <tbody>\n    <tr>\n      <th>Tumour (Positive)</th>\n      <td>38.0</td>\n      <td>2.0</td>\n      <td>18.0</td>\n      <td>22.0</td>\n      <td>21</td>\n      <td>NaN</td>\n    </tr>\n    <tr>\n      <th>Non-Tumour (Negative)</th>\n      <td>19.0</td>\n      <td>439.0</td>\n      <td>6.0</td>\n      <td>452.0</td>\n      <td>226</td>\n      <td>232.0</td>\n    </tr>\n  </tbody>\n</table>\n</div>"
     },
     "execution_count": 114,
     "metadata": {},
     "output_type": "execute_result"
    }
   ],
   "source": [
    "df"
   ]
  },
  {
   "cell_type": "code",
   "execution_count": 115,
   "metadata": {
    "pycharm": {
     "name": "#%%\n"
    }
   },
   "outputs": [
    {
     "data": {
      "text/plain": "MultiIndex([('Decision Tree',     'Tumour'),\n            ('Decision Tree', 'Non-Tumour'),\n            (   'Regression',     'Tumour'),\n            (   'Regression', 'Non-Tumour'),\n            (       'Random',     'Tumour'),\n            (       'Random', 'Non-Tumour')],\n           names=['Model:', 'Predicted:'])"
     },
     "execution_count": 115,
     "metadata": {},
     "output_type": "execute_result"
    }
   ],
   "source": [
    "pd.MultiIndex.from_product([['Decision Tree', 'Regression', 'Random'], ['Tumour', 'Non-Tumour']], names=['Model:', 'Predicted:'])\n"
   ]
  },
  {
   "cell_type": "code",
   "execution_count": 116,
   "metadata": {
    "pycharm": {
     "name": "#%%\n"
    }
   },
   "outputs": [
    {
     "data": {
      "text/plain": "Model:     Decision Tree            Regression            Random           \nPredicted:        Tumour Non-Tumour     Tumour Non-Tumour Tumour Non-Tumour\n0                   38.0        2.0       18.0       22.0     21        NaN\n1                   19.0      439.0        6.0      452.0    226      232.0",
      "text/html": "<div>\n<style scoped>\n    .dataframe tbody tr th:only-of-type {\n        vertical-align: middle;\n    }\n\n    .dataframe tbody tr th {\n        vertical-align: top;\n    }\n\n    .dataframe thead tr th {\n        text-align: left;\n    }\n</style>\n<table border=\"1\" class=\"dataframe\">\n  <thead>\n    <tr>\n      <th>Model:</th>\n      <th colspan=\"2\" halign=\"left\">Decision Tree</th>\n      <th colspan=\"2\" halign=\"left\">Regression</th>\n      <th colspan=\"2\" halign=\"left\">Random</th>\n    </tr>\n    <tr>\n      <th>Predicted:</th>\n      <th>Tumour</th>\n      <th>Non-Tumour</th>\n      <th>Tumour</th>\n      <th>Non-Tumour</th>\n      <th>Tumour</th>\n      <th>Non-Tumour</th>\n    </tr>\n  </thead>\n  <tbody>\n    <tr>\n      <th>0</th>\n      <td>38.0</td>\n      <td>2.0</td>\n      <td>18.0</td>\n      <td>22.0</td>\n      <td>21</td>\n      <td>NaN</td>\n    </tr>\n    <tr>\n      <th>1</th>\n      <td>19.0</td>\n      <td>439.0</td>\n      <td>6.0</td>\n      <td>452.0</td>\n      <td>226</td>\n      <td>232.0</td>\n    </tr>\n  </tbody>\n</table>\n</div>"
     },
     "execution_count": 116,
     "metadata": {},
     "output_type": "execute_result"
    }
   ],
   "source": [
    " pd.DataFrame([[38.0, 2.0, 18.0, 22.0, 21, np.nan], [19, 439, 6, 452, 226, 232]],\n",
    "              columns=pd.MultiIndex.from_product([['Decision Tree', 'Regression', 'Random'], ['Tumour', 'Non-Tumour']], names=['Model:', 'Predicted:']))\n"
   ]
  },
  {
   "cell_type": "code",
   "execution_count": 117,
   "metadata": {
    "pycharm": {
     "name": "#%%\n"
    }
   },
   "outputs": [
    {
     "data": {
      "text/plain": "   AAA  BBB  CCC\n0    4   10  100\n1    5   20   50\n2    6   30  -30\n3    7   40  -50",
      "text/html": "<div>\n<style scoped>\n    .dataframe tbody tr th:only-of-type {\n        vertical-align: middle;\n    }\n\n    .dataframe tbody tr th {\n        vertical-align: top;\n    }\n\n    .dataframe thead th {\n        text-align: right;\n    }\n</style>\n<table border=\"1\" class=\"dataframe\">\n  <thead>\n    <tr style=\"text-align: right;\">\n      <th></th>\n      <th>AAA</th>\n      <th>BBB</th>\n      <th>CCC</th>\n    </tr>\n  </thead>\n  <tbody>\n    <tr>\n      <th>0</th>\n      <td>4</td>\n      <td>10</td>\n      <td>100</td>\n    </tr>\n    <tr>\n      <th>1</th>\n      <td>5</td>\n      <td>20</td>\n      <td>50</td>\n    </tr>\n    <tr>\n      <th>2</th>\n      <td>6</td>\n      <td>30</td>\n      <td>-30</td>\n    </tr>\n    <tr>\n      <th>3</th>\n      <td>7</td>\n      <td>40</td>\n      <td>-50</td>\n    </tr>\n  </tbody>\n</table>\n</div>"
     },
     "execution_count": 117,
     "metadata": {},
     "output_type": "execute_result"
    }
   ],
   "source": [
    "df = pd.DataFrame(\n",
    "    {\"AAA\": [4, 5, 6, 7], \"BBB\": [10, 20, 30, 40], \"CCC\": [100, 50, -30, -50]}\n",
    ")\n",
    "df\n"
   ]
  },
  {
   "cell_type": "code",
   "execution_count": 118,
   "metadata": {
    "pycharm": {
     "name": "#%%\n"
    }
   },
   "outputs": [
    {
     "data": {
      "text/plain": "   AAA  BBB  CCC\n0    4   10  100\n1    5   33   50\n2    6   33  -30\n3    7   33  -50",
      "text/html": "<div>\n<style scoped>\n    .dataframe tbody tr th:only-of-type {\n        vertical-align: middle;\n    }\n\n    .dataframe tbody tr th {\n        vertical-align: top;\n    }\n\n    .dataframe thead th {\n        text-align: right;\n    }\n</style>\n<table border=\"1\" class=\"dataframe\">\n  <thead>\n    <tr style=\"text-align: right;\">\n      <th></th>\n      <th>AAA</th>\n      <th>BBB</th>\n      <th>CCC</th>\n    </tr>\n  </thead>\n  <tbody>\n    <tr>\n      <th>0</th>\n      <td>4</td>\n      <td>10</td>\n      <td>100</td>\n    </tr>\n    <tr>\n      <th>1</th>\n      <td>5</td>\n      <td>33</td>\n      <td>50</td>\n    </tr>\n    <tr>\n      <th>2</th>\n      <td>6</td>\n      <td>33</td>\n      <td>-30</td>\n    </tr>\n    <tr>\n      <th>3</th>\n      <td>7</td>\n      <td>33</td>\n      <td>-50</td>\n    </tr>\n  </tbody>\n</table>\n</div>"
     },
     "execution_count": 118,
     "metadata": {},
     "output_type": "execute_result"
    }
   ],
   "source": [
    "df2 = df.copy()\n",
    "df2.loc[df.AAA >= 5, \"BBB\"] = 33\n",
    "df2\n"
   ]
  },
  {
   "cell_type": "code",
   "execution_count": 119,
   "metadata": {
    "pycharm": {
     "name": "#%%\n"
    }
   },
   "outputs": [
    {
     "data": {
      "text/plain": "   AAA  BBB  CCC\n0    4   10  100\n1    5   20   50\n2    6   30  -30\n3    7   40  -50",
      "text/html": "<div>\n<style scoped>\n    .dataframe tbody tr th:only-of-type {\n        vertical-align: middle;\n    }\n\n    .dataframe tbody tr th {\n        vertical-align: top;\n    }\n\n    .dataframe thead th {\n        text-align: right;\n    }\n</style>\n<table border=\"1\" class=\"dataframe\">\n  <thead>\n    <tr style=\"text-align: right;\">\n      <th></th>\n      <th>AAA</th>\n      <th>BBB</th>\n      <th>CCC</th>\n    </tr>\n  </thead>\n  <tbody>\n    <tr>\n      <th>0</th>\n      <td>4</td>\n      <td>10</td>\n      <td>100</td>\n    </tr>\n    <tr>\n      <th>1</th>\n      <td>5</td>\n      <td>20</td>\n      <td>50</td>\n    </tr>\n    <tr>\n      <th>2</th>\n      <td>6</td>\n      <td>30</td>\n      <td>-30</td>\n    </tr>\n    <tr>\n      <th>3</th>\n      <td>7</td>\n      <td>40</td>\n      <td>-50</td>\n    </tr>\n  </tbody>\n</table>\n</div>"
     },
     "execution_count": 119,
     "metadata": {},
     "output_type": "execute_result"
    }
   ],
   "source": [
    "df"
   ]
  },
  {
   "cell_type": "code",
   "execution_count": 120,
   "metadata": {
    "pycharm": {
     "name": "#%%\n"
    }
   },
   "outputs": [
    {
     "data": {
      "text/plain": "    AAA    BBB    CCC\n0  True  False   True\n1  True  False  False\n2  True  False   True\n3  True  False  False",
      "text/html": "<div>\n<style scoped>\n    .dataframe tbody tr th:only-of-type {\n        vertical-align: middle;\n    }\n\n    .dataframe tbody tr th {\n        vertical-align: top;\n    }\n\n    .dataframe thead th {\n        text-align: right;\n    }\n</style>\n<table border=\"1\" class=\"dataframe\">\n  <thead>\n    <tr style=\"text-align: right;\">\n      <th></th>\n      <th>AAA</th>\n      <th>BBB</th>\n      <th>CCC</th>\n    </tr>\n  </thead>\n  <tbody>\n    <tr>\n      <th>0</th>\n      <td>True</td>\n      <td>False</td>\n      <td>True</td>\n    </tr>\n    <tr>\n      <th>1</th>\n      <td>True</td>\n      <td>False</td>\n      <td>False</td>\n    </tr>\n    <tr>\n      <th>2</th>\n      <td>True</td>\n      <td>False</td>\n      <td>True</td>\n    </tr>\n    <tr>\n      <th>3</th>\n      <td>True</td>\n      <td>False</td>\n      <td>False</td>\n    </tr>\n  </tbody>\n</table>\n</div>"
     },
     "execution_count": 120,
     "metadata": {},
     "output_type": "execute_result"
    }
   ],
   "source": [
    "df_mask = pd.DataFrame(\n",
    "    {\"AAA\": [True] * 4, \"BBB\": [False] * 4, \"CCC\": [True, False] * 2}\n",
    ")\n",
    "df_mask\n"
   ]
  },
  {
   "cell_type": "code",
   "execution_count": 121,
   "metadata": {
    "pycharm": {
     "name": "#%%\n"
    }
   },
   "outputs": [
    {
     "data": {
      "text/plain": "   AAA  BBB    CCC\n0    4  NaN  100.0\n1    5  NaN    NaN\n2    6  NaN  -30.0\n3    7  NaN    NaN",
      "text/html": "<div>\n<style scoped>\n    .dataframe tbody tr th:only-of-type {\n        vertical-align: middle;\n    }\n\n    .dataframe tbody tr th {\n        vertical-align: top;\n    }\n\n    .dataframe thead th {\n        text-align: right;\n    }\n</style>\n<table border=\"1\" class=\"dataframe\">\n  <thead>\n    <tr style=\"text-align: right;\">\n      <th></th>\n      <th>AAA</th>\n      <th>BBB</th>\n      <th>CCC</th>\n    </tr>\n  </thead>\n  <tbody>\n    <tr>\n      <th>0</th>\n      <td>4</td>\n      <td>NaN</td>\n      <td>100.0</td>\n    </tr>\n    <tr>\n      <th>1</th>\n      <td>5</td>\n      <td>NaN</td>\n      <td>NaN</td>\n    </tr>\n    <tr>\n      <th>2</th>\n      <td>6</td>\n      <td>NaN</td>\n      <td>-30.0</td>\n    </tr>\n    <tr>\n      <th>3</th>\n      <td>7</td>\n      <td>NaN</td>\n      <td>NaN</td>\n    </tr>\n  </tbody>\n</table>\n</div>"
     },
     "execution_count": 121,
     "metadata": {},
     "output_type": "execute_result"
    }
   ],
   "source": [
    "df3 = df.where(df_mask, np.nan)\n",
    "df3"
   ]
  },
  {
   "cell_type": "code",
   "execution_count": 122,
   "metadata": {
    "pycharm": {
     "name": "#%%\n"
    }
   },
   "outputs": [
    {
     "data": {
      "text/plain": "   AAA  BBB    CCC      CCC type\n0    4  NaN  100.0      A number\n1    5  NaN    NaN  Not a number\n2    6  NaN  -30.0      A number\n3    7  NaN    NaN  Not a number",
      "text/html": "<div>\n<style scoped>\n    .dataframe tbody tr th:only-of-type {\n        vertical-align: middle;\n    }\n\n    .dataframe tbody tr th {\n        vertical-align: top;\n    }\n\n    .dataframe thead th {\n        text-align: right;\n    }\n</style>\n<table border=\"1\" class=\"dataframe\">\n  <thead>\n    <tr style=\"text-align: right;\">\n      <th></th>\n      <th>AAA</th>\n      <th>BBB</th>\n      <th>CCC</th>\n      <th>CCC type</th>\n    </tr>\n  </thead>\n  <tbody>\n    <tr>\n      <th>0</th>\n      <td>4</td>\n      <td>NaN</td>\n      <td>100.0</td>\n      <td>A number</td>\n    </tr>\n    <tr>\n      <th>1</th>\n      <td>5</td>\n      <td>NaN</td>\n      <td>NaN</td>\n      <td>Not a number</td>\n    </tr>\n    <tr>\n      <th>2</th>\n      <td>6</td>\n      <td>NaN</td>\n      <td>-30.0</td>\n      <td>A number</td>\n    </tr>\n    <tr>\n      <th>3</th>\n      <td>7</td>\n      <td>NaN</td>\n      <td>NaN</td>\n      <td>Not a number</td>\n    </tr>\n  </tbody>\n</table>\n</div>"
     },
     "execution_count": 122,
     "metadata": {},
     "output_type": "execute_result"
    }
   ],
   "source": [
    "df3[\"CCC type\"] = np.where(np.isnan(df3[\"CCC\"]), \"Not a number\", \"A number\")\n",
    "df3"
   ]
  },
  {
   "cell_type": "code",
   "execution_count": 123,
   "metadata": {
    "pycharm": {
     "name": "#%%\n"
    }
   },
   "outputs": [
    {
     "data": {
      "text/plain": "    a  b\n0   C  2\n1   C  7\n2   C  4\n3   D  1\n4   B  2\n5   D  6\n6   E  8\n7   E  4\n8   A  7\n9   A  8\n10  E  8\n11  E  8\n12  D  9",
      "text/html": "<div>\n<style scoped>\n    .dataframe tbody tr th:only-of-type {\n        vertical-align: middle;\n    }\n\n    .dataframe tbody tr th {\n        vertical-align: top;\n    }\n\n    .dataframe thead th {\n        text-align: right;\n    }\n</style>\n<table border=\"1\" class=\"dataframe\">\n  <thead>\n    <tr style=\"text-align: right;\">\n      <th></th>\n      <th>a</th>\n      <th>b</th>\n    </tr>\n  </thead>\n  <tbody>\n    <tr>\n      <th>0</th>\n      <td>C</td>\n      <td>2</td>\n    </tr>\n    <tr>\n      <th>1</th>\n      <td>C</td>\n      <td>7</td>\n    </tr>\n    <tr>\n      <th>2</th>\n      <td>C</td>\n      <td>4</td>\n    </tr>\n    <tr>\n      <th>3</th>\n      <td>D</td>\n      <td>1</td>\n    </tr>\n    <tr>\n      <th>4</th>\n      <td>B</td>\n      <td>2</td>\n    </tr>\n    <tr>\n      <th>5</th>\n      <td>D</td>\n      <td>6</td>\n    </tr>\n    <tr>\n      <th>6</th>\n      <td>E</td>\n      <td>8</td>\n    </tr>\n    <tr>\n      <th>7</th>\n      <td>E</td>\n      <td>4</td>\n    </tr>\n    <tr>\n      <th>8</th>\n      <td>A</td>\n      <td>7</td>\n    </tr>\n    <tr>\n      <th>9</th>\n      <td>A</td>\n      <td>8</td>\n    </tr>\n    <tr>\n      <th>10</th>\n      <td>E</td>\n      <td>8</td>\n    </tr>\n    <tr>\n      <th>11</th>\n      <td>E</td>\n      <td>8</td>\n    </tr>\n    <tr>\n      <th>12</th>\n      <td>D</td>\n      <td>9</td>\n    </tr>\n  </tbody>\n</table>\n</div>"
     },
     "execution_count": 123,
     "metadata": {},
     "output_type": "execute_result"
    }
   ],
   "source": [
    "data = pd.DataFrame({'a': list('CCCDBDEEAAEED'),\n",
    "                     'b': [2, 7, 4, 1, 2, 6, 8, 4, 7, 8, 8, 8, 9]})\n",
    "data\n"
   ]
  },
  {
   "cell_type": "code",
   "execution_count": 124,
   "metadata": {
    "pycharm": {
     "name": "#%%\n"
    }
   },
   "outputs": [
    {
     "data": {
      "text/html": "\n<div id=\"altair-viz-ce9b20169e50435c8d511d1c98ab6fc4\"></div>\n<script type=\"text/javascript\">\n  var VEGA_DEBUG = (typeof VEGA_DEBUG == \"undefined\") ? {} : VEGA_DEBUG;\n  (function(spec, embedOpt){\n    let outputDiv = document.currentScript.previousElementSibling;\n    if (outputDiv.id !== \"altair-viz-ce9b20169e50435c8d511d1c98ab6fc4\") {\n      outputDiv = document.getElementById(\"altair-viz-ce9b20169e50435c8d511d1c98ab6fc4\");\n    }\n    const paths = {\n      \"vega\": \"https://cdn.jsdelivr.net/npm//vega@5?noext\",\n      \"vega-lib\": \"https://cdn.jsdelivr.net/npm//vega-lib?noext\",\n      \"vega-lite\": \"https://cdn.jsdelivr.net/npm//vega-lite@4.17.0?noext\",\n      \"vega-embed\": \"https://cdn.jsdelivr.net/npm//vega-embed@6?noext\",\n    };\n\n    function maybeLoadScript(lib, version) {\n      var key = `${lib.replace(\"-\", \"\")}_version`;\n      return (VEGA_DEBUG[key] == version) ?\n        Promise.resolve(paths[lib]) :\n        new Promise(function(resolve, reject) {\n          var s = document.createElement('script');\n          document.getElementsByTagName(\"head\")[0].appendChild(s);\n          s.async = true;\n          s.onload = () => {\n            VEGA_DEBUG[key] = version;\n            return resolve(paths[lib]);\n          };\n          s.onerror = () => reject(`Error loading script: ${paths[lib]}`);\n          s.src = paths[lib];\n        });\n    }\n\n    function showError(err) {\n      outputDiv.innerHTML = `<div class=\"error\" style=\"color:red;\">${err}</div>`;\n      throw err;\n    }\n\n    function displayChart(vegaEmbed) {\n      vegaEmbed(outputDiv, spec, embedOpt)\n        .catch(err => showError(`Javascript Error: ${err.message}<br>This usually means there's a typo in your chart specification. See the javascript console for the full traceback.`));\n    }\n\n    if(typeof define === \"function\" && define.amd) {\n      requirejs.config({paths});\n      require([\"vega-embed\"], displayChart, err => showError(`Error loading script: ${err.message}`));\n    } else {\n      maybeLoadScript(\"vega\", \"5\")\n        .then(() => maybeLoadScript(\"vega-lite\", \"4.17.0\"))\n        .then(() => maybeLoadScript(\"vega-embed\", \"6\"))\n        .catch(showError)\n        .then(() => displayChart(vegaEmbed));\n    }\n  })({\"config\": {\"view\": {\"continuousWidth\": 400, \"continuousHeight\": 300}}, \"data\": {\"name\": \"data-8bdeb285656045b12bc2262186ff5b57\"}, \"mark\": \"point\", \"encoding\": {\"x\": {\"field\": \"a\", \"type\": \"nominal\"}}, \"$schema\": \"https://vega.github.io/schema/vega-lite/v4.17.0.json\", \"datasets\": {\"data-8bdeb285656045b12bc2262186ff5b57\": [{\"a\": \"C\", \"b\": 2}, {\"a\": \"C\", \"b\": 7}, {\"a\": \"C\", \"b\": 4}, {\"a\": \"D\", \"b\": 1}, {\"a\": \"B\", \"b\": 2}, {\"a\": \"D\", \"b\": 6}, {\"a\": \"E\", \"b\": 8}, {\"a\": \"E\", \"b\": 4}, {\"a\": \"A\", \"b\": 7}, {\"a\": \"A\", \"b\": 8}, {\"a\": \"E\", \"b\": 8}, {\"a\": \"E\", \"b\": 8}, {\"a\": \"D\", \"b\": 9}]}}, {\"mode\": \"vega-lite\"});\n</script>",
      "text/plain": "alt.Chart(...)"
     },
     "execution_count": 124,
     "metadata": {},
     "output_type": "execute_result"
    }
   ],
   "source": [
    "# chart = alt.Chart(data)\n",
    "alt.Chart(data).mark_point().encode(x='a')"
   ]
  },
  {
   "cell_type": "code",
   "execution_count": 125,
   "metadata": {
    "pycharm": {
     "name": "#%%\n"
    }
   },
   "outputs": [
    {
     "data": {
      "text/html": "\n<div id=\"altair-viz-a3b19bad92cf4d0891173148a5c70a3b\"></div>\n<script type=\"text/javascript\">\n  var VEGA_DEBUG = (typeof VEGA_DEBUG == \"undefined\") ? {} : VEGA_DEBUG;\n  (function(spec, embedOpt){\n    let outputDiv = document.currentScript.previousElementSibling;\n    if (outputDiv.id !== \"altair-viz-a3b19bad92cf4d0891173148a5c70a3b\") {\n      outputDiv = document.getElementById(\"altair-viz-a3b19bad92cf4d0891173148a5c70a3b\");\n    }\n    const paths = {\n      \"vega\": \"https://cdn.jsdelivr.net/npm//vega@5?noext\",\n      \"vega-lib\": \"https://cdn.jsdelivr.net/npm//vega-lib?noext\",\n      \"vega-lite\": \"https://cdn.jsdelivr.net/npm//vega-lite@4.17.0?noext\",\n      \"vega-embed\": \"https://cdn.jsdelivr.net/npm//vega-embed@6?noext\",\n    };\n\n    function maybeLoadScript(lib, version) {\n      var key = `${lib.replace(\"-\", \"\")}_version`;\n      return (VEGA_DEBUG[key] == version) ?\n        Promise.resolve(paths[lib]) :\n        new Promise(function(resolve, reject) {\n          var s = document.createElement('script');\n          document.getElementsByTagName(\"head\")[0].appendChild(s);\n          s.async = true;\n          s.onload = () => {\n            VEGA_DEBUG[key] = version;\n            return resolve(paths[lib]);\n          };\n          s.onerror = () => reject(`Error loading script: ${paths[lib]}`);\n          s.src = paths[lib];\n        });\n    }\n\n    function showError(err) {\n      outputDiv.innerHTML = `<div class=\"error\" style=\"color:red;\">${err}</div>`;\n      throw err;\n    }\n\n    function displayChart(vegaEmbed) {\n      vegaEmbed(outputDiv, spec, embedOpt)\n        .catch(err => showError(`Javascript Error: ${err.message}<br>This usually means there's a typo in your chart specification. See the javascript console for the full traceback.`));\n    }\n\n    if(typeof define === \"function\" && define.amd) {\n      requirejs.config({paths});\n      require([\"vega-embed\"], displayChart, err => showError(`Error loading script: ${err.message}`));\n    } else {\n      maybeLoadScript(\"vega\", \"5\")\n        .then(() => maybeLoadScript(\"vega-lite\", \"4.17.0\"))\n        .then(() => maybeLoadScript(\"vega-embed\", \"6\"))\n        .catch(showError)\n        .then(() => displayChart(vegaEmbed));\n    }\n  })({\"config\": {\"view\": {\"continuousWidth\": 400, \"continuousHeight\": 300}}, \"data\": {\"name\": \"data-8bdeb285656045b12bc2262186ff5b57\"}, \"mark\": \"point\", \"encoding\": {\"x\": {\"field\": \"b\", \"type\": \"quantitative\"}, \"y\": {\"field\": \"a\", \"type\": \"nominal\"}}, \"$schema\": \"https://vega.github.io/schema/vega-lite/v4.17.0.json\", \"datasets\": {\"data-8bdeb285656045b12bc2262186ff5b57\": [{\"a\": \"C\", \"b\": 2}, {\"a\": \"C\", \"b\": 7}, {\"a\": \"C\", \"b\": 4}, {\"a\": \"D\", \"b\": 1}, {\"a\": \"B\", \"b\": 2}, {\"a\": \"D\", \"b\": 6}, {\"a\": \"E\", \"b\": 8}, {\"a\": \"E\", \"b\": 4}, {\"a\": \"A\", \"b\": 7}, {\"a\": \"A\", \"b\": 8}, {\"a\": \"E\", \"b\": 8}, {\"a\": \"E\", \"b\": 8}, {\"a\": \"D\", \"b\": 9}]}}, {\"mode\": \"vega-lite\"});\n</script>",
      "text/plain": "alt.Chart(...)"
     },
     "execution_count": 125,
     "metadata": {},
     "output_type": "execute_result"
    }
   ],
   "source": [
    "alt.Chart(data).mark_point().encode(x='b', y='a')"
   ]
  },
  {
   "cell_type": "code",
   "execution_count": 126,
   "metadata": {
    "pycharm": {
     "name": "#%%\n"
    }
   },
   "outputs": [
    {
     "data": {
      "text/html": "\n<div id=\"altair-viz-8760703cb3754b25a1e362db8ca3bac3\"></div>\n<script type=\"text/javascript\">\n  var VEGA_DEBUG = (typeof VEGA_DEBUG == \"undefined\") ? {} : VEGA_DEBUG;\n  (function(spec, embedOpt){\n    let outputDiv = document.currentScript.previousElementSibling;\n    if (outputDiv.id !== \"altair-viz-8760703cb3754b25a1e362db8ca3bac3\") {\n      outputDiv = document.getElementById(\"altair-viz-8760703cb3754b25a1e362db8ca3bac3\");\n    }\n    const paths = {\n      \"vega\": \"https://cdn.jsdelivr.net/npm//vega@5?noext\",\n      \"vega-lib\": \"https://cdn.jsdelivr.net/npm//vega-lib?noext\",\n      \"vega-lite\": \"https://cdn.jsdelivr.net/npm//vega-lite@4.17.0?noext\",\n      \"vega-embed\": \"https://cdn.jsdelivr.net/npm//vega-embed@6?noext\",\n    };\n\n    function maybeLoadScript(lib, version) {\n      var key = `${lib.replace(\"-\", \"\")}_version`;\n      return (VEGA_DEBUG[key] == version) ?\n        Promise.resolve(paths[lib]) :\n        new Promise(function(resolve, reject) {\n          var s = document.createElement('script');\n          document.getElementsByTagName(\"head\")[0].appendChild(s);\n          s.async = true;\n          s.onload = () => {\n            VEGA_DEBUG[key] = version;\n            return resolve(paths[lib]);\n          };\n          s.onerror = () => reject(`Error loading script: ${paths[lib]}`);\n          s.src = paths[lib];\n        });\n    }\n\n    function showError(err) {\n      outputDiv.innerHTML = `<div class=\"error\" style=\"color:red;\">${err}</div>`;\n      throw err;\n    }\n\n    function displayChart(vegaEmbed) {\n      vegaEmbed(outputDiv, spec, embedOpt)\n        .catch(err => showError(`Javascript Error: ${err.message}<br>This usually means there's a typo in your chart specification. See the javascript console for the full traceback.`));\n    }\n\n    if(typeof define === \"function\" && define.amd) {\n      requirejs.config({paths});\n      require([\"vega-embed\"], displayChart, err => showError(`Error loading script: ${err.message}`));\n    } else {\n      maybeLoadScript(\"vega\", \"5\")\n        .then(() => maybeLoadScript(\"vega-lite\", \"4.17.0\"))\n        .then(() => maybeLoadScript(\"vega-embed\", \"6\"))\n        .catch(showError)\n        .then(() => displayChart(vegaEmbed));\n    }\n  })({\"config\": {\"view\": {\"continuousWidth\": 400, \"continuousHeight\": 300}}, \"layer\": [{\"mark\": \"bar\", \"encoding\": {\"x\": {\"field\": \"wheat\", \"type\": \"quantitative\"}, \"y\": {\"field\": \"year\", \"type\": \"ordinal\"}}}, {\"mark\": {\"type\": \"text\", \"align\": \"left\", \"baseline\": \"middle\", \"dx\": 3}, \"encoding\": {\"text\": {\"field\": \"wheat\", \"type\": \"quantitative\"}, \"x\": {\"field\": \"wheat\", \"type\": \"quantitative\"}, \"y\": {\"field\": \"year\", \"type\": \"ordinal\"}}}], \"data\": {\"name\": \"data-76d1ce26ea5761007c35827e1564d86c\"}, \"height\": 900, \"$schema\": \"https://vega.github.io/schema/vega-lite/v4.17.0.json\", \"datasets\": {\"data-76d1ce26ea5761007c35827e1564d86c\": [{\"year\": 1565, \"wheat\": 41.0, \"wages\": 5.0}, {\"year\": 1570, \"wheat\": 45.0, \"wages\": 5.05}, {\"year\": 1575, \"wheat\": 42.0, \"wages\": 5.08}, {\"year\": 1580, \"wheat\": 49.0, \"wages\": 5.12}, {\"year\": 1585, \"wheat\": 41.5, \"wages\": 5.15}, {\"year\": 1590, \"wheat\": 47.0, \"wages\": 5.25}, {\"year\": 1595, \"wheat\": 64.0, \"wages\": 5.54}, {\"year\": 1600, \"wheat\": 27.0, \"wages\": 5.61}, {\"year\": 1605, \"wheat\": 33.0, \"wages\": 5.69}, {\"year\": 1610, \"wheat\": 32.0, \"wages\": 5.78}, {\"year\": 1615, \"wheat\": 33.0, \"wages\": 5.94}, {\"year\": 1620, \"wheat\": 35.0, \"wages\": 6.01}, {\"year\": 1625, \"wheat\": 33.0, \"wages\": 6.12}, {\"year\": 1630, \"wheat\": 45.0, \"wages\": 6.22}, {\"year\": 1635, \"wheat\": 33.0, \"wages\": 6.3}, {\"year\": 1640, \"wheat\": 39.0, \"wages\": 6.37}, {\"year\": 1645, \"wheat\": 53.0, \"wages\": 6.45}, {\"year\": 1650, \"wheat\": 42.0, \"wages\": 6.5}, {\"year\": 1655, \"wheat\": 40.5, \"wages\": 6.6}, {\"year\": 1660, \"wheat\": 46.5, \"wages\": 6.75}, {\"year\": 1665, \"wheat\": 32.0, \"wages\": 6.8}, {\"year\": 1670, \"wheat\": 37.0, \"wages\": 6.9}, {\"year\": 1675, \"wheat\": 43.0, \"wages\": 7.0}, {\"year\": 1680, \"wheat\": 35.0, \"wages\": 7.3}, {\"year\": 1685, \"wheat\": 27.0, \"wages\": 7.6}, {\"year\": 1690, \"wheat\": 40.0, \"wages\": 8.0}, {\"year\": 1695, \"wheat\": 50.0, \"wages\": 8.5}, {\"year\": 1700, \"wheat\": 30.0, \"wages\": 9.0}, {\"year\": 1705, \"wheat\": 32.0, \"wages\": 10.0}, {\"year\": 1710, \"wheat\": 44.0, \"wages\": 11.0}, {\"year\": 1715, \"wheat\": 33.0, \"wages\": 11.75}, {\"year\": 1720, \"wheat\": 29.0, \"wages\": 12.5}, {\"year\": 1725, \"wheat\": 39.0, \"wages\": 13.0}, {\"year\": 1730, \"wheat\": 26.0, \"wages\": 13.3}, {\"year\": 1735, \"wheat\": 32.0, \"wages\": 13.6}, {\"year\": 1740, \"wheat\": 27.0, \"wages\": 14.0}, {\"year\": 1745, \"wheat\": 27.5, \"wages\": 14.5}, {\"year\": 1750, \"wheat\": 31.0, \"wages\": 15.0}, {\"year\": 1755, \"wheat\": 35.5, \"wages\": 15.7}, {\"year\": 1760, \"wheat\": 31.0, \"wages\": 16.5}, {\"year\": 1765, \"wheat\": 43.0, \"wages\": 17.6}, {\"year\": 1770, \"wheat\": 47.0, \"wages\": 18.5}, {\"year\": 1775, \"wheat\": 44.0, \"wages\": 19.5}, {\"year\": 1780, \"wheat\": 46.0, \"wages\": 21.0}, {\"year\": 1785, \"wheat\": 42.0, \"wages\": 23.0}, {\"year\": 1790, \"wheat\": 47.5, \"wages\": 25.5}, {\"year\": 1795, \"wheat\": 76.0, \"wages\": 27.5}, {\"year\": 1800, \"wheat\": 79.0, \"wages\": 28.5}, {\"year\": 1805, \"wheat\": 81.0, \"wages\": 29.5}, {\"year\": 1810, \"wheat\": 99.0, \"wages\": 30.0}, {\"year\": 1815, \"wheat\": 78.0, \"wages\": null}, {\"year\": 1820, \"wheat\": 54.0, \"wages\": null}]}}, {\"mode\": \"vega-lite\"});\n</script>",
      "text/plain": "alt.LayerChart(...)"
     },
     "execution_count": 126,
     "metadata": {},
     "output_type": "execute_result"
    }
   ],
   "source": [
    "\n",
    "from vega_datasets import data\n",
    "\n",
    "source = data.wheat()\n",
    "\n",
    "bars = alt.Chart(source).mark_bar().encode(\n",
    "    x='wheat:Q',\n",
    "    y=\"year:O\"\n",
    ")\n",
    "\n",
    "text = bars.mark_text(\n",
    "    align='left',\n",
    "    baseline='middle',\n",
    "    dx=3  # Nudges text to right so it doesn't appear on top of the bar\n",
    ").encode(\n",
    "    text='wheat:Q'\n",
    ")\n",
    "\n",
    "(bars + text).properties(height=900)"
   ]
  },
  {
   "cell_type": "code",
   "execution_count": 127,
   "outputs": [],
   "source": [
    "d  = datetime.datetime.now()\n",
    "started = d\n",
    "version = \"1.1.1\"\n",
    "val = 3.423\n",
    "measurement = \"full\"\n",
    "df2 = pd.DataFrame({\"started\": [started], \"version\": [version], \"measurement\": [measurement], \"value\": [val]}).set_index([\"measurement\",\"started\"])\n"
   ],
   "metadata": {
    "collapsed": false,
    "pycharm": {
     "name": "#%%\n"
    }
   }
  },
  {
   "cell_type": "code",
   "execution_count": 128,
   "outputs": [
    {
     "data": {
      "text/plain": "                                       version  value\nmeasurement started                                  \nfull        2022-06-29 18:46:45.648961   1.1.1  3.423",
      "text/html": "<div>\n<style scoped>\n    .dataframe tbody tr th:only-of-type {\n        vertical-align: middle;\n    }\n\n    .dataframe tbody tr th {\n        vertical-align: top;\n    }\n\n    .dataframe thead th {\n        text-align: right;\n    }\n</style>\n<table border=\"1\" class=\"dataframe\">\n  <thead>\n    <tr style=\"text-align: right;\">\n      <th></th>\n      <th></th>\n      <th>version</th>\n      <th>value</th>\n    </tr>\n    <tr>\n      <th>measurement</th>\n      <th>started</th>\n      <th></th>\n      <th></th>\n    </tr>\n  </thead>\n  <tbody>\n    <tr>\n      <th>full</th>\n      <th>2022-06-29 18:46:45.648961</th>\n      <td>1.1.1</td>\n      <td>3.423</td>\n    </tr>\n  </tbody>\n</table>\n</div>"
     },
     "execution_count": 128,
     "metadata": {},
     "output_type": "execute_result"
    }
   ],
   "source": [
    "df2\n"
   ],
   "metadata": {
    "collapsed": false,
    "pycharm": {
     "name": "#%%\n"
    }
   }
  },
  {
   "cell_type": "code",
   "execution_count": 129,
   "outputs": [
    {
     "data": {
      "text/plain": "                                       version  value  \\\nmeasurement started                                     \nfull        2022-06-29 18:46:45.648961   1.1.1  3.423   \nmin         NaT                            NaN    NaN   \n\n                                       2022-06-29 18:46:45.648961  \nmeasurement started                                                \nfull        2022-06-29 18:46:45.648961                        NaN  \nmin         NaT                                               NaN  ",
      "text/html": "<div>\n<style scoped>\n    .dataframe tbody tr th:only-of-type {\n        vertical-align: middle;\n    }\n\n    .dataframe tbody tr th {\n        vertical-align: top;\n    }\n\n    .dataframe thead th {\n        text-align: right;\n    }\n</style>\n<table border=\"1\" class=\"dataframe\">\n  <thead>\n    <tr style=\"text-align: right;\">\n      <th></th>\n      <th></th>\n      <th>version</th>\n      <th>value</th>\n      <th>2022-06-29 18:46:45.648961</th>\n    </tr>\n    <tr>\n      <th>measurement</th>\n      <th>started</th>\n      <th></th>\n      <th></th>\n      <th></th>\n    </tr>\n  </thead>\n  <tbody>\n    <tr>\n      <th>full</th>\n      <th>2022-06-29 18:46:45.648961</th>\n      <td>1.1.1</td>\n      <td>3.423</td>\n      <td>NaN</td>\n    </tr>\n    <tr>\n      <th>min</th>\n      <th>NaT</th>\n      <td>NaN</td>\n      <td>NaN</td>\n      <td>NaN</td>\n    </tr>\n  </tbody>\n</table>\n</div>"
     },
     "execution_count": 129,
     "metadata": {},
     "output_type": "execute_result"
    }
   ],
   "source": [
    "df2.loc[(\"min\", started)] = {\"version\":\"1.2.3\", \"value\": 3.11111}\n",
    "df2"
   ],
   "metadata": {
    "collapsed": false,
    "pycharm": {
     "name": "#%%\n"
    }
   }
  },
  {
   "cell_type": "code",
   "execution_count": 130,
   "outputs": [
    {
     "data": {
      "text/plain": "                                       version  value  \\\nmeasurement started                                     \nfull        2022-06-29 18:46:45.648961   1.1.1  3.423   \nmin         NaT                            NaN    NaN   \n\n                                       2022-06-29 18:46:45.648961  \nmeasurement started                                                \nfull        2022-06-29 18:46:45.648961                        NaN  \nmin         NaT                                               NaN  ",
      "text/html": "<div>\n<style scoped>\n    .dataframe tbody tr th:only-of-type {\n        vertical-align: middle;\n    }\n\n    .dataframe tbody tr th {\n        vertical-align: top;\n    }\n\n    .dataframe thead th {\n        text-align: right;\n    }\n</style>\n<table border=\"1\" class=\"dataframe\">\n  <thead>\n    <tr style=\"text-align: right;\">\n      <th></th>\n      <th></th>\n      <th>version</th>\n      <th>value</th>\n      <th>2022-06-29 18:46:45.648961</th>\n    </tr>\n    <tr>\n      <th>measurement</th>\n      <th>started</th>\n      <th></th>\n      <th></th>\n      <th></th>\n    </tr>\n  </thead>\n  <tbody>\n    <tr>\n      <th>full</th>\n      <th>2022-06-29 18:46:45.648961</th>\n      <td>1.1.1</td>\n      <td>3.423</td>\n      <td>NaN</td>\n    </tr>\n    <tr>\n      <th>min</th>\n      <th>NaT</th>\n      <td>NaN</td>\n      <td>NaN</td>\n      <td>NaN</td>\n    </tr>\n  </tbody>\n</table>\n</div>"
     },
     "execution_count": 130,
     "metadata": {},
     "output_type": "execute_result"
    }
   ],
   "source": [
    "df2\n"
   ],
   "metadata": {
    "collapsed": false,
    "pycharm": {
     "name": "#%%\n"
    }
   }
  },
  {
   "cell_type": "code",
   "execution_count": 131,
   "outputs": [
    {
     "data": {
      "text/plain": "version                        object\nvalue                         float64\n2022-06-29 18:46:45.648961     object\ndtype: object"
     },
     "execution_count": 131,
     "metadata": {},
     "output_type": "execute_result"
    }
   ],
   "source": [
    "df2.dtypes"
   ],
   "metadata": {
    "collapsed": false,
    "pycharm": {
     "name": "#%%\n"
    }
   }
  },
  {
   "cell_type": "code",
   "execution_count": 132,
   "outputs": [
    {
     "data": {
      "text/plain": "measurement            object\nstarted        datetime64[ns]\ndtype: object"
     },
     "execution_count": 132,
     "metadata": {},
     "output_type": "execute_result"
    }
   ],
   "source": [
    "df2.index.dtypes\n"
   ],
   "metadata": {
    "collapsed": false,
    "pycharm": {
     "name": "#%%\n"
    }
   }
  },
  {
   "cell_type": "code",
   "execution_count": 133,
   "outputs": [
    {
     "data": {
      "text/plain": "                started version measurement    value\n0   2020-09-01 12:17:00   0.0.1        full  3688846\n1   2020-09-01 12:17:00   0.0.1         min  2049359\n2   2020-09-09 16:17:00   0.1.0        full  3778952\n3   2020-09-09 16:17:00   0.1.0         min  2099418\n4   2020-09-15 08:17:00   0.1.1        full  3881374\n..                  ...     ...         ...      ...\n187 2023-07-18 11:17:00  22.0.1         min  4864122\n188 2023-08-02 19:17:00  22.1.0        full  8854021\n189 2023-08-02 19:17:00  22.1.0         min  4918901\n190 2023-08-18 04:17:00  22.1.1        full  8855303\n191 2023-08-18 04:17:00  22.1.1         min  4919613\n\n[192 rows x 4 columns]",
      "text/html": "<div>\n<style scoped>\n    .dataframe tbody tr th:only-of-type {\n        vertical-align: middle;\n    }\n\n    .dataframe tbody tr th {\n        vertical-align: top;\n    }\n\n    .dataframe thead th {\n        text-align: right;\n    }\n</style>\n<table border=\"1\" class=\"dataframe\">\n  <thead>\n    <tr style=\"text-align: right;\">\n      <th></th>\n      <th>started</th>\n      <th>version</th>\n      <th>measurement</th>\n      <th>value</th>\n    </tr>\n  </thead>\n  <tbody>\n    <tr>\n      <th>0</th>\n      <td>2020-09-01 12:17:00</td>\n      <td>0.0.1</td>\n      <td>full</td>\n      <td>3688846</td>\n    </tr>\n    <tr>\n      <th>1</th>\n      <td>2020-09-01 12:17:00</td>\n      <td>0.0.1</td>\n      <td>min</td>\n      <td>2049359</td>\n    </tr>\n    <tr>\n      <th>2</th>\n      <td>2020-09-09 16:17:00</td>\n      <td>0.1.0</td>\n      <td>full</td>\n      <td>3778952</td>\n    </tr>\n    <tr>\n      <th>3</th>\n      <td>2020-09-09 16:17:00</td>\n      <td>0.1.0</td>\n      <td>min</td>\n      <td>2099418</td>\n    </tr>\n    <tr>\n      <th>4</th>\n      <td>2020-09-15 08:17:00</td>\n      <td>0.1.1</td>\n      <td>full</td>\n      <td>3881374</td>\n    </tr>\n    <tr>\n      <th>...</th>\n      <td>...</td>\n      <td>...</td>\n      <td>...</td>\n      <td>...</td>\n    </tr>\n    <tr>\n      <th>187</th>\n      <td>2023-07-18 11:17:00</td>\n      <td>22.0.1</td>\n      <td>min</td>\n      <td>4864122</td>\n    </tr>\n    <tr>\n      <th>188</th>\n      <td>2023-08-02 19:17:00</td>\n      <td>22.1.0</td>\n      <td>full</td>\n      <td>8854021</td>\n    </tr>\n    <tr>\n      <th>189</th>\n      <td>2023-08-02 19:17:00</td>\n      <td>22.1.0</td>\n      <td>min</td>\n      <td>4918901</td>\n    </tr>\n    <tr>\n      <th>190</th>\n      <td>2023-08-18 04:17:00</td>\n      <td>22.1.1</td>\n      <td>full</td>\n      <td>8855303</td>\n    </tr>\n    <tr>\n      <th>191</th>\n      <td>2023-08-18 04:17:00</td>\n      <td>22.1.1</td>\n      <td>min</td>\n      <td>4919613</td>\n    </tr>\n  </tbody>\n</table>\n<p>192 rows × 4 columns</p>\n</div>"
     },
     "execution_count": 133,
     "metadata": {},
     "output_type": "execute_result"
    }
   ],
   "source": [
    "from display_data import get_sdk_size\n",
    "\n",
    "df2 = get_sdk_size()\n",
    "df2\n"
   ],
   "metadata": {
    "collapsed": false,
    "pycharm": {
     "name": "#%%\n"
    }
   }
  },
  {
   "cell_type": "code",
   "execution_count": 134,
   "outputs": [
    {
     "data": {
      "text/plain": "RangeIndex(start=0, stop=192, step=1)"
     },
     "execution_count": 134,
     "metadata": {},
     "output_type": "execute_result"
    }
   ],
   "source": [
    "df2.index\n"
   ],
   "metadata": {
    "collapsed": false,
    "pycharm": {
     "name": "#%%\n"
    }
   }
  },
  {
   "cell_type": "code",
   "execution_count": 134,
   "outputs": [],
   "source": [],
   "metadata": {
    "collapsed": false,
    "pycharm": {
     "name": "#%%\n"
    }
   }
  },
  {
   "cell_type": "code",
   "execution_count": 135,
   "outputs": [
    {
     "data": {
      "text/plain": "                started version measurement    value\n0   2020-09-01 12:17:00   0.0.1        full  3688846\n1   2020-09-01 12:17:00   0.0.1         min  2049359\n2   2020-09-09 16:17:00   0.1.0        full  3778952\n3   2020-09-09 16:17:00   0.1.0         min  2099418\n4   2020-09-15 08:17:00   0.1.1        full  3881374\n..                  ...     ...         ...      ...\n187 2023-07-18 11:17:00  22.0.1         min  4864122\n188 2023-08-02 19:17:00  22.1.0        full  8854021\n189 2023-08-02 19:17:00  22.1.0         min  4918901\n190 2023-08-18 04:17:00  22.1.1        full  8855303\n191 2023-08-18 04:17:00  22.1.1         min  4919613\n\n[192 rows x 4 columns]",
      "text/html": "<div>\n<style scoped>\n    .dataframe tbody tr th:only-of-type {\n        vertical-align: middle;\n    }\n\n    .dataframe tbody tr th {\n        vertical-align: top;\n    }\n\n    .dataframe thead th {\n        text-align: right;\n    }\n</style>\n<table border=\"1\" class=\"dataframe\">\n  <thead>\n    <tr style=\"text-align: right;\">\n      <th></th>\n      <th>started</th>\n      <th>version</th>\n      <th>measurement</th>\n      <th>value</th>\n    </tr>\n  </thead>\n  <tbody>\n    <tr>\n      <th>0</th>\n      <td>2020-09-01 12:17:00</td>\n      <td>0.0.1</td>\n      <td>full</td>\n      <td>3688846</td>\n    </tr>\n    <tr>\n      <th>1</th>\n      <td>2020-09-01 12:17:00</td>\n      <td>0.0.1</td>\n      <td>min</td>\n      <td>2049359</td>\n    </tr>\n    <tr>\n      <th>2</th>\n      <td>2020-09-09 16:17:00</td>\n      <td>0.1.0</td>\n      <td>full</td>\n      <td>3778952</td>\n    </tr>\n    <tr>\n      <th>3</th>\n      <td>2020-09-09 16:17:00</td>\n      <td>0.1.0</td>\n      <td>min</td>\n      <td>2099418</td>\n    </tr>\n    <tr>\n      <th>4</th>\n      <td>2020-09-15 08:17:00</td>\n      <td>0.1.1</td>\n      <td>full</td>\n      <td>3881374</td>\n    </tr>\n    <tr>\n      <th>...</th>\n      <td>...</td>\n      <td>...</td>\n      <td>...</td>\n      <td>...</td>\n    </tr>\n    <tr>\n      <th>187</th>\n      <td>2023-07-18 11:17:00</td>\n      <td>22.0.1</td>\n      <td>min</td>\n      <td>4864122</td>\n    </tr>\n    <tr>\n      <th>188</th>\n      <td>2023-08-02 19:17:00</td>\n      <td>22.1.0</td>\n      <td>full</td>\n      <td>8854021</td>\n    </tr>\n    <tr>\n      <th>189</th>\n      <td>2023-08-02 19:17:00</td>\n      <td>22.1.0</td>\n      <td>min</td>\n      <td>4918901</td>\n    </tr>\n    <tr>\n      <th>190</th>\n      <td>2023-08-18 04:17:00</td>\n      <td>22.1.1</td>\n      <td>full</td>\n      <td>8855303</td>\n    </tr>\n    <tr>\n      <th>191</th>\n      <td>2023-08-18 04:17:00</td>\n      <td>22.1.1</td>\n      <td>min</td>\n      <td>4919613</td>\n    </tr>\n  </tbody>\n</table>\n<p>192 rows × 4 columns</p>\n</div>"
     },
     "execution_count": 135,
     "metadata": {},
     "output_type": "execute_result"
    }
   ],
   "source": [
    "df2\n"
   ],
   "metadata": {
    "collapsed": false,
    "pycharm": {
     "name": "#%%\n"
    }
   }
  },
  {
   "cell_type": "code",
   "execution_count": 137,
   "outputs": [
    {
     "data": {
      "text/html": "\n<div id=\"altair-viz-449def433f7940cd8574cec547957061\"></div>\n<script type=\"text/javascript\">\n  var VEGA_DEBUG = (typeof VEGA_DEBUG == \"undefined\") ? {} : VEGA_DEBUG;\n  (function(spec, embedOpt){\n    let outputDiv = document.currentScript.previousElementSibling;\n    if (outputDiv.id !== \"altair-viz-449def433f7940cd8574cec547957061\") {\n      outputDiv = document.getElementById(\"altair-viz-449def433f7940cd8574cec547957061\");\n    }\n    const paths = {\n      \"vega\": \"https://cdn.jsdelivr.net/npm//vega@5?noext\",\n      \"vega-lib\": \"https://cdn.jsdelivr.net/npm//vega-lib?noext\",\n      \"vega-lite\": \"https://cdn.jsdelivr.net/npm//vega-lite@4.17.0?noext\",\n      \"vega-embed\": \"https://cdn.jsdelivr.net/npm//vega-embed@6?noext\",\n    };\n\n    function maybeLoadScript(lib, version) {\n      var key = `${lib.replace(\"-\", \"\")}_version`;\n      return (VEGA_DEBUG[key] == version) ?\n        Promise.resolve(paths[lib]) :\n        new Promise(function(resolve, reject) {\n          var s = document.createElement('script');\n          document.getElementsByTagName(\"head\")[0].appendChild(s);\n          s.async = true;\n          s.onload = () => {\n            VEGA_DEBUG[key] = version;\n            return resolve(paths[lib]);\n          };\n          s.onerror = () => reject(`Error loading script: ${paths[lib]}`);\n          s.src = paths[lib];\n        });\n    }\n\n    function showError(err) {\n      outputDiv.innerHTML = `<div class=\"error\" style=\"color:red;\">${err}</div>`;\n      throw err;\n    }\n\n    function displayChart(vegaEmbed) {\n      vegaEmbed(outputDiv, spec, embedOpt)\n        .catch(err => showError(`Javascript Error: ${err.message}<br>This usually means there's a typo in your chart specification. See the javascript console for the full traceback.`));\n    }\n\n    if(typeof define === \"function\" && define.amd) {\n      requirejs.config({paths});\n      require([\"vega-embed\"], displayChart, err => showError(`Error loading script: ${err.message}`));\n    } else {\n      maybeLoadScript(\"vega\", \"5\")\n        .then(() => maybeLoadScript(\"vega-lite\", \"4.17.0\"))\n        .then(() => maybeLoadScript(\"vega-embed\", \"6\"))\n        .catch(showError)\n        .then(() => displayChart(vegaEmbed));\n    }\n  })({\"config\": {\"view\": {\"continuousWidth\": 400, \"continuousHeight\": 300}}, \"layer\": [{\"data\": {\"name\": \"data-1ec5824663ac22466adcac805119f63f\"}, \"mark\": {\"type\": \"point\", \"opacity\": 0.5, \"size\": 10}, \"encoding\": {\"color\": {\"field\": \"measurement\", \"type\": \"nominal\"}, \"shape\": {\"field\": \"measurement\", \"type\": \"nominal\"}, \"text\": {\"field\": \"version\", \"type\": \"nominal\"}, \"tooltip\": {\"field\": \"version\", \"type\": \"nominal\"}, \"x\": {\"field\": \"started\", \"type\": \"temporal\"}, \"y\": {\"field\": \"value\", \"type\": \"quantitative\"}}, \"selection\": {\"selector010\": {\"type\": \"interval\", \"bind\": \"scales\", \"encodings\": [\"x\", \"y\"]}}}, {\"data\": {\"name\": \"data-1ec5824663ac22466adcac805119f63f\"}, \"mark\": {\"type\": \"line\", \"opacity\": 0.3, \"size\": 1}, \"encoding\": {\"color\": {\"field\": \"measurement\", \"type\": \"nominal\"}, \"shape\": {\"field\": \"measurement\", \"type\": \"nominal\"}, \"text\": {\"field\": \"version\", \"type\": \"nominal\"}, \"tooltip\": {\"field\": \"version\", \"type\": \"nominal\"}, \"x\": {\"field\": \"started\", \"type\": \"temporal\"}, \"y\": {\"field\": \"value\", \"type\": \"quantitative\"}}}, {\"data\": {\"name\": \"data-53f74962562aa0fbcea7913db762249a\"}, \"mark\": {\"type\": \"rule\", \"color\": \"red\", \"opacity\": 0.5, \"size\": 1, \"strokeDash\": [4, 4]}, \"encoding\": {\"y\": {\"field\": \"y\", \"type\": \"quantitative\"}}}, {\"data\": {\"name\": \"data-53f74962562aa0fbcea7913db762249a\"}, \"mark\": {\"type\": \"text\", \"align\": \"center\", \"baseline\": \"line-bottom\", \"dx\": -350, \"fontSize\": 14, \"opacity\": 1, \"text\": \"too much\"}, \"encoding\": {\"y\": {\"field\": \"y\", \"type\": \"quantitative\"}}}, {\"data\": {\"name\": \"data-6ca509988bbce2b3162f8e1af0b5f37a\"}, \"mark\": {\"type\": \"point\", \"opacity\": 1.0, \"size\": 55}, \"encoding\": {\"color\": {\"field\": \"measurement\", \"type\": \"nominal\"}, \"shape\": {\"field\": \"measurement\", \"type\": \"nominal\"}, \"text\": {\"field\": \"version\", \"type\": \"nominal\"}, \"tooltip\": {\"field\": \"version\", \"type\": \"nominal\"}, \"x\": {\"field\": \"started\", \"type\": \"temporal\"}, \"y\": {\"field\": \"value\", \"type\": \"quantitative\"}}}, {\"data\": {\"name\": \"data-6ca509988bbce2b3162f8e1af0b5f37a\"}, \"mark\": {\"type\": \"text\", \"align\": \"center\", \"baseline\": \"line-bottom\", \"dy\": -10}, \"encoding\": {\"color\": {\"field\": \"measurement\", \"type\": \"nominal\"}, \"shape\": {\"field\": \"measurement\", \"type\": \"nominal\"}, \"text\": {\"field\": \"version\", \"type\": \"nominal\"}, \"tooltip\": {\"field\": \"version\", \"type\": \"nominal\"}, \"x\": {\"field\": \"started\", \"type\": \"temporal\"}, \"y\": {\"field\": \"value\", \"type\": \"quantitative\"}}}], \"height\": 400, \"width\": 850, \"$schema\": \"https://vega.github.io/schema/vega-lite/v4.17.0.json\", \"datasets\": {\"data-1ec5824663ac22466adcac805119f63f\": [{\"started\": \"2020-09-01T12:17:00\", \"version\": \"0.0.1\", \"measurement\": \"full\", \"value\": 3688846}, {\"started\": \"2020-09-01T12:17:00\", \"version\": \"0.0.1\", \"measurement\": \"min\", \"value\": 2049359}, {\"started\": \"2020-09-09T16:17:00\", \"version\": \"0.1.0\", \"measurement\": \"full\", \"value\": 3778952}, {\"started\": \"2020-09-09T16:17:00\", \"version\": \"0.1.0\", \"measurement\": \"min\", \"value\": 2099418}, {\"started\": \"2020-09-15T08:17:00\", \"version\": \"0.1.1\", \"measurement\": \"full\", \"value\": 3881374}, {\"started\": \"2020-09-15T08:17:00\", \"version\": \"0.1.1\", \"measurement\": \"min\", \"value\": 2156319}, {\"started\": \"2020-09-30T02:17:00\", \"version\": \"0.1.2\", \"measurement\": \"full\", \"value\": 3910462}, {\"started\": \"2020-09-30T02:17:00\", \"version\": \"0.1.2\", \"measurement\": \"min\", \"value\": 2172479}, {\"started\": \"2020-10-14T16:17:00\", \"version\": \"0.2.0\", \"measurement\": \"full\", \"value\": 3914929}, {\"started\": \"2020-10-14T16:17:00\", \"version\": \"0.2.0\", \"measurement\": \"min\", \"value\": 2174961}, {\"started\": \"2020-10-21T20:17:00\", \"version\": \"1.0.0\", \"measurement\": \"full\", \"value\": 3918123}, {\"started\": \"2020-10-21T20:17:00\", \"version\": \"1.0.0\", \"measurement\": \"min\", \"value\": 2176735}, {\"started\": \"2020-10-28T08:17:00\", \"version\": \"1.0.1\", \"measurement\": \"full\", \"value\": 3926484}, {\"started\": \"2020-10-28T08:17:00\", \"version\": \"1.0.1\", \"measurement\": \"min\", \"value\": 2181380}, {\"started\": \"2020-11-10T16:17:00\", \"version\": \"1.0.2\", \"measurement\": \"full\", \"value\": 3990969}, {\"started\": \"2020-11-10T16:17:00\", \"version\": \"1.0.2\", \"measurement\": \"min\", \"value\": 2217205}, {\"started\": \"2020-11-21T09:17:00\", \"version\": \"1.1.0\", \"measurement\": \"full\", \"value\": 3992211}, {\"started\": \"2020-11-21T09:17:00\", \"version\": \"1.1.0\", \"measurement\": \"min\", \"value\": 2217895}, {\"started\": \"2020-11-26T17:17:00\", \"version\": \"1.1.1\", \"measurement\": \"full\", \"value\": 4098976}, {\"started\": \"2020-11-26T17:17:00\", \"version\": \"1.1.1\", \"measurement\": \"min\", \"value\": 2277209}, {\"started\": \"2020-12-13T06:17:00\", \"version\": \"1.2.0\", \"measurement\": \"full\", \"value\": 4126343}, {\"started\": \"2020-12-13T06:17:00\", \"version\": \"1.2.0\", \"measurement\": \"min\", \"value\": 2292413}, {\"started\": \"2020-12-26T15:17:00\", \"version\": \"1.2.1\", \"measurement\": \"full\", \"value\": 4218274}, {\"started\": \"2020-12-26T15:17:00\", \"version\": \"1.2.1\", \"measurement\": \"min\", \"value\": 2343486}, {\"started\": \"2021-01-13T09:17:00\", \"version\": \"1.3.0\", \"measurement\": \"full\", \"value\": 4222463}, {\"started\": \"2021-01-13T09:17:00\", \"version\": \"1.3.0\", \"measurement\": \"min\", \"value\": 2345813}, {\"started\": \"2021-01-20T18:17:00\", \"version\": \"1.3.1\", \"measurement\": \"full\", \"value\": 4250451}, {\"started\": \"2021-01-20T18:17:00\", \"version\": \"1.3.1\", \"measurement\": \"min\", \"value\": 2361362}, {\"started\": \"2021-02-06T02:17:00\", \"version\": \"1.3.2\", \"measurement\": \"full\", \"value\": 4255774}, {\"started\": \"2021-02-06T02:17:00\", \"version\": \"1.3.2\", \"measurement\": \"min\", \"value\": 2364319}, {\"started\": \"2021-02-14T14:17:00\", \"version\": \"2.0.0\", \"measurement\": \"full\", \"value\": 4288784}, {\"started\": \"2021-02-14T14:17:00\", \"version\": \"2.0.0\", \"measurement\": \"min\", \"value\": 2382658}, {\"started\": \"2021-02-28T17:17:00\", \"version\": \"2.1.0\", \"measurement\": \"full\", \"value\": 4296254}, {\"started\": \"2021-02-28T17:17:00\", \"version\": \"2.1.0\", \"measurement\": \"min\", \"value\": 2386808}, {\"started\": \"2021-03-06T06:17:00\", \"version\": \"2.1.1\", \"measurement\": \"full\", \"value\": 4357103}, {\"started\": \"2021-03-06T06:17:00\", \"version\": \"2.1.1\", \"measurement\": \"min\", \"value\": 2420613}, {\"started\": \"2021-03-11T15:17:00\", \"version\": \"3.0.0\", \"measurement\": \"full\", \"value\": 4388947}, {\"started\": \"2021-03-11T15:17:00\", \"version\": \"3.0.0\", \"measurement\": \"min\", \"value\": 2438304}, {\"started\": \"2021-03-19T02:17:00\", \"version\": \"3.0.1\", \"measurement\": \"full\", \"value\": 4398793}, {\"started\": \"2021-03-19T02:17:00\", \"version\": \"3.0.1\", \"measurement\": \"min\", \"value\": 2443774}, {\"started\": \"2021-03-24T19:17:00\", \"version\": \"3.0.2\", \"measurement\": \"full\", \"value\": 4459948}, {\"started\": \"2021-03-24T19:17:00\", \"version\": \"3.0.2\", \"measurement\": \"min\", \"value\": 2477749}, {\"started\": \"2021-04-11T04:17:00\", \"version\": \"4.0.0\", \"measurement\": \"full\", \"value\": 4528119}, {\"started\": \"2021-04-11T04:17:00\", \"version\": \"4.0.0\", \"measurement\": \"min\", \"value\": 2515622}, {\"started\": \"2021-04-27T11:17:00\", \"version\": \"4.0.1\", \"measurement\": \"full\", \"value\": 4553166}, {\"started\": \"2021-04-27T11:17:00\", \"version\": \"4.0.1\", \"measurement\": \"min\", \"value\": 2529537}, {\"started\": \"2021-05-10T21:17:00\", \"version\": \"4.1.0\", \"measurement\": \"full\", \"value\": 4655550}, {\"started\": \"2021-05-10T21:17:00\", \"version\": \"4.1.0\", \"measurement\": \"min\", \"value\": 2586417}, {\"started\": \"2021-05-17T08:17:00\", \"version\": \"4.2.0\", \"measurement\": \"full\", \"value\": 4745597}, {\"started\": \"2021-05-17T08:17:00\", \"version\": \"4.2.0\", \"measurement\": \"min\", \"value\": 2636443}, {\"started\": \"2021-05-29T01:17:00\", \"version\": \"4.2.1\", \"measurement\": \"full\", \"value\": 4763399}, {\"started\": \"2021-05-29T01:17:00\", \"version\": \"4.2.1\", \"measurement\": \"min\", \"value\": 2646333}, {\"started\": \"2021-06-10T17:17:00\", \"version\": \"4.3.0\", \"measurement\": \"full\", \"value\": 4764501}, {\"started\": \"2021-06-10T17:17:00\", \"version\": \"4.3.0\", \"measurement\": \"min\", \"value\": 2646945}, {\"started\": \"2021-06-28T01:17:00\", \"version\": \"4.3.1\", \"measurement\": \"full\", \"value\": 4870686}, {\"started\": \"2021-06-28T01:17:00\", \"version\": \"4.3.1\", \"measurement\": \"min\", \"value\": 2705937}, {\"started\": \"2021-07-07T07:17:00\", \"version\": \"4.3.2\", \"measurement\": \"full\", \"value\": 4973054}, {\"started\": \"2021-07-07T07:17:00\", \"version\": \"4.3.2\", \"measurement\": \"min\", \"value\": 2762808}, {\"started\": \"2021-07-23T18:17:00\", \"version\": \"5.0.0\", \"measurement\": \"full\", \"value\": 5060118}, {\"started\": \"2021-07-23T18:17:00\", \"version\": \"5.0.0\", \"measurement\": \"min\", \"value\": 2811177}, {\"started\": \"2021-07-29T04:17:00\", \"version\": \"5.0.1\", \"measurement\": \"full\", \"value\": 5094343}, {\"started\": \"2021-07-29T04:17:00\", \"version\": \"5.0.1\", \"measurement\": \"min\", \"value\": 2830191}, {\"started\": \"2021-08-05T08:17:00\", \"version\": \"6.0.0\", \"measurement\": \"full\", \"value\": 5104103}, {\"started\": \"2021-08-05T08:17:00\", \"version\": \"6.0.0\", \"measurement\": \"min\", \"value\": 2835613}, {\"started\": \"2021-08-16T01:17:00\", \"version\": \"7.0.0\", \"measurement\": \"full\", \"value\": 5208949}, {\"started\": \"2021-08-16T01:17:00\", \"version\": \"7.0.0\", \"measurement\": \"min\", \"value\": 2893861}, {\"started\": \"2021-08-23T13:17:00\", \"version\": \"7.0.1\", \"measurement\": \"full\", \"value\": 5219991}, {\"started\": \"2021-08-23T13:17:00\", \"version\": \"7.0.1\", \"measurement\": \"min\", \"value\": 2899995}, {\"started\": \"2021-09-06T23:17:00\", \"version\": \"7.0.2\", \"measurement\": \"full\", \"value\": 5243007}, {\"started\": \"2021-09-06T23:17:00\", \"version\": \"7.0.2\", \"measurement\": \"min\", \"value\": 2912782}, {\"started\": \"2021-09-21T11:17:00\", \"version\": \"7.1.0\", \"measurement\": \"full\", \"value\": 5257231}, {\"started\": \"2021-09-21T11:17:00\", \"version\": \"7.1.0\", \"measurement\": \"min\", \"value\": 2920684}, {\"started\": \"2021-10-04T22:17:00\", \"version\": \"8.0.0\", \"measurement\": \"full\", \"value\": 5341611}, {\"started\": \"2021-10-04T22:17:00\", \"version\": \"8.0.0\", \"measurement\": \"min\", \"value\": 2967562}, {\"started\": \"2021-10-19T04:17:00\", \"version\": \"8.0.1\", \"measurement\": \"full\", \"value\": 5437281}, {\"started\": \"2021-10-19T04:17:00\", \"version\": \"8.0.1\", \"measurement\": \"min\", \"value\": 3020712}, {\"started\": \"2021-11-04T12:17:00\", \"version\": \"9.0.0\", \"measurement\": \"full\", \"value\": 5480859}, {\"started\": \"2021-11-04T12:17:00\", \"version\": \"9.0.0\", \"measurement\": \"min\", \"value\": 3044922}, {\"started\": \"2021-11-16T21:17:00\", \"version\": \"9.0.1\", \"measurement\": \"full\", \"value\": 5490365}, {\"started\": \"2021-11-16T21:17:00\", \"version\": \"9.0.1\", \"measurement\": \"min\", \"value\": 3050203}, {\"started\": \"2021-12-04T14:17:00\", \"version\": \"9.0.2\", \"measurement\": \"full\", \"value\": 5578830}, {\"started\": \"2021-12-04T14:17:00\", \"version\": \"9.0.2\", \"measurement\": \"min\", \"value\": 3099350}, {\"started\": \"2021-12-16T07:17:00\", \"version\": \"10.0.0\", \"measurement\": \"full\", \"value\": 5664184}, {\"started\": \"2021-12-16T07:17:00\", \"version\": \"10.0.0\", \"measurement\": \"min\", \"value\": 3146769}, {\"started\": \"2021-12-22T17:17:00\", \"version\": \"10.0.1\", \"measurement\": \"full\", \"value\": 5678899}, {\"started\": \"2021-12-22T17:17:00\", \"version\": \"10.0.1\", \"measurement\": \"min\", \"value\": 3154944}, {\"started\": \"2022-01-09T11:17:00\", \"version\": \"10.0.2\", \"measurement\": \"full\", \"value\": 5740371}, {\"started\": \"2022-01-09T11:17:00\", \"version\": \"10.0.2\", \"measurement\": \"min\", \"value\": 3189095}, {\"started\": \"2022-01-19T22:17:00\", \"version\": \"11.0.0\", \"measurement\": \"full\", \"value\": 5805444}, {\"started\": \"2022-01-19T22:17:00\", \"version\": \"11.0.0\", \"measurement\": \"min\", \"value\": 3225247}, {\"started\": \"2022-01-26T11:17:00\", \"version\": \"11.0.1\", \"measurement\": \"full\", \"value\": 5878582}, {\"started\": \"2022-01-26T11:17:00\", \"version\": \"11.0.1\", \"measurement\": \"min\", \"value\": 3265879}, {\"started\": \"2022-02-02T23:17:00\", \"version\": \"11.0.2\", \"measurement\": \"full\", \"value\": 5885449}, {\"started\": \"2022-02-02T23:17:00\", \"version\": \"11.0.2\", \"measurement\": \"min\", \"value\": 3269694}, {\"started\": \"2022-02-15T12:17:00\", \"version\": \"11.1.0\", \"measurement\": \"full\", \"value\": 5926266}, {\"started\": \"2022-02-15T12:17:00\", \"version\": \"11.1.0\", \"measurement\": \"min\", \"value\": 3292370}, {\"started\": \"2022-02-25T00:17:00\", \"version\": \"11.1.1\", \"measurement\": \"full\", \"value\": 5990119}, {\"started\": \"2022-02-25T00:17:00\", \"version\": \"11.1.1\", \"measurement\": \"min\", \"value\": 3327844}, {\"started\": \"2022-03-12T08:17:00\", \"version\": \"11.1.2\", \"measurement\": \"full\", \"value\": 6074904}, {\"started\": \"2022-03-12T08:17:00\", \"version\": \"11.1.2\", \"measurement\": \"min\", \"value\": 3374947}, {\"started\": \"2022-03-26T12:17:00\", \"version\": \"12.0.0\", \"measurement\": \"full\", \"value\": 6120799}, {\"started\": \"2022-03-26T12:17:00\", \"version\": \"12.0.0\", \"measurement\": \"min\", \"value\": 3400444}, {\"started\": \"2022-04-01T18:17:00\", \"version\": \"12.0.1\", \"measurement\": \"full\", \"value\": 6188126}, {\"started\": \"2022-04-01T18:17:00\", \"version\": \"12.0.1\", \"measurement\": \"min\", \"value\": 3437848}, {\"started\": \"2022-04-13T12:17:00\", \"version\": \"13.0.0\", \"measurement\": \"full\", \"value\": 6203266}, {\"started\": \"2022-04-13T12:17:00\", \"version\": \"13.0.0\", \"measurement\": \"min\", \"value\": 3446259}, {\"started\": \"2022-04-24T21:17:00\", \"version\": \"13.0.1\", \"measurement\": \"full\", \"value\": 6206580}, {\"started\": \"2022-04-24T21:17:00\", \"version\": \"13.0.1\", \"measurement\": \"min\", \"value\": 3448100}, {\"started\": \"2022-04-30T09:17:00\", \"version\": \"13.1.0\", \"measurement\": \"full\", \"value\": 6265027}, {\"started\": \"2022-04-30T09:17:00\", \"version\": \"13.1.0\", \"measurement\": \"min\", \"value\": 3480571}, {\"started\": \"2022-05-06T21:17:00\", \"version\": \"13.1.1\", \"measurement\": \"full\", \"value\": 6361606}, {\"started\": \"2022-05-06T21:17:00\", \"version\": \"13.1.1\", \"measurement\": \"min\", \"value\": 3534226}, {\"started\": \"2022-05-17T09:17:00\", \"version\": \"13.2.0\", \"measurement\": \"full\", \"value\": 6417824}, {\"started\": \"2022-05-17T09:17:00\", \"version\": \"13.2.0\", \"measurement\": \"min\", \"value\": 3565458}, {\"started\": \"2022-05-25T20:17:00\", \"version\": \"13.2.1\", \"measurement\": \"full\", \"value\": 6461677}, {\"started\": \"2022-05-25T20:17:00\", \"version\": \"13.2.1\", \"measurement\": \"min\", \"value\": 3589821}, {\"started\": \"2022-06-09T01:17:00\", \"version\": \"14.0.0\", \"measurement\": \"full\", \"value\": 6567071}, {\"started\": \"2022-06-09T01:17:00\", \"version\": \"14.0.0\", \"measurement\": \"min\", \"value\": 3648373}, {\"started\": \"2022-06-19T05:17:00\", \"version\": \"14.1.0\", \"measurement\": \"full\", \"value\": 6636454}, {\"started\": \"2022-06-19T05:17:00\", \"version\": \"14.1.0\", \"measurement\": \"min\", \"value\": 3686919}, {\"started\": \"2022-06-27T14:17:00\", \"version\": \"14.1.1\", \"measurement\": \"full\", \"value\": 6738640}, {\"started\": \"2022-06-27T14:17:00\", \"version\": \"14.1.1\", \"measurement\": \"min\", \"value\": 3743689}, {\"started\": \"2022-07-04T20:17:00\", \"version\": \"14.2.0\", \"measurement\": \"full\", \"value\": 6802813}, {\"started\": \"2022-07-04T20:17:00\", \"version\": \"14.2.0\", \"measurement\": \"min\", \"value\": 3779341}, {\"started\": \"2022-07-13T10:17:00\", \"version\": \"14.2.1\", \"measurement\": \"full\", \"value\": 6817816}, {\"started\": \"2022-07-13T10:17:00\", \"version\": \"14.2.1\", \"measurement\": \"min\", \"value\": 3787676}, {\"started\": \"2022-07-31T01:17:00\", \"version\": \"14.2.2\", \"measurement\": \"full\", \"value\": 6909964}, {\"started\": \"2022-07-31T01:17:00\", \"version\": \"14.2.2\", \"measurement\": \"min\", \"value\": 3838869}, {\"started\": \"2022-08-11T07:17:00\", \"version\": \"15.0.0\", \"measurement\": \"full\", \"value\": 6976443}, {\"started\": \"2022-08-11T07:17:00\", \"version\": \"15.0.0\", \"measurement\": \"min\", \"value\": 3875802}, {\"started\": \"2022-08-21T22:17:00\", \"version\": \"15.1.0\", \"measurement\": \"full\", \"value\": 7063597}, {\"started\": \"2022-08-21T22:17:00\", \"version\": \"15.1.0\", \"measurement\": \"min\", \"value\": 3924221}, {\"started\": \"2022-09-04T14:17:00\", \"version\": \"15.1.1\", \"measurement\": \"full\", \"value\": 7118251}, {\"started\": \"2022-09-04T14:17:00\", \"version\": \"15.1.1\", \"measurement\": \"min\", \"value\": 3954584}, {\"started\": \"2022-09-21T08:17:00\", \"version\": \"15.1.2\", \"measurement\": \"full\", \"value\": 7199519}, {\"started\": \"2022-09-21T08:17:00\", \"version\": \"15.1.2\", \"measurement\": \"min\", \"value\": 3999733}, {\"started\": \"2022-09-26T16:17:00\", \"version\": \"15.2.0\", \"measurement\": \"full\", \"value\": 7275884}, {\"started\": \"2022-09-26T16:17:00\", \"version\": \"15.2.0\", \"measurement\": \"min\", \"value\": 4042158}, {\"started\": \"2022-10-12T01:17:00\", \"version\": \"15.2.1\", \"measurement\": \"full\", \"value\": 7374195}, {\"started\": \"2022-10-12T01:17:00\", \"version\": \"15.2.1\", \"measurement\": \"min\", \"value\": 4096775}, {\"started\": \"2022-10-20T09:17:00\", \"version\": \"15.3.0\", \"measurement\": \"full\", \"value\": 7404651}, {\"started\": \"2022-10-20T09:17:00\", \"version\": \"15.3.0\", \"measurement\": \"min\", \"value\": 4113695}, {\"started\": \"2022-10-27T03:17:00\", \"version\": \"15.3.1\", \"measurement\": \"full\", \"value\": 7468527}, {\"started\": \"2022-10-27T03:17:00\", \"version\": \"15.3.1\", \"measurement\": \"min\", \"value\": 4149182}, {\"started\": \"2022-11-07T16:17:00\", \"version\": \"16.0.0\", \"measurement\": \"full\", \"value\": 7470565}, {\"started\": \"2022-11-07T16:17:00\", \"version\": \"16.0.0\", \"measurement\": \"min\", \"value\": 4150314}, {\"started\": \"2022-11-22T09:17:00\", \"version\": \"16.0.1\", \"measurement\": \"full\", \"value\": 7535784}, {\"started\": \"2022-11-22T09:17:00\", \"version\": \"16.0.1\", \"measurement\": \"min\", \"value\": 4186547}, {\"started\": \"2022-12-08T15:17:00\", \"version\": \"16.0.2\", \"measurement\": \"full\", \"value\": 7613733}, {\"started\": \"2022-12-08T15:17:00\", \"version\": \"16.0.2\", \"measurement\": \"min\", \"value\": 4229852}, {\"started\": \"2022-12-21T05:17:00\", \"version\": \"17.0.0\", \"measurement\": \"full\", \"value\": 7703283}, {\"started\": \"2022-12-21T05:17:00\", \"version\": \"17.0.0\", \"measurement\": \"min\", \"value\": 4279602}, {\"started\": \"2023-01-03T20:17:00\", \"version\": \"17.0.1\", \"measurement\": \"full\", \"value\": 7811204}, {\"started\": \"2023-01-03T20:17:00\", \"version\": \"17.0.1\", \"measurement\": \"min\", \"value\": 4339558}, {\"started\": \"2023-01-12T01:17:00\", \"version\": \"18.0.0\", \"measurement\": \"full\", \"value\": 7898500}, {\"started\": \"2023-01-12T01:17:00\", \"version\": \"18.0.0\", \"measurement\": \"min\", \"value\": 4388056}, {\"started\": \"2023-01-17T13:17:00\", \"version\": \"18.1.0\", \"measurement\": \"full\", \"value\": 7917336}, {\"started\": \"2023-01-17T13:17:00\", \"version\": \"18.1.0\", \"measurement\": \"min\", \"value\": 4398520}, {\"started\": \"2023-01-26T21:17:00\", \"version\": \"18.2.0\", \"measurement\": \"full\", \"value\": 7978015}, {\"started\": \"2023-01-26T21:17:00\", \"version\": \"18.2.0\", \"measurement\": \"min\", \"value\": 4432231}, {\"started\": \"2023-02-02T02:17:00\", \"version\": \"18.3.0\", \"measurement\": \"full\", \"value\": 8045636}, {\"started\": \"2023-02-02T02:17:00\", \"version\": \"18.3.0\", \"measurement\": \"min\", \"value\": 4469798}, {\"started\": \"2023-02-07T10:17:00\", \"version\": \"18.3.1\", \"measurement\": \"full\", \"value\": 8144418}, {\"started\": \"2023-02-07T10:17:00\", \"version\": \"18.3.1\", \"measurement\": \"min\", \"value\": 4524677}, {\"started\": \"2023-02-22T04:17:00\", \"version\": \"18.3.2\", \"measurement\": \"full\", \"value\": 8173445}, {\"started\": \"2023-02-22T04:17:00\", \"version\": \"18.3.2\", \"measurement\": \"min\", \"value\": 4540803}, {\"started\": \"2023-03-08T15:17:00\", \"version\": \"19.0.0\", \"measurement\": \"full\", \"value\": 8232055}, {\"started\": \"2023-03-08T15:17:00\", \"version\": \"19.0.0\", \"measurement\": \"min\", \"value\": 4573364}, {\"started\": \"2023-03-16T04:17:00\", \"version\": \"19.0.1\", \"measurement\": \"full\", \"value\": 8239600}, {\"started\": \"2023-03-16T04:17:00\", \"version\": \"19.0.1\", \"measurement\": \"min\", \"value\": 4577556}, {\"started\": \"2023-03-31T14:17:00\", \"version\": \"19.0.2\", \"measurement\": \"full\", \"value\": 8253693}, {\"started\": \"2023-03-31T14:17:00\", \"version\": \"19.0.2\", \"measurement\": \"min\", \"value\": 4585385}, {\"started\": \"2023-04-15T21:17:00\", \"version\": \"20.0.0\", \"measurement\": \"full\", \"value\": 8285709}, {\"started\": \"2023-04-15T21:17:00\", \"version\": \"20.0.0\", \"measurement\": \"min\", \"value\": 4603172}, {\"started\": \"2023-04-26T04:17:00\", \"version\": \"21.0.0\", \"measurement\": \"full\", \"value\": 8292340}, {\"started\": \"2023-04-26T04:17:00\", \"version\": \"21.0.0\", \"measurement\": \"min\", \"value\": 4606856}, {\"started\": \"2023-05-05T21:17:00\", \"version\": \"21.1.0\", \"measurement\": \"full\", \"value\": 8380368}, {\"started\": \"2023-05-05T21:17:00\", \"version\": \"21.1.0\", \"measurement\": \"min\", \"value\": 4655760}, {\"started\": \"2023-05-15T07:17:00\", \"version\": \"21.2.0\", \"measurement\": \"full\", \"value\": 8467608}, {\"started\": \"2023-05-15T07:17:00\", \"version\": \"21.2.0\", \"measurement\": \"min\", \"value\": 4704227}, {\"started\": \"2023-06-01T22:17:00\", \"version\": \"21.2.1\", \"measurement\": \"full\", \"value\": 8559577}, {\"started\": \"2023-06-01T22:17:00\", \"version\": \"21.2.1\", \"measurement\": \"min\", \"value\": 4755321}, {\"started\": \"2023-06-19T15:17:00\", \"version\": \"21.3.0\", \"measurement\": \"full\", \"value\": 8635600}, {\"started\": \"2023-06-19T15:17:00\", \"version\": \"21.3.0\", \"measurement\": \"min\", \"value\": 4797556}, {\"started\": \"2023-07-04T07:17:00\", \"version\": \"22.0.0\", \"measurement\": \"full\", \"value\": 8720811}, {\"started\": \"2023-07-04T07:17:00\", \"version\": \"22.0.0\", \"measurement\": \"min\", \"value\": 4844895}, {\"started\": \"2023-07-18T11:17:00\", \"version\": \"22.0.1\", \"measurement\": \"full\", \"value\": 8755419}, {\"started\": \"2023-07-18T11:17:00\", \"version\": \"22.0.1\", \"measurement\": \"min\", \"value\": 4864122}, {\"started\": \"2023-08-02T19:17:00\", \"version\": \"22.1.0\", \"measurement\": \"full\", \"value\": 8854021}, {\"started\": \"2023-08-02T19:17:00\", \"version\": \"22.1.0\", \"measurement\": \"min\", \"value\": 4918901}, {\"started\": \"2023-08-18T04:17:00\", \"version\": \"22.1.1\", \"measurement\": \"full\", \"value\": 8855303}, {\"started\": \"2023-08-18T04:17:00\", \"version\": \"22.1.1\", \"measurement\": \"min\", \"value\": 4919613}], \"data-53f74962562aa0fbcea7913db762249a\": [{\"y\": 8000000}], \"data-6ca509988bbce2b3162f8e1af0b5f37a\": [{\"started\": \"2020-09-01T12:17:00\", \"version\": \"0.0.1\", \"measurement\": \"full\", \"value\": 3688846}, {\"started\": \"2020-09-01T12:17:00\", \"version\": \"0.0.1\", \"measurement\": \"min\", \"value\": 2049359}, {\"started\": \"2020-09-30T02:17:00\", \"version\": \"0.1.2\", \"measurement\": \"full\", \"value\": 3910462}, {\"started\": \"2020-09-30T02:17:00\", \"version\": \"0.1.2\", \"measurement\": \"min\", \"value\": 2172479}, {\"started\": \"2020-11-10T16:17:00\", \"version\": \"1.0.2\", \"measurement\": \"full\", \"value\": 3990969}, {\"started\": \"2020-11-10T16:17:00\", \"version\": \"1.0.2\", \"measurement\": \"min\", \"value\": 2217205}, {\"started\": \"2020-11-26T17:17:00\", \"version\": \"1.1.1\", \"measurement\": \"full\", \"value\": 4098976}, {\"started\": \"2020-11-26T17:17:00\", \"version\": \"1.1.1\", \"measurement\": \"min\", \"value\": 2277209}, {\"started\": \"2020-12-26T15:17:00\", \"version\": \"1.2.1\", \"measurement\": \"full\", \"value\": 4218274}, {\"started\": \"2020-12-26T15:17:00\", \"version\": \"1.2.1\", \"measurement\": \"min\", \"value\": 2343486}, {\"started\": \"2021-02-06T02:17:00\", \"version\": \"1.3.2\", \"measurement\": \"full\", \"value\": 4255774}, {\"started\": \"2021-02-06T02:17:00\", \"version\": \"1.3.2\", \"measurement\": \"min\", \"value\": 2364319}, {\"started\": \"2021-03-06T06:17:00\", \"version\": \"2.1.1\", \"measurement\": \"full\", \"value\": 4357103}, {\"started\": \"2021-03-06T06:17:00\", \"version\": \"2.1.1\", \"measurement\": \"min\", \"value\": 2420613}, {\"started\": \"2021-03-24T19:17:00\", \"version\": \"3.0.2\", \"measurement\": \"full\", \"value\": 4459948}, {\"started\": \"2021-03-24T19:17:00\", \"version\": \"3.0.2\", \"measurement\": \"min\", \"value\": 2477749}, {\"started\": \"2021-04-27T11:17:00\", \"version\": \"4.0.1\", \"measurement\": \"full\", \"value\": 4553166}, {\"started\": \"2021-04-27T11:17:00\", \"version\": \"4.0.1\", \"measurement\": \"min\", \"value\": 2529537}, {\"started\": \"2021-05-29T01:17:00\", \"version\": \"4.2.1\", \"measurement\": \"full\", \"value\": 4763399}, {\"started\": \"2021-05-29T01:17:00\", \"version\": \"4.2.1\", \"measurement\": \"min\", \"value\": 2646333}, {\"started\": \"2021-07-07T07:17:00\", \"version\": \"4.3.2\", \"measurement\": \"full\", \"value\": 4973054}, {\"started\": \"2021-07-07T07:17:00\", \"version\": \"4.3.2\", \"measurement\": \"min\", \"value\": 2762808}, {\"started\": \"2021-07-29T04:17:00\", \"version\": \"5.0.1\", \"measurement\": \"full\", \"value\": 5094343}, {\"started\": \"2021-07-29T04:17:00\", \"version\": \"5.0.1\", \"measurement\": \"min\", \"value\": 2830191}, {\"started\": \"2021-09-06T23:17:00\", \"version\": \"7.0.2\", \"measurement\": \"full\", \"value\": 5243007}, {\"started\": \"2021-09-06T23:17:00\", \"version\": \"7.0.2\", \"measurement\": \"min\", \"value\": 2912782}, {\"started\": \"2021-10-19T04:17:00\", \"version\": \"8.0.1\", \"measurement\": \"full\", \"value\": 5437281}, {\"started\": \"2021-10-19T04:17:00\", \"version\": \"8.0.1\", \"measurement\": \"min\", \"value\": 3020712}, {\"started\": \"2021-12-04T14:17:00\", \"version\": \"9.0.2\", \"measurement\": \"full\", \"value\": 5578830}, {\"started\": \"2021-12-04T14:17:00\", \"version\": \"9.0.2\", \"measurement\": \"min\", \"value\": 3099350}, {\"started\": \"2022-01-09T11:17:00\", \"version\": \"10.0.2\", \"measurement\": \"full\", \"value\": 5740371}, {\"started\": \"2022-01-09T11:17:00\", \"version\": \"10.0.2\", \"measurement\": \"min\", \"value\": 3189095}, {\"started\": \"2022-02-02T23:17:00\", \"version\": \"11.0.2\", \"measurement\": \"full\", \"value\": 5885449}, {\"started\": \"2022-02-02T23:17:00\", \"version\": \"11.0.2\", \"measurement\": \"min\", \"value\": 3269694}, {\"started\": \"2022-03-12T08:17:00\", \"version\": \"11.1.2\", \"measurement\": \"full\", \"value\": 6074904}, {\"started\": \"2022-03-12T08:17:00\", \"version\": \"11.1.2\", \"measurement\": \"min\", \"value\": 3374947}, {\"started\": \"2022-04-01T18:17:00\", \"version\": \"12.0.1\", \"measurement\": \"full\", \"value\": 6188126}, {\"started\": \"2022-04-01T18:17:00\", \"version\": \"12.0.1\", \"measurement\": \"min\", \"value\": 3437848}, {\"started\": \"2022-04-24T21:17:00\", \"version\": \"13.0.1\", \"measurement\": \"full\", \"value\": 6206580}, {\"started\": \"2022-04-24T21:17:00\", \"version\": \"13.0.1\", \"measurement\": \"min\", \"value\": 3448100}, {\"started\": \"2022-05-06T21:17:00\", \"version\": \"13.1.1\", \"measurement\": \"full\", \"value\": 6361606}, {\"started\": \"2022-05-06T21:17:00\", \"version\": \"13.1.1\", \"measurement\": \"min\", \"value\": 3534226}, {\"started\": \"2022-05-25T20:17:00\", \"version\": \"13.2.1\", \"measurement\": \"full\", \"value\": 6461677}, {\"started\": \"2022-05-25T20:17:00\", \"version\": \"13.2.1\", \"measurement\": \"min\", \"value\": 3589821}, {\"started\": \"2022-06-27T14:17:00\", \"version\": \"14.1.1\", \"measurement\": \"full\", \"value\": 6738640}, {\"started\": \"2022-06-27T14:17:00\", \"version\": \"14.1.1\", \"measurement\": \"min\", \"value\": 3743689}, {\"started\": \"2022-07-31T01:17:00\", \"version\": \"14.2.2\", \"measurement\": \"full\", \"value\": 6909964}, {\"started\": \"2022-07-31T01:17:00\", \"version\": \"14.2.2\", \"measurement\": \"min\", \"value\": 3838869}, {\"started\": \"2022-09-21T08:17:00\", \"version\": \"15.1.2\", \"measurement\": \"full\", \"value\": 7199519}, {\"started\": \"2022-09-21T08:17:00\", \"version\": \"15.1.2\", \"measurement\": \"min\", \"value\": 3999733}, {\"started\": \"2022-10-12T01:17:00\", \"version\": \"15.2.1\", \"measurement\": \"full\", \"value\": 7374195}, {\"started\": \"2022-10-12T01:17:00\", \"version\": \"15.2.1\", \"measurement\": \"min\", \"value\": 4096775}, {\"started\": \"2022-10-27T03:17:00\", \"version\": \"15.3.1\", \"measurement\": \"full\", \"value\": 7468527}, {\"started\": \"2022-10-27T03:17:00\", \"version\": \"15.3.1\", \"measurement\": \"min\", \"value\": 4149182}, {\"started\": \"2022-12-08T15:17:00\", \"version\": \"16.0.2\", \"measurement\": \"full\", \"value\": 7613733}, {\"started\": \"2022-12-08T15:17:00\", \"version\": \"16.0.2\", \"measurement\": \"min\", \"value\": 4229852}, {\"started\": \"2023-01-03T20:17:00\", \"version\": \"17.0.1\", \"measurement\": \"full\", \"value\": 7811204}, {\"started\": \"2023-01-03T20:17:00\", \"version\": \"17.0.1\", \"measurement\": \"min\", \"value\": 4339558}, {\"started\": \"2023-02-22T04:17:00\", \"version\": \"18.3.2\", \"measurement\": \"full\", \"value\": 8173445}, {\"started\": \"2023-02-22T04:17:00\", \"version\": \"18.3.2\", \"measurement\": \"min\", \"value\": 4540803}, {\"started\": \"2023-03-31T14:17:00\", \"version\": \"19.0.2\", \"measurement\": \"full\", \"value\": 8253693}, {\"started\": \"2023-03-31T14:17:00\", \"version\": \"19.0.2\", \"measurement\": \"min\", \"value\": 4585385}, {\"started\": \"2023-06-01T22:17:00\", \"version\": \"21.2.1\", \"measurement\": \"full\", \"value\": 8559577}, {\"started\": \"2023-06-01T22:17:00\", \"version\": \"21.2.1\", \"measurement\": \"min\", \"value\": 4755321}, {\"started\": \"2023-07-18T11:17:00\", \"version\": \"22.0.1\", \"measurement\": \"full\", \"value\": 8755419}, {\"started\": \"2023-07-18T11:17:00\", \"version\": \"22.0.1\", \"measurement\": \"min\", \"value\": 4864122}, {\"started\": \"2023-08-18T04:17:00\", \"version\": \"22.1.1\", \"measurement\": \"full\", \"value\": 8855303}, {\"started\": \"2023-08-18T04:17:00\", \"version\": \"22.1.1\", \"measurement\": \"min\", \"value\": 4919613}]}}, {\"mode\": \"vega-lite\"});\n</script>",
      "text/plain": "alt.LayerChart(...)"
     },
     "execution_count": 137,
     "metadata": {},
     "output_type": "execute_result"
    }
   ],
   "source": [
    "\n",
    "base = alt.Chart(df2).encode(\n",
    "    x=\"started\",\n",
    "    y=\"value\",\n",
    "    tooltip=\"version\",\n",
    "    text=\"version\",\n",
    "    shape=\"measurement\",\n",
    "    color=\"measurement\"\n",
    ")\n",
    "\n",
    "\n",
    "minor_releases = last_minor_releases(df2)\n",
    "\n",
    "last = alt.Chart(df2[df2[\"version\"].isin(minor_releases)]).encode(\n",
    "    x=\"started\",\n",
    "    y=\"value\",\n",
    "    tooltip=\"version\",\n",
    "    text=\"version\",\n",
    ").mark_point(size=55, opacity=1.0).encode(\n",
    "    shape=\"measurement\",\n",
    "    color=\"measurement\"\n",
    "\n",
    ")\n",
    "\n",
    "line = (alt.Chart(pd.DataFrame({'y': [8000000]})).\n",
    "        mark_rule(size=1, strokeDash=[4, 4], color=\"red\", opacity=0.5).\n",
    "        encode(y='y'))\n",
    "\n",
    "warn_text = alt.Chart(pd.DataFrame({'y': [8000000]})).mark_text(text=\"too much\", align=\"center\", opacity=1, baseline=\"line-bottom\", dx=-350, fontSize=14).encode(y=\"y\")\n",
    "\n",
    "last_text = last.mark_text(\n",
    "    align='center',\n",
    "    baseline='line-bottom',\n",
    "    dy=-10\n",
    ").encode(\n",
    "    text='version'\n",
    "\n",
    ")\n",
    "alt.layer(\n",
    "    base.mark_point(size=10, opacity=0.5),\n",
    "    base.mark_line(size=1, opacity=0.3),\n",
    "    line,\n",
    "    warn_text,\n",
    "    last,\n",
    "    last_text,\n",
    ").properties(\n",
    "    width=850,\n",
    "    height=400\n",
    ").interactive()\n"
   ],
   "metadata": {
    "collapsed": false,
    "pycharm": {
     "name": "#%%\n"
    }
   }
  },
  {
   "cell_type": "code",
   "execution_count": 136,
   "outputs": [],
   "source": [],
   "metadata": {
    "collapsed": false,
    "pycharm": {
     "name": "#%%\n"
    }
   }
  }
 ],
 "metadata": {
  "kernelspec": {
   "display_name": "Python 3 (ipykernel)",
   "language": "python",
   "name": "python3"
  },
  "language_info": {
   "codemirror_mode": {
    "name": "ipython",
    "version": 3
   },
   "file_extension": ".py",
   "mimetype": "text/x-python",
   "name": "python",
   "nbconvert_exporter": "python",
   "pygments_lexer": "ipython3",
   "version": "3.9.13"
  }
 },
 "nbformat": 4,
 "nbformat_minor": 1
}