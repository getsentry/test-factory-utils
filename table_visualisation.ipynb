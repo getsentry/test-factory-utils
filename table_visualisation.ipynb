{
 "cells": [
  {
   "cell_type": "code",
   "execution_count": 56,
   "metadata": {
    "pycharm": {
     "name": "#%%\n"
    }
   },
   "outputs": [],
   "source": [
    "import pandas as pd\n",
    "import numpy as np\n",
    "import matplotlib.pyplot as plt\n",
    "import altair as alt\n",
    "\n",
    "from sdk_performance import (\n",
    "    get_connection, get_sdk_size, last_minor_releases, get_latest_release,\n",
    "    get_previous, VersionLevel, get_versions\n",
    ")"
   ]
  },
  {
   "cell_type": "code",
   "execution_count": 57,
   "metadata": {
    "pycharm": {
     "name": "#%%\n"
    }
   },
   "outputs": [
    {
     "data": {
      "text/plain": "       id             started version measurement      value\n0    1887 2022-05-27 04:20:00   6.1.1        full  9922493.0\n1    1887 2022-05-27 04:20:00   6.1.1         min  4314127.0\n2    1888 2022-05-15 23:20:00   6.1.0        full  9844986.0\n3    1888 2022-05-15 23:20:00   6.1.0         min  4280428.0\n4    1889 2022-05-06 19:20:00   6.0.3        full  9767479.0\n..    ...                 ...     ...         ...        ...\n163  1968 2020-03-16 08:20:00   1.0.2         min  1584533.0\n164  1969 2020-03-07 01:20:00   1.0.1        full  3566919.0\n165  1969 2020-03-07 01:20:00   1.0.1         min  1550834.0\n166  1970 2020-02-20 21:20:00   1.0.0        full  3489412.0\n167  1970 2020-02-20 21:20:00   1.0.0         min  1517135.0\n\n[168 rows x 5 columns]",
      "text/html": "<div>\n<style scoped>\n    .dataframe tbody tr th:only-of-type {\n        vertical-align: middle;\n    }\n\n    .dataframe tbody tr th {\n        vertical-align: top;\n    }\n\n    .dataframe thead th {\n        text-align: right;\n    }\n</style>\n<table border=\"1\" class=\"dataframe\">\n  <thead>\n    <tr style=\"text-align: right;\">\n      <th></th>\n      <th>id</th>\n      <th>started</th>\n      <th>version</th>\n      <th>measurement</th>\n      <th>value</th>\n    </tr>\n  </thead>\n  <tbody>\n    <tr>\n      <th>0</th>\n      <td>1887</td>\n      <td>2022-05-27 04:20:00</td>\n      <td>6.1.1</td>\n      <td>full</td>\n      <td>9922493.0</td>\n    </tr>\n    <tr>\n      <th>1</th>\n      <td>1887</td>\n      <td>2022-05-27 04:20:00</td>\n      <td>6.1.1</td>\n      <td>min</td>\n      <td>4314127.0</td>\n    </tr>\n    <tr>\n      <th>2</th>\n      <td>1888</td>\n      <td>2022-05-15 23:20:00</td>\n      <td>6.1.0</td>\n      <td>full</td>\n      <td>9844986.0</td>\n    </tr>\n    <tr>\n      <th>3</th>\n      <td>1888</td>\n      <td>2022-05-15 23:20:00</td>\n      <td>6.1.0</td>\n      <td>min</td>\n      <td>4280428.0</td>\n    </tr>\n    <tr>\n      <th>4</th>\n      <td>1889</td>\n      <td>2022-05-06 19:20:00</td>\n      <td>6.0.3</td>\n      <td>full</td>\n      <td>9767479.0</td>\n    </tr>\n    <tr>\n      <th>...</th>\n      <td>...</td>\n      <td>...</td>\n      <td>...</td>\n      <td>...</td>\n      <td>...</td>\n    </tr>\n    <tr>\n      <th>163</th>\n      <td>1968</td>\n      <td>2020-03-16 08:20:00</td>\n      <td>1.0.2</td>\n      <td>min</td>\n      <td>1584533.0</td>\n    </tr>\n    <tr>\n      <th>164</th>\n      <td>1969</td>\n      <td>2020-03-07 01:20:00</td>\n      <td>1.0.1</td>\n      <td>full</td>\n      <td>3566919.0</td>\n    </tr>\n    <tr>\n      <th>165</th>\n      <td>1969</td>\n      <td>2020-03-07 01:20:00</td>\n      <td>1.0.1</td>\n      <td>min</td>\n      <td>1550834.0</td>\n    </tr>\n    <tr>\n      <th>166</th>\n      <td>1970</td>\n      <td>2020-02-20 21:20:00</td>\n      <td>1.0.0</td>\n      <td>full</td>\n      <td>3489412.0</td>\n    </tr>\n    <tr>\n      <th>167</th>\n      <td>1970</td>\n      <td>2020-02-20 21:20:00</td>\n      <td>1.0.0</td>\n      <td>min</td>\n      <td>1517135.0</td>\n    </tr>\n  </tbody>\n</table>\n<p>168 rows × 5 columns</p>\n</div>"
     },
     "execution_count": 57,
     "metadata": {},
     "output_type": "execute_result"
    }
   ],
   "source": [
    "connection = get_connection()\n",
    "sdk_vals = get_sdk_size(connection)\n",
    "connection.close()\n",
    "sdk_vals"
   ]
  },
  {
   "cell_type": "code",
   "execution_count": 58,
   "metadata": {
    "pycharm": {
     "name": "#%%\n"
    }
   },
   "outputs": [
    {
     "data": {
      "text/plain": "                    version measurement      value\nstarted                                           \n2022-05-27 04:20:00   6.1.1        full  9922493.0\n2022-05-27 04:20:00   6.1.1         min  4314127.0\n2022-05-15 23:20:00   6.1.0        full  9844986.0\n2022-05-15 23:20:00   6.1.0         min  4280428.0\n2022-05-06 19:20:00   6.0.3        full  9767479.0\n...                     ...         ...        ...\n2020-03-16 08:20:00   1.0.2         min  1584533.0\n2020-03-07 01:20:00   1.0.1        full  3566919.0\n2020-03-07 01:20:00   1.0.1         min  1550834.0\n2020-02-20 21:20:00   1.0.0        full  3489412.0\n2020-02-20 21:20:00   1.0.0         min  1517135.0\n\n[168 rows x 3 columns]",
      "text/html": "<div>\n<style scoped>\n    .dataframe tbody tr th:only-of-type {\n        vertical-align: middle;\n    }\n\n    .dataframe tbody tr th {\n        vertical-align: top;\n    }\n\n    .dataframe thead th {\n        text-align: right;\n    }\n</style>\n<table border=\"1\" class=\"dataframe\">\n  <thead>\n    <tr style=\"text-align: right;\">\n      <th></th>\n      <th>version</th>\n      <th>measurement</th>\n      <th>value</th>\n    </tr>\n    <tr>\n      <th>started</th>\n      <th></th>\n      <th></th>\n      <th></th>\n    </tr>\n  </thead>\n  <tbody>\n    <tr>\n      <th>2022-05-27 04:20:00</th>\n      <td>6.1.1</td>\n      <td>full</td>\n      <td>9922493.0</td>\n    </tr>\n    <tr>\n      <th>2022-05-27 04:20:00</th>\n      <td>6.1.1</td>\n      <td>min</td>\n      <td>4314127.0</td>\n    </tr>\n    <tr>\n      <th>2022-05-15 23:20:00</th>\n      <td>6.1.0</td>\n      <td>full</td>\n      <td>9844986.0</td>\n    </tr>\n    <tr>\n      <th>2022-05-15 23:20:00</th>\n      <td>6.1.0</td>\n      <td>min</td>\n      <td>4280428.0</td>\n    </tr>\n    <tr>\n      <th>2022-05-06 19:20:00</th>\n      <td>6.0.3</td>\n      <td>full</td>\n      <td>9767479.0</td>\n    </tr>\n    <tr>\n      <th>...</th>\n      <td>...</td>\n      <td>...</td>\n      <td>...</td>\n    </tr>\n    <tr>\n      <th>2020-03-16 08:20:00</th>\n      <td>1.0.2</td>\n      <td>min</td>\n      <td>1584533.0</td>\n    </tr>\n    <tr>\n      <th>2020-03-07 01:20:00</th>\n      <td>1.0.1</td>\n      <td>full</td>\n      <td>3566919.0</td>\n    </tr>\n    <tr>\n      <th>2020-03-07 01:20:00</th>\n      <td>1.0.1</td>\n      <td>min</td>\n      <td>1550834.0</td>\n    </tr>\n    <tr>\n      <th>2020-02-20 21:20:00</th>\n      <td>1.0.0</td>\n      <td>full</td>\n      <td>3489412.0</td>\n    </tr>\n    <tr>\n      <th>2020-02-20 21:20:00</th>\n      <td>1.0.0</td>\n      <td>min</td>\n      <td>1517135.0</td>\n    </tr>\n  </tbody>\n</table>\n<p>168 rows × 3 columns</p>\n</div>"
     },
     "execution_count": 58,
     "metadata": {},
     "output_type": "execute_result"
    }
   ],
   "source": [
    "sdk_vals = sdk_vals.drop(columns='id')\n",
    "sdk_vals = sdk_vals.set_index(keys='started')\n",
    "sdk_vals"
   ]
  },
  {
   "cell_type": "code",
   "execution_count": 59,
   "metadata": {
    "pycharm": {
     "name": "#%%\n"
    }
   },
   "outputs": [
    {
     "data": {
      "text/plain": "                    version measurement      value\nstarted                                           \n2022-05-27 04:20:00   6.1.1        full  9922493.0",
      "text/html": "<div>\n<style scoped>\n    .dataframe tbody tr th:only-of-type {\n        vertical-align: middle;\n    }\n\n    .dataframe tbody tr th {\n        vertical-align: top;\n    }\n\n    .dataframe thead th {\n        text-align: right;\n    }\n</style>\n<table border=\"1\" class=\"dataframe\">\n  <thead>\n    <tr style=\"text-align: right;\">\n      <th></th>\n      <th>version</th>\n      <th>measurement</th>\n      <th>value</th>\n    </tr>\n    <tr>\n      <th>started</th>\n      <th></th>\n      <th></th>\n      <th></th>\n    </tr>\n  </thead>\n  <tbody>\n    <tr>\n      <th>2022-05-27 04:20:00</th>\n      <td>6.1.1</td>\n      <td>full</td>\n      <td>9922493.0</td>\n    </tr>\n  </tbody>\n</table>\n</div>"
     },
     "execution_count": 59,
     "metadata": {},
     "output_type": "execute_result"
    }
   ],
   "source": [
    "sdk_vals.loc[(sdk_vals[\"measurement\"] == \"full\") & (sdk_vals[\"version\"] == \"6.1.1\")]"
   ]
  },
  {
   "cell_type": "code",
   "execution_count": 60,
   "metadata": {
    "pycharm": {
     "name": "#%%\n"
    }
   },
   "outputs": [
    {
     "data": {
      "text/html": "\n<div id=\"altair-viz-47a3f512979a4ebda24d7d55a59207da\"></div>\n<script type=\"text/javascript\">\n  var VEGA_DEBUG = (typeof VEGA_DEBUG == \"undefined\") ? {} : VEGA_DEBUG;\n  (function(spec, embedOpt){\n    let outputDiv = document.currentScript.previousElementSibling;\n    if (outputDiv.id !== \"altair-viz-47a3f512979a4ebda24d7d55a59207da\") {\n      outputDiv = document.getElementById(\"altair-viz-47a3f512979a4ebda24d7d55a59207da\");\n    }\n    const paths = {\n      \"vega\": \"https://cdn.jsdelivr.net/npm//vega@5?noext\",\n      \"vega-lib\": \"https://cdn.jsdelivr.net/npm//vega-lib?noext\",\n      \"vega-lite\": \"https://cdn.jsdelivr.net/npm//vega-lite@4.17.0?noext\",\n      \"vega-embed\": \"https://cdn.jsdelivr.net/npm//vega-embed@6?noext\",\n    };\n\n    function maybeLoadScript(lib, version) {\n      var key = `${lib.replace(\"-\", \"\")}_version`;\n      return (VEGA_DEBUG[key] == version) ?\n        Promise.resolve(paths[lib]) :\n        new Promise(function(resolve, reject) {\n          var s = document.createElement('script');\n          document.getElementsByTagName(\"head\")[0].appendChild(s);\n          s.async = true;\n          s.onload = () => {\n            VEGA_DEBUG[key] = version;\n            return resolve(paths[lib]);\n          };\n          s.onerror = () => reject(`Error loading script: ${paths[lib]}`);\n          s.src = paths[lib];\n        });\n    }\n\n    function showError(err) {\n      outputDiv.innerHTML = `<div class=\"error\" style=\"color:red;\">${err}</div>`;\n      throw err;\n    }\n\n    function displayChart(vegaEmbed) {\n      vegaEmbed(outputDiv, spec, embedOpt)\n        .catch(err => showError(`Javascript Error: ${err.message}<br>This usually means there's a typo in your chart specification. See the javascript console for the full traceback.`));\n    }\n\n    if(typeof define === \"function\" && define.amd) {\n      requirejs.config({paths});\n      require([\"vega-embed\"], displayChart, err => showError(`Error loading script: ${err.message}`));\n    } else {\n      maybeLoadScript(\"vega\", \"5\")\n        .then(() => maybeLoadScript(\"vega-lite\", \"4.17.0\"))\n        .then(() => maybeLoadScript(\"vega-embed\", \"6\"))\n        .catch(showError)\n        .then(() => displayChart(vegaEmbed));\n    }\n  })({\"config\": {\"view\": {\"continuousWidth\": 400, \"continuousHeight\": 300}}, \"layer\": [{\"data\": {\"name\": \"data-b066ea54157c855c9db2593cf7b93bdc\"}, \"mark\": {\"type\": \"point\", \"opacity\": 0.5, \"size\": 10}, \"encoding\": {\"color\": {\"field\": \"measurement\", \"type\": \"nominal\"}, \"shape\": {\"field\": \"measurement\", \"type\": \"nominal\"}, \"text\": {\"field\": \"version\", \"type\": \"nominal\"}, \"tooltip\": {\"field\": \"version\", \"type\": \"nominal\"}, \"x\": {\"field\": \"started\", \"type\": \"temporal\"}, \"y\": {\"field\": \"value\", \"type\": \"quantitative\"}}, \"selection\": {\"selector032\": {\"type\": \"interval\", \"bind\": \"scales\", \"encodings\": [\"x\", \"y\"]}}}, {\"data\": {\"name\": \"data-b066ea54157c855c9db2593cf7b93bdc\"}, \"mark\": {\"type\": \"line\", \"opacity\": 0.3, \"size\": 1}, \"encoding\": {\"color\": {\"field\": \"measurement\", \"type\": \"nominal\"}, \"shape\": {\"field\": \"measurement\", \"type\": \"nominal\"}, \"text\": {\"field\": \"version\", \"type\": \"nominal\"}, \"tooltip\": {\"field\": \"version\", \"type\": \"nominal\"}, \"x\": {\"field\": \"started\", \"type\": \"temporal\"}, \"y\": {\"field\": \"value\", \"type\": \"quantitative\"}}}, {\"data\": {\"name\": \"data-53f74962562aa0fbcea7913db762249a\"}, \"mark\": {\"type\": \"rule\", \"color\": \"red\", \"opacity\": 0.5, \"size\": 1, \"strokeDash\": [4, 4]}, \"encoding\": {\"y\": {\"field\": \"y\", \"type\": \"quantitative\"}}}, {\"data\": {\"name\": \"data-53f74962562aa0fbcea7913db762249a\"}, \"mark\": {\"type\": \"text\", \"align\": \"center\", \"baseline\": \"line-bottom\", \"dx\": -300, \"fontSize\": 12, \"opacity\": 1, \"text\": \"too much\"}, \"encoding\": {\"y\": {\"field\": \"y\", \"type\": \"quantitative\"}}}, {\"data\": {\"name\": \"data-1e46d36f9cc8177c7b8725be210ade22\"}, \"mark\": {\"type\": \"point\", \"opacity\": 1.0, \"size\": 55}, \"encoding\": {\"color\": {\"field\": \"measurement\", \"type\": \"nominal\"}, \"shape\": {\"field\": \"measurement\", \"type\": \"nominal\"}, \"text\": {\"field\": \"version\", \"type\": \"nominal\"}, \"tooltip\": {\"field\": \"version\", \"type\": \"nominal\"}, \"x\": {\"field\": \"started\", \"type\": \"temporal\"}, \"y\": {\"field\": \"value\", \"type\": \"quantitative\"}}}, {\"data\": {\"name\": \"data-1e46d36f9cc8177c7b8725be210ade22\"}, \"mark\": {\"type\": \"text\", \"align\": \"center\", \"baseline\": \"line-bottom\", \"dy\": -10}, \"encoding\": {\"color\": {\"field\": \"measurement\", \"type\": \"nominal\"}, \"shape\": {\"field\": \"measurement\", \"type\": \"nominal\"}, \"text\": {\"field\": \"version\", \"type\": \"nominal\"}, \"tooltip\": {\"field\": \"version\", \"type\": \"nominal\"}, \"x\": {\"field\": \"started\", \"type\": \"temporal\"}, \"y\": {\"field\": \"value\", \"type\": \"quantitative\"}}}], \"height\": 400, \"width\": 850, \"$schema\": \"https://vega.github.io/schema/vega-lite/v4.17.0.json\", \"datasets\": {\"data-b066ea54157c855c9db2593cf7b93bdc\": [{\"started\": \"2022-05-27T04:20:00\", \"version\": \"6.1.1\", \"measurement\": \"full\", \"value\": 9922493.0}, {\"started\": \"2022-05-27T04:20:00\", \"version\": \"6.1.1\", \"measurement\": \"min\", \"value\": 4314127.0}, {\"started\": \"2022-05-15T23:20:00\", \"version\": \"6.1.0\", \"measurement\": \"full\", \"value\": 9844986.0}, {\"started\": \"2022-05-15T23:20:00\", \"version\": \"6.1.0\", \"measurement\": \"min\", \"value\": 4280428.0}, {\"started\": \"2022-05-06T19:20:00\", \"version\": \"6.0.3\", \"measurement\": \"full\", \"value\": 9767479.0}, {\"started\": \"2022-05-06T19:20:00\", \"version\": \"6.0.3\", \"measurement\": \"min\", \"value\": 4246730.0}, {\"started\": \"2022-04-22T13:20:00\", \"version\": \"6.0.2\", \"measurement\": \"full\", \"value\": 9689972.0}, {\"started\": \"2022-04-22T13:20:00\", \"version\": \"6.0.2\", \"measurement\": \"min\", \"value\": 4213031.0}, {\"started\": \"2022-04-08T08:20:00\", \"version\": \"6.0.1\", \"measurement\": \"full\", \"value\": 9612465.0}, {\"started\": \"2022-04-08T08:20:00\", \"version\": \"6.0.1\", \"measurement\": \"min\", \"value\": 4179332.0}, {\"started\": \"2022-03-29T02:20:00\", \"version\": \"6.0.0\", \"measurement\": \"full\", \"value\": 9534958.0}, {\"started\": \"2022-03-29T02:20:00\", \"version\": \"6.0.0\", \"measurement\": \"min\", \"value\": 4145633.0}, {\"started\": \"2022-03-20T23:20:00\", \"version\": \"5.5.3\", \"measurement\": \"full\", \"value\": 9457451.0}, {\"started\": \"2022-03-20T23:20:00\", \"version\": \"5.5.3\", \"measurement\": \"min\", \"value\": 4111935.0}, {\"started\": \"2022-03-13T21:20:00\", \"version\": \"5.5.2\", \"measurement\": \"full\", \"value\": 9379944.0}, {\"started\": \"2022-03-13T21:20:00\", \"version\": \"5.5.2\", \"measurement\": \"min\", \"value\": 4078236.0}, {\"started\": \"2022-03-04T19:20:00\", \"version\": \"5.5.1\", \"measurement\": \"full\", \"value\": 9302437.0}, {\"started\": \"2022-03-04T19:20:00\", \"version\": \"5.5.1\", \"measurement\": \"min\", \"value\": 4044537.0}, {\"started\": \"2022-02-23T16:20:00\", \"version\": \"5.5.0\", \"measurement\": \"full\", \"value\": 9224930.0}, {\"started\": \"2022-02-23T16:20:00\", \"version\": \"5.5.0\", \"measurement\": \"min\", \"value\": 4010839.0}, {\"started\": \"2022-02-11T10:20:00\", \"version\": \"5.4.3\", \"measurement\": \"full\", \"value\": 9147423.0}, {\"started\": \"2022-02-11T10:20:00\", \"version\": \"5.4.3\", \"measurement\": \"min\", \"value\": 3977140.0}, {\"started\": \"2022-02-06T07:20:00\", \"version\": \"5.4.2\", \"measurement\": \"full\", \"value\": 9069916.0}, {\"started\": \"2022-02-06T07:20:00\", \"version\": \"5.4.2\", \"measurement\": \"min\", \"value\": 3943441.0}, {\"started\": \"2022-02-01T03:20:00\", \"version\": \"5.4.1\", \"measurement\": \"full\", \"value\": 8992409.0}, {\"started\": \"2022-02-01T03:20:00\", \"version\": \"5.4.1\", \"measurement\": \"min\", \"value\": 3909743.0}, {\"started\": \"2022-01-24T19:20:00\", \"version\": \"5.4.0\", \"measurement\": \"full\", \"value\": 8914902.0}, {\"started\": \"2022-01-24T19:20:00\", \"version\": \"5.4.0\", \"measurement\": \"min\", \"value\": 3876044.0}, {\"started\": \"2022-01-19T13:20:00\", \"version\": \"5.3.2\", \"measurement\": \"full\", \"value\": 8837395.0}, {\"started\": \"2022-01-19T13:20:00\", \"version\": \"5.3.2\", \"measurement\": \"min\", \"value\": 3842345.0}, {\"started\": \"2022-01-06T06:20:00\", \"version\": \"5.3.1\", \"measurement\": \"full\", \"value\": 8759888.0}, {\"started\": \"2022-01-06T06:20:00\", \"version\": \"5.3.1\", \"measurement\": \"min\", \"value\": 3808646.0}, {\"started\": \"2021-12-31T23:20:00\", \"version\": \"5.3.0\", \"measurement\": \"full\", \"value\": 8682381.0}, {\"started\": \"2021-12-31T23:20:00\", \"version\": \"5.3.0\", \"measurement\": \"min\", \"value\": 3774948.0}, {\"started\": \"2021-12-17T22:20:00\", \"version\": \"5.2.3\", \"measurement\": \"full\", \"value\": 8604874.0}, {\"started\": \"2021-12-17T22:20:00\", \"version\": \"5.2.3\", \"measurement\": \"min\", \"value\": 3741249.0}, {\"started\": \"2021-12-02T18:20:00\", \"version\": \"5.2.2\", \"measurement\": \"full\", \"value\": 8527367.0}, {\"started\": \"2021-12-02T18:20:00\", \"version\": \"5.2.2\", \"measurement\": \"min\", \"value\": 3707550.0}, {\"started\": \"2021-11-18T16:20:00\", \"version\": \"5.2.1\", \"measurement\": \"full\", \"value\": 8449860.0}, {\"started\": \"2021-11-18T16:20:00\", \"version\": \"5.2.1\", \"measurement\": \"min\", \"value\": 3673852.0}, {\"started\": \"2021-11-11T08:20:00\", \"version\": \"5.2.0\", \"measurement\": \"full\", \"value\": 8372353.0}, {\"started\": \"2021-11-11T08:20:00\", \"version\": \"5.2.0\", \"measurement\": \"min\", \"value\": 3640153.0}, {\"started\": \"2021-10-31T02:20:00\", \"version\": \"5.1.1\", \"measurement\": \"full\", \"value\": 8294846.0}, {\"started\": \"2021-10-31T02:20:00\", \"version\": \"5.1.1\", \"measurement\": \"min\", \"value\": 3606454.0}, {\"started\": \"2021-10-25T20:20:00\", \"version\": \"5.1.0\", \"measurement\": \"full\", \"value\": 8217339.0}, {\"started\": \"2021-10-25T20:20:00\", \"version\": \"5.1.0\", \"measurement\": \"min\", \"value\": 3572756.0}, {\"started\": \"2021-10-13T16:20:00\", \"version\": \"5.0.1\", \"measurement\": \"full\", \"value\": 8139832.0}, {\"started\": \"2021-10-13T16:20:00\", \"version\": \"5.0.1\", \"measurement\": \"min\", \"value\": 3539057.0}, {\"started\": \"2021-10-02T12:20:00\", \"version\": \"5.0.0\", \"measurement\": \"full\", \"value\": 8062325.0}, {\"started\": \"2021-10-02T12:20:00\", \"version\": \"5.0.0\", \"measurement\": \"min\", \"value\": 3505358.0}, {\"started\": \"2021-09-18T05:20:00\", \"version\": \"4.3.2\", \"measurement\": \"full\", \"value\": 7984818.0}, {\"started\": \"2021-09-18T05:20:00\", \"version\": \"4.3.2\", \"measurement\": \"min\", \"value\": 3471660.0}, {\"started\": \"2021-09-11T23:20:00\", \"version\": \"4.3.1\", \"measurement\": \"full\", \"value\": 7907311.0}, {\"started\": \"2021-09-11T23:20:00\", \"version\": \"4.3.1\", \"measurement\": \"min\", \"value\": 3437961.0}, {\"started\": \"2021-08-30T18:20:00\", \"version\": \"4.3.0\", \"measurement\": \"full\", \"value\": 7829804.0}, {\"started\": \"2021-08-30T18:20:00\", \"version\": \"4.3.0\", \"measurement\": \"min\", \"value\": 3404262.0}, {\"started\": \"2021-08-24T14:20:00\", \"version\": \"4.2.2\", \"measurement\": \"full\", \"value\": 7752297.0}, {\"started\": \"2021-08-24T14:20:00\", \"version\": \"4.2.2\", \"measurement\": \"min\", \"value\": 3370563.0}, {\"started\": \"2021-08-19T13:20:00\", \"version\": \"4.2.1\", \"measurement\": \"full\", \"value\": 7674790.0}, {\"started\": \"2021-08-19T13:20:00\", \"version\": \"4.2.1\", \"measurement\": \"min\", \"value\": 3336865.0}, {\"started\": \"2021-08-09T05:20:00\", \"version\": \"4.2.0\", \"measurement\": \"full\", \"value\": 7597283.0}, {\"started\": \"2021-08-09T05:20:00\", \"version\": \"4.2.0\", \"measurement\": \"min\", \"value\": 3303166.0}, {\"started\": \"2021-07-30T23:20:00\", \"version\": \"4.1.3\", \"measurement\": \"full\", \"value\": 7519776.0}, {\"started\": \"2021-07-30T23:20:00\", \"version\": \"4.1.3\", \"measurement\": \"min\", \"value\": 3269467.0}, {\"started\": \"2021-07-24T20:20:00\", \"version\": \"4.1.2\", \"measurement\": \"full\", \"value\": 7442269.0}, {\"started\": \"2021-07-24T20:20:00\", \"version\": \"4.1.2\", \"measurement\": \"min\", \"value\": 3235769.0}, {\"started\": \"2021-07-10T18:20:00\", \"version\": \"4.1.1\", \"measurement\": \"full\", \"value\": 7364762.0}, {\"started\": \"2021-07-10T18:20:00\", \"version\": \"4.1.1\", \"measurement\": \"min\", \"value\": 3202070.0}, {\"started\": \"2021-06-28T15:20:00\", \"version\": \"4.1.0\", \"measurement\": \"full\", \"value\": 7287255.0}, {\"started\": \"2021-06-28T15:20:00\", \"version\": \"4.1.0\", \"measurement\": \"min\", \"value\": 3168371.0}, {\"started\": \"2021-06-15T06:20:00\", \"version\": \"4.0.2\", \"measurement\": \"full\", \"value\": 7209748.0}, {\"started\": \"2021-06-15T06:20:00\", \"version\": \"4.0.2\", \"measurement\": \"min\", \"value\": 3134673.0}, {\"started\": \"2021-06-05T05:20:00\", \"version\": \"4.0.1\", \"measurement\": \"full\", \"value\": 7132241.0}, {\"started\": \"2021-06-05T05:20:00\", \"version\": \"4.0.1\", \"measurement\": \"min\", \"value\": 3100974.0}, {\"started\": \"2021-05-28T03:20:00\", \"version\": \"4.0.0\", \"measurement\": \"full\", \"value\": 7054734.0}, {\"started\": \"2021-05-28T03:20:00\", \"version\": \"4.0.0\", \"measurement\": \"min\", \"value\": 3067275.0}, {\"started\": \"2021-05-19T18:20:00\", \"version\": \"3.3.3\", \"measurement\": \"full\", \"value\": 6977227.0}, {\"started\": \"2021-05-19T18:20:00\", \"version\": \"3.3.3\", \"measurement\": \"min\", \"value\": 3033576.0}, {\"started\": \"2021-05-08T13:20:00\", \"version\": \"3.3.2\", \"measurement\": \"full\", \"value\": 6899720.0}, {\"started\": \"2021-05-08T13:20:00\", \"version\": \"3.3.2\", \"measurement\": \"min\", \"value\": 2999878.0}, {\"started\": \"2021-04-30T08:20:00\", \"version\": \"3.3.1\", \"measurement\": \"full\", \"value\": 6822213.0}, {\"started\": \"2021-04-30T08:20:00\", \"version\": \"3.3.1\", \"measurement\": \"min\", \"value\": 2966179.0}, {\"started\": \"2021-04-20T07:20:00\", \"version\": \"3.3.0\", \"measurement\": \"full\", \"value\": 6744706.0}, {\"started\": \"2021-04-20T07:20:00\", \"version\": \"3.3.0\", \"measurement\": \"min\", \"value\": 2932480.0}, {\"started\": \"2021-04-14T06:20:00\", \"version\": \"3.2.3\", \"measurement\": \"full\", \"value\": 6667199.0}, {\"started\": \"2021-04-14T06:20:00\", \"version\": \"3.2.3\", \"measurement\": \"min\", \"value\": 2898782.0}, {\"started\": \"2021-04-07T22:20:00\", \"version\": \"3.2.2\", \"measurement\": \"full\", \"value\": 6589692.0}, {\"started\": \"2021-04-07T22:20:00\", \"version\": \"3.2.2\", \"measurement\": \"min\", \"value\": 2865083.0}, {\"started\": \"2021-03-31T18:20:00\", \"version\": \"3.2.1\", \"measurement\": \"full\", \"value\": 6512185.0}, {\"started\": \"2021-03-31T18:20:00\", \"version\": \"3.2.1\", \"measurement\": \"min\", \"value\": 2831384.0}, {\"started\": \"2021-03-24T14:20:00\", \"version\": \"3.2.0\", \"measurement\": \"full\", \"value\": 6434678.0}, {\"started\": \"2021-03-24T14:20:00\", \"version\": \"3.2.0\", \"measurement\": \"min\", \"value\": 2797686.0}, {\"started\": \"2021-03-16T13:20:00\", \"version\": \"3.1.3\", \"measurement\": \"full\", \"value\": 6357171.0}, {\"started\": \"2021-03-16T13:20:00\", \"version\": \"3.1.3\", \"measurement\": \"min\", \"value\": 2763987.0}, {\"started\": \"2021-03-11T09:20:00\", \"version\": \"3.1.2\", \"measurement\": \"full\", \"value\": 6279664.0}, {\"started\": \"2021-03-11T09:20:00\", \"version\": \"3.1.2\", \"measurement\": \"min\", \"value\": 2730288.0}, {\"started\": \"2021-03-05T00:20:00\", \"version\": \"3.1.1\", \"measurement\": \"full\", \"value\": 6202157.0}, {\"started\": \"2021-03-05T00:20:00\", \"version\": \"3.1.1\", \"measurement\": \"min\", \"value\": 2696590.0}, {\"started\": \"2021-02-23T23:20:00\", \"version\": \"3.1.0\", \"measurement\": \"full\", \"value\": 6124650.0}, {\"started\": \"2021-02-23T23:20:00\", \"version\": \"3.1.0\", \"measurement\": \"min\", \"value\": 2662891.0}, {\"started\": \"2021-02-14T16:20:00\", \"version\": \"3.0.2\", \"measurement\": \"full\", \"value\": 6047143.0}, {\"started\": \"2021-02-14T16:20:00\", \"version\": \"3.0.2\", \"measurement\": \"min\", \"value\": 2629192.0}, {\"started\": \"2021-02-05T10:20:00\", \"version\": \"3.0.1\", \"measurement\": \"full\", \"value\": 5969636.0}, {\"started\": \"2021-02-05T10:20:00\", \"version\": \"3.0.1\", \"measurement\": \"min\", \"value\": 2595493.0}, {\"started\": \"2021-01-23T09:20:00\", \"version\": \"3.0.0\", \"measurement\": \"full\", \"value\": 5892129.0}, {\"started\": \"2021-01-23T09:20:00\", \"version\": \"3.0.0\", \"measurement\": \"min\", \"value\": 2561795.0}, {\"started\": \"2021-01-12T07:20:00\", \"version\": \"2.2.1\", \"measurement\": \"full\", \"value\": 5814622.0}, {\"started\": \"2021-01-12T07:20:00\", \"version\": \"2.2.1\", \"measurement\": \"min\", \"value\": 2528096.0}, {\"started\": \"2020-12-31T02:20:00\", \"version\": \"2.2.0\", \"measurement\": \"full\", \"value\": 5737115.0}, {\"started\": \"2020-12-31T02:20:00\", \"version\": \"2.2.0\", \"measurement\": \"min\", \"value\": 2494397.0}, {\"started\": \"2020-12-18T00:20:00\", \"version\": \"2.1.3\", \"measurement\": \"full\", \"value\": 5659608.0}, {\"started\": \"2020-12-18T00:20:00\", \"version\": \"2.1.3\", \"measurement\": \"min\", \"value\": 2460699.0}, {\"started\": \"2020-12-11T15:20:00\", \"version\": \"2.1.2\", \"measurement\": \"full\", \"value\": 5582101.0}, {\"started\": \"2020-12-11T15:20:00\", \"version\": \"2.1.2\", \"measurement\": \"min\", \"value\": 2427000.0}, {\"started\": \"2020-11-30T14:20:00\", \"version\": \"2.1.1\", \"measurement\": \"full\", \"value\": 5504594.0}, {\"started\": \"2020-11-30T14:20:00\", \"version\": \"2.1.1\", \"measurement\": \"min\", \"value\": 2393301.0}, {\"started\": \"2020-11-16T09:20:00\", \"version\": \"2.1.0\", \"measurement\": \"full\", \"value\": 5427087.0}, {\"started\": \"2020-11-16T09:20:00\", \"version\": \"2.1.0\", \"measurement\": \"min\", \"value\": 2359603.0}, {\"started\": \"2020-11-07T06:20:00\", \"version\": \"2.0.2\", \"measurement\": \"full\", \"value\": 5349580.0}, {\"started\": \"2020-11-07T06:20:00\", \"version\": \"2.0.2\", \"measurement\": \"min\", \"value\": 2325904.0}, {\"started\": \"2020-10-25T23:20:00\", \"version\": \"2.0.1\", \"measurement\": \"full\", \"value\": 5272073.0}, {\"started\": \"2020-10-25T23:20:00\", \"version\": \"2.0.1\", \"measurement\": \"min\", \"value\": 2292205.0}, {\"started\": \"2020-10-13T14:20:00\", \"version\": \"2.0.0\", \"measurement\": \"full\", \"value\": 5194566.0}, {\"started\": \"2020-10-13T14:20:00\", \"version\": \"2.0.0\", \"measurement\": \"min\", \"value\": 2258506.0}, {\"started\": \"2020-09-28T08:20:00\", \"version\": \"1.6.3\", \"measurement\": \"full\", \"value\": 5117059.0}, {\"started\": \"2020-09-28T08:20:00\", \"version\": \"1.6.3\", \"measurement\": \"min\", \"value\": 2224808.0}, {\"started\": \"2020-09-21T02:20:00\", \"version\": \"1.6.2\", \"measurement\": \"full\", \"value\": 5039552.0}, {\"started\": \"2020-09-21T02:20:00\", \"version\": \"1.6.2\", \"measurement\": \"min\", \"value\": 2191109.0}, {\"started\": \"2020-09-10T18:20:00\", \"version\": \"1.6.1\", \"measurement\": \"full\", \"value\": 4962045.0}, {\"started\": \"2020-09-10T18:20:00\", \"version\": \"1.6.1\", \"measurement\": \"min\", \"value\": 2157410.0}, {\"started\": \"2020-09-05T13:20:00\", \"version\": \"1.6.0\", \"measurement\": \"full\", \"value\": 4884538.0}, {\"started\": \"2020-09-05T13:20:00\", \"version\": \"1.6.0\", \"measurement\": \"min\", \"value\": 2123712.0}, {\"started\": \"2020-08-31T09:20:00\", \"version\": \"1.5.1\", \"measurement\": \"full\", \"value\": 4807031.0}, {\"started\": \"2020-08-31T09:20:00\", \"version\": \"1.5.1\", \"measurement\": \"min\", \"value\": 2090013.0}, {\"started\": \"2020-08-19T02:20:00\", \"version\": \"1.5.0\", \"measurement\": \"full\", \"value\": 4729524.0}, {\"started\": \"2020-08-19T02:20:00\", \"version\": \"1.5.0\", \"measurement\": \"min\", \"value\": 2056314.0}, {\"started\": \"2020-08-10T01:20:00\", \"version\": \"1.4.2\", \"measurement\": \"full\", \"value\": 4652017.0}, {\"started\": \"2020-08-10T01:20:00\", \"version\": \"1.4.2\", \"measurement\": \"min\", \"value\": 2022616.0}, {\"started\": \"2020-07-28T21:20:00\", \"version\": \"1.4.1\", \"measurement\": \"full\", \"value\": 4574510.0}, {\"started\": \"2020-07-28T21:20:00\", \"version\": \"1.4.1\", \"measurement\": \"min\", \"value\": 1988917.0}, {\"started\": \"2020-07-14T18:20:00\", \"version\": \"1.4.0\", \"measurement\": \"full\", \"value\": 4497003.0}, {\"started\": \"2020-07-14T18:20:00\", \"version\": \"1.4.0\", \"measurement\": \"min\", \"value\": 1955218.0}, {\"started\": \"2020-07-03T13:20:00\", \"version\": \"1.3.2\", \"measurement\": \"full\", \"value\": 4419496.0}, {\"started\": \"2020-07-03T13:20:00\", \"version\": \"1.3.2\", \"measurement\": \"min\", \"value\": 1921520.0}, {\"started\": \"2020-06-19T06:20:00\", \"version\": \"1.3.1\", \"measurement\": \"full\", \"value\": 4341989.0}, {\"started\": \"2020-06-19T06:20:00\", \"version\": \"1.3.1\", \"measurement\": \"min\", \"value\": 1887821.0}, {\"started\": \"2020-06-03T22:20:00\", \"version\": \"1.3.0\", \"measurement\": \"full\", \"value\": 4264482.0}, {\"started\": \"2020-06-03T22:20:00\", \"version\": \"1.3.0\", \"measurement\": \"min\", \"value\": 1854122.0}, {\"started\": \"2020-05-29T16:20:00\", \"version\": \"1.2.2\", \"measurement\": \"full\", \"value\": 4186975.0}, {\"started\": \"2020-05-29T16:20:00\", \"version\": \"1.2.2\", \"measurement\": \"min\", \"value\": 1820423.0}, {\"started\": \"2020-05-16T08:20:00\", \"version\": \"1.2.1\", \"measurement\": \"full\", \"value\": 4109468.0}, {\"started\": \"2020-05-16T08:20:00\", \"version\": \"1.2.1\", \"measurement\": \"min\", \"value\": 1786725.0}, {\"started\": \"2020-05-01T02:20:00\", \"version\": \"1.2.0\", \"measurement\": \"full\", \"value\": 4031961.0}, {\"started\": \"2020-05-01T02:20:00\", \"version\": \"1.2.0\", \"measurement\": \"min\", \"value\": 1753026.0}, {\"started\": \"2020-04-16T21:20:00\", \"version\": \"1.1.3\", \"measurement\": \"full\", \"value\": 3954454.0}, {\"started\": \"2020-04-16T21:20:00\", \"version\": \"1.1.3\", \"measurement\": \"min\", \"value\": 1719327.0}, {\"started\": \"2020-04-11T20:20:00\", \"version\": \"1.1.2\", \"measurement\": \"full\", \"value\": 3876947.0}, {\"started\": \"2020-04-11T20:20:00\", \"version\": \"1.1.2\", \"measurement\": \"min\", \"value\": 1685629.0}, {\"started\": \"2020-04-06T16:20:00\", \"version\": \"1.1.1\", \"measurement\": \"full\", \"value\": 3799440.0}, {\"started\": \"2020-04-06T16:20:00\", \"version\": \"1.1.1\", \"measurement\": \"min\", \"value\": 1651930.0}, {\"started\": \"2020-03-25T11:20:00\", \"version\": \"1.1.0\", \"measurement\": \"full\", \"value\": 3721933.0}, {\"started\": \"2020-03-25T11:20:00\", \"version\": \"1.1.0\", \"measurement\": \"min\", \"value\": 1618231.0}, {\"started\": \"2020-03-16T08:20:00\", \"version\": \"1.0.2\", \"measurement\": \"full\", \"value\": 3644426.0}, {\"started\": \"2020-03-16T08:20:00\", \"version\": \"1.0.2\", \"measurement\": \"min\", \"value\": 1584533.0}, {\"started\": \"2020-03-07T01:20:00\", \"version\": \"1.0.1\", \"measurement\": \"full\", \"value\": 3566919.0}, {\"started\": \"2020-03-07T01:20:00\", \"version\": \"1.0.1\", \"measurement\": \"min\", \"value\": 1550834.0}, {\"started\": \"2020-02-20T21:20:00\", \"version\": \"1.0.0\", \"measurement\": \"full\", \"value\": 3489412.0}, {\"started\": \"2020-02-20T21:20:00\", \"version\": \"1.0.0\", \"measurement\": \"min\", \"value\": 1517135.0}], \"data-53f74962562aa0fbcea7913db762249a\": [{\"y\": 8000000}], \"data-1e46d36f9cc8177c7b8725be210ade22\": [{\"started\": \"2022-05-27T04:20:00\", \"version\": \"6.1.1\", \"measurement\": \"full\", \"value\": 9922493.0}, {\"started\": \"2022-05-27T04:20:00\", \"version\": \"6.1.1\", \"measurement\": \"min\", \"value\": 4314127.0}, {\"started\": \"2022-05-06T19:20:00\", \"version\": \"6.0.3\", \"measurement\": \"full\", \"value\": 9767479.0}, {\"started\": \"2022-05-06T19:20:00\", \"version\": \"6.0.3\", \"measurement\": \"min\", \"value\": 4246730.0}, {\"started\": \"2022-03-20T23:20:00\", \"version\": \"5.5.3\", \"measurement\": \"full\", \"value\": 9457451.0}, {\"started\": \"2022-03-20T23:20:00\", \"version\": \"5.5.3\", \"measurement\": \"min\", \"value\": 4111935.0}, {\"started\": \"2022-02-11T10:20:00\", \"version\": \"5.4.3\", \"measurement\": \"full\", \"value\": 9147423.0}, {\"started\": \"2022-02-11T10:20:00\", \"version\": \"5.4.3\", \"measurement\": \"min\", \"value\": 3977140.0}, {\"started\": \"2022-01-19T13:20:00\", \"version\": \"5.3.2\", \"measurement\": \"full\", \"value\": 8837395.0}, {\"started\": \"2022-01-19T13:20:00\", \"version\": \"5.3.2\", \"measurement\": \"min\", \"value\": 3842345.0}, {\"started\": \"2021-12-17T22:20:00\", \"version\": \"5.2.3\", \"measurement\": \"full\", \"value\": 8604874.0}, {\"started\": \"2021-12-17T22:20:00\", \"version\": \"5.2.3\", \"measurement\": \"min\", \"value\": 3741249.0}, {\"started\": \"2021-10-31T02:20:00\", \"version\": \"5.1.1\", \"measurement\": \"full\", \"value\": 8294846.0}, {\"started\": \"2021-10-31T02:20:00\", \"version\": \"5.1.1\", \"measurement\": \"min\", \"value\": 3606454.0}, {\"started\": \"2021-10-13T16:20:00\", \"version\": \"5.0.1\", \"measurement\": \"full\", \"value\": 8139832.0}, {\"started\": \"2021-10-13T16:20:00\", \"version\": \"5.0.1\", \"measurement\": \"min\", \"value\": 3539057.0}, {\"started\": \"2021-09-18T05:20:00\", \"version\": \"4.3.2\", \"measurement\": \"full\", \"value\": 7984818.0}, {\"started\": \"2021-09-18T05:20:00\", \"version\": \"4.3.2\", \"measurement\": \"min\", \"value\": 3471660.0}, {\"started\": \"2021-08-24T14:20:00\", \"version\": \"4.2.2\", \"measurement\": \"full\", \"value\": 7752297.0}, {\"started\": \"2021-08-24T14:20:00\", \"version\": \"4.2.2\", \"measurement\": \"min\", \"value\": 3370563.0}, {\"started\": \"2021-07-30T23:20:00\", \"version\": \"4.1.3\", \"measurement\": \"full\", \"value\": 7519776.0}, {\"started\": \"2021-07-30T23:20:00\", \"version\": \"4.1.3\", \"measurement\": \"min\", \"value\": 3269467.0}, {\"started\": \"2021-06-15T06:20:00\", \"version\": \"4.0.2\", \"measurement\": \"full\", \"value\": 7209748.0}, {\"started\": \"2021-06-15T06:20:00\", \"version\": \"4.0.2\", \"measurement\": \"min\", \"value\": 3134673.0}, {\"started\": \"2021-05-19T18:20:00\", \"version\": \"3.3.3\", \"measurement\": \"full\", \"value\": 6977227.0}, {\"started\": \"2021-05-19T18:20:00\", \"version\": \"3.3.3\", \"measurement\": \"min\", \"value\": 3033576.0}, {\"started\": \"2021-04-14T06:20:00\", \"version\": \"3.2.3\", \"measurement\": \"full\", \"value\": 6667199.0}, {\"started\": \"2021-04-14T06:20:00\", \"version\": \"3.2.3\", \"measurement\": \"min\", \"value\": 2898782.0}, {\"started\": \"2021-03-16T13:20:00\", \"version\": \"3.1.3\", \"measurement\": \"full\", \"value\": 6357171.0}, {\"started\": \"2021-03-16T13:20:00\", \"version\": \"3.1.3\", \"measurement\": \"min\", \"value\": 2763987.0}, {\"started\": \"2021-02-14T16:20:00\", \"version\": \"3.0.2\", \"measurement\": \"full\", \"value\": 6047143.0}, {\"started\": \"2021-02-14T16:20:00\", \"version\": \"3.0.2\", \"measurement\": \"min\", \"value\": 2629192.0}, {\"started\": \"2021-01-12T07:20:00\", \"version\": \"2.2.1\", \"measurement\": \"full\", \"value\": 5814622.0}, {\"started\": \"2021-01-12T07:20:00\", \"version\": \"2.2.1\", \"measurement\": \"min\", \"value\": 2528096.0}, {\"started\": \"2020-12-18T00:20:00\", \"version\": \"2.1.3\", \"measurement\": \"full\", \"value\": 5659608.0}, {\"started\": \"2020-12-18T00:20:00\", \"version\": \"2.1.3\", \"measurement\": \"min\", \"value\": 2460699.0}, {\"started\": \"2020-11-07T06:20:00\", \"version\": \"2.0.2\", \"measurement\": \"full\", \"value\": 5349580.0}, {\"started\": \"2020-11-07T06:20:00\", \"version\": \"2.0.2\", \"measurement\": \"min\", \"value\": 2325904.0}, {\"started\": \"2020-09-28T08:20:00\", \"version\": \"1.6.3\", \"measurement\": \"full\", \"value\": 5117059.0}, {\"started\": \"2020-09-28T08:20:00\", \"version\": \"1.6.3\", \"measurement\": \"min\", \"value\": 2224808.0}, {\"started\": \"2020-08-31T09:20:00\", \"version\": \"1.5.1\", \"measurement\": \"full\", \"value\": 4807031.0}, {\"started\": \"2020-08-31T09:20:00\", \"version\": \"1.5.1\", \"measurement\": \"min\", \"value\": 2090013.0}, {\"started\": \"2020-08-10T01:20:00\", \"version\": \"1.4.2\", \"measurement\": \"full\", \"value\": 4652017.0}, {\"started\": \"2020-08-10T01:20:00\", \"version\": \"1.4.2\", \"measurement\": \"min\", \"value\": 2022616.0}, {\"started\": \"2020-07-03T13:20:00\", \"version\": \"1.3.2\", \"measurement\": \"full\", \"value\": 4419496.0}, {\"started\": \"2020-07-03T13:20:00\", \"version\": \"1.3.2\", \"measurement\": \"min\", \"value\": 1921520.0}, {\"started\": \"2020-05-29T16:20:00\", \"version\": \"1.2.2\", \"measurement\": \"full\", \"value\": 4186975.0}, {\"started\": \"2020-05-29T16:20:00\", \"version\": \"1.2.2\", \"measurement\": \"min\", \"value\": 1820423.0}, {\"started\": \"2020-04-16T21:20:00\", \"version\": \"1.1.3\", \"measurement\": \"full\", \"value\": 3954454.0}, {\"started\": \"2020-04-16T21:20:00\", \"version\": \"1.1.3\", \"measurement\": \"min\", \"value\": 1719327.0}, {\"started\": \"2020-03-16T08:20:00\", \"version\": \"1.0.2\", \"measurement\": \"full\", \"value\": 3644426.0}, {\"started\": \"2020-03-16T08:20:00\", \"version\": \"1.0.2\", \"measurement\": \"min\", \"value\": 1584533.0}]}}, {\"mode\": \"vega-lite\"});\n</script>",
      "text/plain": "alt.LayerChart(...)"
     },
     "execution_count": 60,
     "metadata": {},
     "output_type": "execute_result"
    }
   ],
   "source": [
    "sdk_vals_no_idx = sdk_vals.reset_index()\n",
    "base = alt.Chart(sdk_vals_no_idx).encode(\n",
    "    x=\"started\",\n",
    "    y=\"value\",\n",
    "    tooltip=\"version\",\n",
    "    text=\"version\",\n",
    "    shape=\"measurement\",\n",
    "    color=\"measurement\"\n",
    ")\n",
    "\n",
    "last_release = sdk_vals_no_idx[sdk_vals_no_idx[\"version\"] == \"6.1.1\"]\n",
    "minor_releases = last_minor_releases(sdk_vals_no_idx)\n",
    "\n",
    "last = alt.Chart(sdk_vals_no_idx[sdk_vals_no_idx[\"version\"].isin(minor_releases)]).encode(\n",
    "    x=\"started\",\n",
    "    y=\"value\",\n",
    "    tooltip=\"version\",\n",
    "    text=\"version\",\n",
    ").mark_point(size=55, opacity=1.0).encode(\n",
    "    x=\"started\",\n",
    "    y=\"value\",\n",
    "    tooltip=\"version\",\n",
    "    text=\"version\",\n",
    "    shape=\"measurement\",\n",
    "    color=\"measurement\"\n",
    "\n",
    ")\n",
    "\n",
    "line = (alt.Chart(pd.DataFrame({'y': [8000000]})).\n",
    "        mark_rule(size=1, strokeDash=[4, 4], color=\"red\", opacity=0.5).\n",
    "        encode(y='y'))\n",
    "\n",
    "warn_text = alt.Chart(pd.DataFrame({'y': [8000000]})).mark_text(text=\"too much\", align=\"center\", opacity=1, baseline=\"line-bottom\", dx=-300, fontSize=12).encode(y=\"y\")\n",
    "\n",
    "last_text = last.mark_text(\n",
    "    align='center',\n",
    "    baseline='line-bottom',\n",
    "    dy=-10\n",
    ").encode(\n",
    "    text='version'\n",
    "\n",
    ")\n",
    "alt.layer(\n",
    "    base.mark_point(size=10, opacity=0.5),\n",
    "    base.mark_line(size=1, opacity=0.3),\n",
    "    line,\n",
    "    warn_text,\n",
    "    last,\n",
    "    last_text,\n",
    ").properties(\n",
    "    width=850,\n",
    "    height=400\n",
    ").interactive()"
   ]
  },
  {
   "cell_type": "code",
   "execution_count": 61,
   "metadata": {
    "pycharm": {
     "name": "#%%\n"
    }
   },
   "outputs": [
    {
     "data": {
      "text/plain": "(Version(major=6, minor=1, patch=1),\n Version(major=5, minor=5, patch=3),\n Version(major=6, minor=0, patch=3),\n Version(major=6, minor=1, patch=0))"
     },
     "execution_count": 61,
     "metadata": {},
     "output_type": "execute_result"
    }
   ],
   "source": [
    "versions = get_versions(sdk_vals_no_idx[\"version\"])\n",
    "r_latest = get_latest_release(versions)\n",
    "previous_major = get_previous(r_latest, versions, VersionLevel.Major)\n",
    "previous_minor = get_previous(r_latest, versions, VersionLevel.Minor)\n",
    "previous_patch = get_previous(r_latest, versions, VersionLevel.Patch)\n",
    "(r_latest, previous_major, previous_minor, previous_patch)"
   ]
  },
  {
   "cell_type": "code",
   "execution_count": 62,
   "metadata": {
    "pycharm": {
     "name": "#%%\n"
    }
   },
   "outputs": [
    {
     "data": {
      "text/plain": "4111935.0"
     },
     "execution_count": 62,
     "metadata": {},
     "output_type": "execute_result"
    }
   ],
   "source": [
    "\n",
    "def get_val(df, version, measurement):\n",
    "    return df.loc[(df[\"measurement\"] == measurement) & (df[\"version\"] == version),]\n",
    "\n",
    "\n",
    "get_val(sdk_vals_no_idx, str(previous_major), \"min\").reset_index()[\"value\"][0]"
   ]
  },
  {
   "cell_type": "code",
   "execution_count": 63,
   "metadata": {
    "pycharm": {
     "name": "#%%\n"
    }
   },
   "outputs": [
    {
     "data": {
      "text/plain": "<pandas.io.formats.style.Styler at 0x13031ae50>",
      "text/html": "<style type=\"text/css\">\n</style>\n<table id=\"T_ad491\">\n  <thead>\n    <tr>\n      <th class=\"index_name level0\" >Model:</th>\n      <th id=\"T_ad491_level0_col0\" class=\"col_heading level0 col0\" colspan=\"2\">Decision Tree</th>\n      <th id=\"T_ad491_level0_col2\" class=\"col_heading level0 col2\" colspan=\"2\">Regression</th>\n      <th id=\"T_ad491_level0_col4\" class=\"col_heading level0 col4\" colspan=\"2\">Random</th>\n    </tr>\n    <tr>\n      <th class=\"index_name level1\" >Predicted:</th>\n      <th id=\"T_ad491_level1_col0\" class=\"col_heading level1 col0\" >Tumour</th>\n      <th id=\"T_ad491_level1_col1\" class=\"col_heading level1 col1\" >Non-Tumour</th>\n      <th id=\"T_ad491_level1_col2\" class=\"col_heading level1 col2\" >Tumour</th>\n      <th id=\"T_ad491_level1_col3\" class=\"col_heading level1 col3\" >Non-Tumour</th>\n      <th id=\"T_ad491_level1_col4\" class=\"col_heading level1 col4\" >Tumour</th>\n      <th id=\"T_ad491_level1_col5\" class=\"col_heading level1 col5\" >Non-Tumour</th>\n    </tr>\n    <tr>\n      <th class=\"index_name level0\" >Actual Label:</th>\n      <th class=\"blank col0\" >&nbsp;</th>\n      <th class=\"blank col1\" >&nbsp;</th>\n      <th class=\"blank col2\" >&nbsp;</th>\n      <th class=\"blank col3\" >&nbsp;</th>\n      <th class=\"blank col4\" >&nbsp;</th>\n      <th class=\"blank col5\" >&nbsp;</th>\n    </tr>\n  </thead>\n  <tbody>\n    <tr>\n      <th id=\"T_ad491_level0_row0\" class=\"row_heading level0 row0\" >Tumour (Positive)</th>\n      <td id=\"T_ad491_row0_col0\" class=\"data row0 col0\" >38.000000</td>\n      <td id=\"T_ad491_row0_col1\" class=\"data row0 col1\" >2.000000</td>\n      <td id=\"T_ad491_row0_col2\" class=\"data row0 col2\" >18.000000</td>\n      <td id=\"T_ad491_row0_col3\" class=\"data row0 col3\" >22.000000</td>\n      <td id=\"T_ad491_row0_col4\" class=\"data row0 col4\" >21</td>\n      <td id=\"T_ad491_row0_col5\" class=\"data row0 col5\" >nan</td>\n    </tr>\n    <tr>\n      <th id=\"T_ad491_level0_row1\" class=\"row_heading level0 row1\" >Non-Tumour (Negative)</th>\n      <td id=\"T_ad491_row1_col0\" class=\"data row1 col0\" >19.000000</td>\n      <td id=\"T_ad491_row1_col1\" class=\"data row1 col1\" >439.000000</td>\n      <td id=\"T_ad491_row1_col2\" class=\"data row1 col2\" >6.000000</td>\n      <td id=\"T_ad491_row1_col3\" class=\"data row1 col3\" >452.000000</td>\n      <td id=\"T_ad491_row1_col4\" class=\"data row1 col4\" >226</td>\n      <td id=\"T_ad491_row1_col5\" class=\"data row1 col5\" >232.000000</td>\n    </tr>\n  </tbody>\n</table>\n"
     },
     "execution_count": 63,
     "metadata": {},
     "output_type": "execute_result"
    }
   ],
   "source": [
    "\n",
    "df = pd.DataFrame([[38.0, 2.0, 18.0, 22.0, 21, np.nan], [19, 439, 6, 452, 226, 232]],\n",
    "                  index=pd.Index(['Tumour (Positive)', 'Non-Tumour (Negative)'], name='Actual Label:'),\n",
    "                  columns=pd.MultiIndex.from_product([['Decision Tree', 'Regression', 'Random'], ['Tumour', 'Non-Tumour']], names=['Model:', 'Predicted:']))\n",
    "df.style\n"
   ]
  },
  {
   "cell_type": "code",
   "execution_count": 64,
   "metadata": {
    "pycharm": {
     "name": "#%%\n"
    }
   },
   "outputs": [
    {
     "data": {
      "text/plain": "Model:                Decision Tree            Regression            Random  \\\nPredicted:                   Tumour Non-Tumour     Tumour Non-Tumour Tumour   \nActual Label:                                                                 \nTumour (Positive)              38.0        2.0       18.0       22.0     21   \nNon-Tumour (Negative)          19.0      439.0        6.0      452.0    226   \n\nModel:                            \nPredicted:            Non-Tumour  \nActual Label:                     \nTumour (Positive)            NaN  \nNon-Tumour (Negative)      232.0  ",
      "text/html": "<div>\n<style scoped>\n    .dataframe tbody tr th:only-of-type {\n        vertical-align: middle;\n    }\n\n    .dataframe tbody tr th {\n        vertical-align: top;\n    }\n\n    .dataframe thead tr th {\n        text-align: left;\n    }\n\n    .dataframe thead tr:last-of-type th {\n        text-align: right;\n    }\n</style>\n<table border=\"1\" class=\"dataframe\">\n  <thead>\n    <tr>\n      <th>Model:</th>\n      <th colspan=\"2\" halign=\"left\">Decision Tree</th>\n      <th colspan=\"2\" halign=\"left\">Regression</th>\n      <th colspan=\"2\" halign=\"left\">Random</th>\n    </tr>\n    <tr>\n      <th>Predicted:</th>\n      <th>Tumour</th>\n      <th>Non-Tumour</th>\n      <th>Tumour</th>\n      <th>Non-Tumour</th>\n      <th>Tumour</th>\n      <th>Non-Tumour</th>\n    </tr>\n    <tr>\n      <th>Actual Label:</th>\n      <th></th>\n      <th></th>\n      <th></th>\n      <th></th>\n      <th></th>\n      <th></th>\n    </tr>\n  </thead>\n  <tbody>\n    <tr>\n      <th>Tumour (Positive)</th>\n      <td>38.0</td>\n      <td>2.0</td>\n      <td>18.0</td>\n      <td>22.0</td>\n      <td>21</td>\n      <td>NaN</td>\n    </tr>\n    <tr>\n      <th>Non-Tumour (Negative)</th>\n      <td>19.0</td>\n      <td>439.0</td>\n      <td>6.0</td>\n      <td>452.0</td>\n      <td>226</td>\n      <td>232.0</td>\n    </tr>\n  </tbody>\n</table>\n</div>"
     },
     "execution_count": 64,
     "metadata": {},
     "output_type": "execute_result"
    }
   ],
   "source": [
    "df"
   ]
  },
  {
   "cell_type": "code",
   "execution_count": 65,
   "metadata": {
    "pycharm": {
     "name": "#%%\n"
    }
   },
   "outputs": [
    {
     "data": {
      "text/plain": "MultiIndex([('Decision Tree',     'Tumour'),\n            ('Decision Tree', 'Non-Tumour'),\n            (   'Regression',     'Tumour'),\n            (   'Regression', 'Non-Tumour'),\n            (       'Random',     'Tumour'),\n            (       'Random', 'Non-Tumour')],\n           names=['Model:', 'Predicted:'])"
     },
     "execution_count": 65,
     "metadata": {},
     "output_type": "execute_result"
    }
   ],
   "source": [
    "pd.MultiIndex.from_product([['Decision Tree', 'Regression', 'Random'], ['Tumour', 'Non-Tumour']], names=['Model:', 'Predicted:'])\n"
   ]
  },
  {
   "cell_type": "code",
   "execution_count": 66,
   "metadata": {
    "pycharm": {
     "name": "#%%\n"
    }
   },
   "outputs": [
    {
     "data": {
      "text/plain": "Model:     Decision Tree            Regression            Random           \nPredicted:        Tumour Non-Tumour     Tumour Non-Tumour Tumour Non-Tumour\n0                   38.0        2.0       18.0       22.0     21        NaN\n1                   19.0      439.0        6.0      452.0    226      232.0",
      "text/html": "<div>\n<style scoped>\n    .dataframe tbody tr th:only-of-type {\n        vertical-align: middle;\n    }\n\n    .dataframe tbody tr th {\n        vertical-align: top;\n    }\n\n    .dataframe thead tr th {\n        text-align: left;\n    }\n</style>\n<table border=\"1\" class=\"dataframe\">\n  <thead>\n    <tr>\n      <th>Model:</th>\n      <th colspan=\"2\" halign=\"left\">Decision Tree</th>\n      <th colspan=\"2\" halign=\"left\">Regression</th>\n      <th colspan=\"2\" halign=\"left\">Random</th>\n    </tr>\n    <tr>\n      <th>Predicted:</th>\n      <th>Tumour</th>\n      <th>Non-Tumour</th>\n      <th>Tumour</th>\n      <th>Non-Tumour</th>\n      <th>Tumour</th>\n      <th>Non-Tumour</th>\n    </tr>\n  </thead>\n  <tbody>\n    <tr>\n      <th>0</th>\n      <td>38.0</td>\n      <td>2.0</td>\n      <td>18.0</td>\n      <td>22.0</td>\n      <td>21</td>\n      <td>NaN</td>\n    </tr>\n    <tr>\n      <th>1</th>\n      <td>19.0</td>\n      <td>439.0</td>\n      <td>6.0</td>\n      <td>452.0</td>\n      <td>226</td>\n      <td>232.0</td>\n    </tr>\n  </tbody>\n</table>\n</div>"
     },
     "execution_count": 66,
     "metadata": {},
     "output_type": "execute_result"
    }
   ],
   "source": [
    " pd.DataFrame([[38.0, 2.0, 18.0, 22.0, 21, np.nan], [19, 439, 6, 452, 226, 232]],\n",
    "              columns=pd.MultiIndex.from_product([['Decision Tree', 'Regression', 'Random'], ['Tumour', 'Non-Tumour']], names=['Model:', 'Predicted:']))\n"
   ]
  },
  {
   "cell_type": "code",
   "execution_count": 67,
   "metadata": {
    "pycharm": {
     "name": "#%%\n"
    }
   },
   "outputs": [
    {
     "data": {
      "text/plain": "   AAA  BBB  CCC\n0    4   10  100\n1    5   20   50\n2    6   30  -30\n3    7   40  -50",
      "text/html": "<div>\n<style scoped>\n    .dataframe tbody tr th:only-of-type {\n        vertical-align: middle;\n    }\n\n    .dataframe tbody tr th {\n        vertical-align: top;\n    }\n\n    .dataframe thead th {\n        text-align: right;\n    }\n</style>\n<table border=\"1\" class=\"dataframe\">\n  <thead>\n    <tr style=\"text-align: right;\">\n      <th></th>\n      <th>AAA</th>\n      <th>BBB</th>\n      <th>CCC</th>\n    </tr>\n  </thead>\n  <tbody>\n    <tr>\n      <th>0</th>\n      <td>4</td>\n      <td>10</td>\n      <td>100</td>\n    </tr>\n    <tr>\n      <th>1</th>\n      <td>5</td>\n      <td>20</td>\n      <td>50</td>\n    </tr>\n    <tr>\n      <th>2</th>\n      <td>6</td>\n      <td>30</td>\n      <td>-30</td>\n    </tr>\n    <tr>\n      <th>3</th>\n      <td>7</td>\n      <td>40</td>\n      <td>-50</td>\n    </tr>\n  </tbody>\n</table>\n</div>"
     },
     "execution_count": 67,
     "metadata": {},
     "output_type": "execute_result"
    }
   ],
   "source": [
    "df = pd.DataFrame(\n",
    "    {\"AAA\": [4, 5, 6, 7], \"BBB\": [10, 20, 30, 40], \"CCC\": [100, 50, -30, -50]}\n",
    ")\n",
    "df\n"
   ]
  },
  {
   "cell_type": "code",
   "execution_count": 68,
   "metadata": {
    "pycharm": {
     "name": "#%%\n"
    }
   },
   "outputs": [
    {
     "data": {
      "text/plain": "   AAA  BBB  CCC\n0    4   10  100\n1    5   33   50\n2    6   33  -30\n3    7   33  -50",
      "text/html": "<div>\n<style scoped>\n    .dataframe tbody tr th:only-of-type {\n        vertical-align: middle;\n    }\n\n    .dataframe tbody tr th {\n        vertical-align: top;\n    }\n\n    .dataframe thead th {\n        text-align: right;\n    }\n</style>\n<table border=\"1\" class=\"dataframe\">\n  <thead>\n    <tr style=\"text-align: right;\">\n      <th></th>\n      <th>AAA</th>\n      <th>BBB</th>\n      <th>CCC</th>\n    </tr>\n  </thead>\n  <tbody>\n    <tr>\n      <th>0</th>\n      <td>4</td>\n      <td>10</td>\n      <td>100</td>\n    </tr>\n    <tr>\n      <th>1</th>\n      <td>5</td>\n      <td>33</td>\n      <td>50</td>\n    </tr>\n    <tr>\n      <th>2</th>\n      <td>6</td>\n      <td>33</td>\n      <td>-30</td>\n    </tr>\n    <tr>\n      <th>3</th>\n      <td>7</td>\n      <td>33</td>\n      <td>-50</td>\n    </tr>\n  </tbody>\n</table>\n</div>"
     },
     "execution_count": 68,
     "metadata": {},
     "output_type": "execute_result"
    }
   ],
   "source": [
    "df2 = df.copy()\n",
    "df2.loc[df.AAA >= 5, \"BBB\"] = 33\n",
    "df2\n"
   ]
  },
  {
   "cell_type": "code",
   "execution_count": 69,
   "metadata": {
    "pycharm": {
     "name": "#%%\n"
    }
   },
   "outputs": [
    {
     "data": {
      "text/plain": "   AAA  BBB  CCC\n0    4   10  100\n1    5   20   50\n2    6   30  -30\n3    7   40  -50",
      "text/html": "<div>\n<style scoped>\n    .dataframe tbody tr th:only-of-type {\n        vertical-align: middle;\n    }\n\n    .dataframe tbody tr th {\n        vertical-align: top;\n    }\n\n    .dataframe thead th {\n        text-align: right;\n    }\n</style>\n<table border=\"1\" class=\"dataframe\">\n  <thead>\n    <tr style=\"text-align: right;\">\n      <th></th>\n      <th>AAA</th>\n      <th>BBB</th>\n      <th>CCC</th>\n    </tr>\n  </thead>\n  <tbody>\n    <tr>\n      <th>0</th>\n      <td>4</td>\n      <td>10</td>\n      <td>100</td>\n    </tr>\n    <tr>\n      <th>1</th>\n      <td>5</td>\n      <td>20</td>\n      <td>50</td>\n    </tr>\n    <tr>\n      <th>2</th>\n      <td>6</td>\n      <td>30</td>\n      <td>-30</td>\n    </tr>\n    <tr>\n      <th>3</th>\n      <td>7</td>\n      <td>40</td>\n      <td>-50</td>\n    </tr>\n  </tbody>\n</table>\n</div>"
     },
     "execution_count": 69,
     "metadata": {},
     "output_type": "execute_result"
    }
   ],
   "source": [
    "df"
   ]
  },
  {
   "cell_type": "code",
   "execution_count": 70,
   "metadata": {
    "pycharm": {
     "name": "#%%\n"
    }
   },
   "outputs": [
    {
     "data": {
      "text/plain": "    AAA    BBB    CCC\n0  True  False   True\n1  True  False  False\n2  True  False   True\n3  True  False  False",
      "text/html": "<div>\n<style scoped>\n    .dataframe tbody tr th:only-of-type {\n        vertical-align: middle;\n    }\n\n    .dataframe tbody tr th {\n        vertical-align: top;\n    }\n\n    .dataframe thead th {\n        text-align: right;\n    }\n</style>\n<table border=\"1\" class=\"dataframe\">\n  <thead>\n    <tr style=\"text-align: right;\">\n      <th></th>\n      <th>AAA</th>\n      <th>BBB</th>\n      <th>CCC</th>\n    </tr>\n  </thead>\n  <tbody>\n    <tr>\n      <th>0</th>\n      <td>True</td>\n      <td>False</td>\n      <td>True</td>\n    </tr>\n    <tr>\n      <th>1</th>\n      <td>True</td>\n      <td>False</td>\n      <td>False</td>\n    </tr>\n    <tr>\n      <th>2</th>\n      <td>True</td>\n      <td>False</td>\n      <td>True</td>\n    </tr>\n    <tr>\n      <th>3</th>\n      <td>True</td>\n      <td>False</td>\n      <td>False</td>\n    </tr>\n  </tbody>\n</table>\n</div>"
     },
     "execution_count": 70,
     "metadata": {},
     "output_type": "execute_result"
    }
   ],
   "source": [
    "df_mask = pd.DataFrame(\n",
    "    {\"AAA\": [True] * 4, \"BBB\": [False] * 4, \"CCC\": [True, False] * 2}\n",
    ")\n",
    "df_mask\n"
   ]
  },
  {
   "cell_type": "code",
   "execution_count": 71,
   "metadata": {
    "pycharm": {
     "name": "#%%\n"
    }
   },
   "outputs": [
    {
     "data": {
      "text/plain": "   AAA  BBB    CCC\n0    4  NaN  100.0\n1    5  NaN    NaN\n2    6  NaN  -30.0\n3    7  NaN    NaN",
      "text/html": "<div>\n<style scoped>\n    .dataframe tbody tr th:only-of-type {\n        vertical-align: middle;\n    }\n\n    .dataframe tbody tr th {\n        vertical-align: top;\n    }\n\n    .dataframe thead th {\n        text-align: right;\n    }\n</style>\n<table border=\"1\" class=\"dataframe\">\n  <thead>\n    <tr style=\"text-align: right;\">\n      <th></th>\n      <th>AAA</th>\n      <th>BBB</th>\n      <th>CCC</th>\n    </tr>\n  </thead>\n  <tbody>\n    <tr>\n      <th>0</th>\n      <td>4</td>\n      <td>NaN</td>\n      <td>100.0</td>\n    </tr>\n    <tr>\n      <th>1</th>\n      <td>5</td>\n      <td>NaN</td>\n      <td>NaN</td>\n    </tr>\n    <tr>\n      <th>2</th>\n      <td>6</td>\n      <td>NaN</td>\n      <td>-30.0</td>\n    </tr>\n    <tr>\n      <th>3</th>\n      <td>7</td>\n      <td>NaN</td>\n      <td>NaN</td>\n    </tr>\n  </tbody>\n</table>\n</div>"
     },
     "execution_count": 71,
     "metadata": {},
     "output_type": "execute_result"
    }
   ],
   "source": [
    "df3 = df.where(df_mask, np.nan)\n",
    "df3"
   ]
  },
  {
   "cell_type": "code",
   "execution_count": 72,
   "metadata": {
    "pycharm": {
     "name": "#%%\n"
    }
   },
   "outputs": [
    {
     "data": {
      "text/plain": "   AAA  BBB    CCC      CCC type\n0    4  NaN  100.0      A number\n1    5  NaN    NaN  Not a number\n2    6  NaN  -30.0      A number\n3    7  NaN    NaN  Not a number",
      "text/html": "<div>\n<style scoped>\n    .dataframe tbody tr th:only-of-type {\n        vertical-align: middle;\n    }\n\n    .dataframe tbody tr th {\n        vertical-align: top;\n    }\n\n    .dataframe thead th {\n        text-align: right;\n    }\n</style>\n<table border=\"1\" class=\"dataframe\">\n  <thead>\n    <tr style=\"text-align: right;\">\n      <th></th>\n      <th>AAA</th>\n      <th>BBB</th>\n      <th>CCC</th>\n      <th>CCC type</th>\n    </tr>\n  </thead>\n  <tbody>\n    <tr>\n      <th>0</th>\n      <td>4</td>\n      <td>NaN</td>\n      <td>100.0</td>\n      <td>A number</td>\n    </tr>\n    <tr>\n      <th>1</th>\n      <td>5</td>\n      <td>NaN</td>\n      <td>NaN</td>\n      <td>Not a number</td>\n    </tr>\n    <tr>\n      <th>2</th>\n      <td>6</td>\n      <td>NaN</td>\n      <td>-30.0</td>\n      <td>A number</td>\n    </tr>\n    <tr>\n      <th>3</th>\n      <td>7</td>\n      <td>NaN</td>\n      <td>NaN</td>\n      <td>Not a number</td>\n    </tr>\n  </tbody>\n</table>\n</div>"
     },
     "execution_count": 72,
     "metadata": {},
     "output_type": "execute_result"
    }
   ],
   "source": [
    "df3[\"CCC type\"] = np.where(np.isnan(df3[\"CCC\"]), \"Not a number\", \"A number\")\n",
    "df3"
   ]
  },
  {
   "cell_type": "code",
   "execution_count": 73,
   "metadata": {
    "pycharm": {
     "name": "#%%\n"
    }
   },
   "outputs": [
    {
     "data": {
      "text/plain": "    a  b\n0   C  2\n1   C  7\n2   C  4\n3   D  1\n4   B  2\n5   D  6\n6   E  8\n7   E  4\n8   A  7\n9   A  8\n10  E  8\n11  E  8\n12  D  9",
      "text/html": "<div>\n<style scoped>\n    .dataframe tbody tr th:only-of-type {\n        vertical-align: middle;\n    }\n\n    .dataframe tbody tr th {\n        vertical-align: top;\n    }\n\n    .dataframe thead th {\n        text-align: right;\n    }\n</style>\n<table border=\"1\" class=\"dataframe\">\n  <thead>\n    <tr style=\"text-align: right;\">\n      <th></th>\n      <th>a</th>\n      <th>b</th>\n    </tr>\n  </thead>\n  <tbody>\n    <tr>\n      <th>0</th>\n      <td>C</td>\n      <td>2</td>\n    </tr>\n    <tr>\n      <th>1</th>\n      <td>C</td>\n      <td>7</td>\n    </tr>\n    <tr>\n      <th>2</th>\n      <td>C</td>\n      <td>4</td>\n    </tr>\n    <tr>\n      <th>3</th>\n      <td>D</td>\n      <td>1</td>\n    </tr>\n    <tr>\n      <th>4</th>\n      <td>B</td>\n      <td>2</td>\n    </tr>\n    <tr>\n      <th>5</th>\n      <td>D</td>\n      <td>6</td>\n    </tr>\n    <tr>\n      <th>6</th>\n      <td>E</td>\n      <td>8</td>\n    </tr>\n    <tr>\n      <th>7</th>\n      <td>E</td>\n      <td>4</td>\n    </tr>\n    <tr>\n      <th>8</th>\n      <td>A</td>\n      <td>7</td>\n    </tr>\n    <tr>\n      <th>9</th>\n      <td>A</td>\n      <td>8</td>\n    </tr>\n    <tr>\n      <th>10</th>\n      <td>E</td>\n      <td>8</td>\n    </tr>\n    <tr>\n      <th>11</th>\n      <td>E</td>\n      <td>8</td>\n    </tr>\n    <tr>\n      <th>12</th>\n      <td>D</td>\n      <td>9</td>\n    </tr>\n  </tbody>\n</table>\n</div>"
     },
     "execution_count": 73,
     "metadata": {},
     "output_type": "execute_result"
    }
   ],
   "source": [
    "data = pd.DataFrame({'a': list('CCCDBDEEAAEED'),\n",
    "                     'b': [2, 7, 4, 1, 2, 6, 8, 4, 7, 8, 8, 8, 9]})\n",
    "data\n"
   ]
  },
  {
   "cell_type": "code",
   "execution_count": 74,
   "metadata": {
    "pycharm": {
     "name": "#%%\n"
    }
   },
   "outputs": [
    {
     "data": {
      "text/html": "\n<div id=\"altair-viz-179c754420d6435fa0a08d5246bb45c3\"></div>\n<script type=\"text/javascript\">\n  var VEGA_DEBUG = (typeof VEGA_DEBUG == \"undefined\") ? {} : VEGA_DEBUG;\n  (function(spec, embedOpt){\n    let outputDiv = document.currentScript.previousElementSibling;\n    if (outputDiv.id !== \"altair-viz-179c754420d6435fa0a08d5246bb45c3\") {\n      outputDiv = document.getElementById(\"altair-viz-179c754420d6435fa0a08d5246bb45c3\");\n    }\n    const paths = {\n      \"vega\": \"https://cdn.jsdelivr.net/npm//vega@5?noext\",\n      \"vega-lib\": \"https://cdn.jsdelivr.net/npm//vega-lib?noext\",\n      \"vega-lite\": \"https://cdn.jsdelivr.net/npm//vega-lite@4.17.0?noext\",\n      \"vega-embed\": \"https://cdn.jsdelivr.net/npm//vega-embed@6?noext\",\n    };\n\n    function maybeLoadScript(lib, version) {\n      var key = `${lib.replace(\"-\", \"\")}_version`;\n      return (VEGA_DEBUG[key] == version) ?\n        Promise.resolve(paths[lib]) :\n        new Promise(function(resolve, reject) {\n          var s = document.createElement('script');\n          document.getElementsByTagName(\"head\")[0].appendChild(s);\n          s.async = true;\n          s.onload = () => {\n            VEGA_DEBUG[key] = version;\n            return resolve(paths[lib]);\n          };\n          s.onerror = () => reject(`Error loading script: ${paths[lib]}`);\n          s.src = paths[lib];\n        });\n    }\n\n    function showError(err) {\n      outputDiv.innerHTML = `<div class=\"error\" style=\"color:red;\">${err}</div>`;\n      throw err;\n    }\n\n    function displayChart(vegaEmbed) {\n      vegaEmbed(outputDiv, spec, embedOpt)\n        .catch(err => showError(`Javascript Error: ${err.message}<br>This usually means there's a typo in your chart specification. See the javascript console for the full traceback.`));\n    }\n\n    if(typeof define === \"function\" && define.amd) {\n      requirejs.config({paths});\n      require([\"vega-embed\"], displayChart, err => showError(`Error loading script: ${err.message}`));\n    } else {\n      maybeLoadScript(\"vega\", \"5\")\n        .then(() => maybeLoadScript(\"vega-lite\", \"4.17.0\"))\n        .then(() => maybeLoadScript(\"vega-embed\", \"6\"))\n        .catch(showError)\n        .then(() => displayChart(vegaEmbed));\n    }\n  })({\"config\": {\"view\": {\"continuousWidth\": 400, \"continuousHeight\": 300}}, \"data\": {\"name\": \"data-8bdeb285656045b12bc2262186ff5b57\"}, \"mark\": \"point\", \"encoding\": {\"x\": {\"field\": \"a\", \"type\": \"nominal\"}}, \"$schema\": \"https://vega.github.io/schema/vega-lite/v4.17.0.json\", \"datasets\": {\"data-8bdeb285656045b12bc2262186ff5b57\": [{\"a\": \"C\", \"b\": 2}, {\"a\": \"C\", \"b\": 7}, {\"a\": \"C\", \"b\": 4}, {\"a\": \"D\", \"b\": 1}, {\"a\": \"B\", \"b\": 2}, {\"a\": \"D\", \"b\": 6}, {\"a\": \"E\", \"b\": 8}, {\"a\": \"E\", \"b\": 4}, {\"a\": \"A\", \"b\": 7}, {\"a\": \"A\", \"b\": 8}, {\"a\": \"E\", \"b\": 8}, {\"a\": \"E\", \"b\": 8}, {\"a\": \"D\", \"b\": 9}]}}, {\"mode\": \"vega-lite\"});\n</script>",
      "text/plain": "alt.Chart(...)"
     },
     "execution_count": 74,
     "metadata": {},
     "output_type": "execute_result"
    }
   ],
   "source": [
    "# chart = alt.Chart(data)\n",
    "alt.Chart(data).mark_point().encode(x='a')"
   ]
  },
  {
   "cell_type": "code",
   "execution_count": 75,
   "metadata": {
    "pycharm": {
     "name": "#%%\n"
    }
   },
   "outputs": [
    {
     "data": {
      "text/html": "\n<div id=\"altair-viz-4fee6e5809a0479e8d99232a32c738e2\"></div>\n<script type=\"text/javascript\">\n  var VEGA_DEBUG = (typeof VEGA_DEBUG == \"undefined\") ? {} : VEGA_DEBUG;\n  (function(spec, embedOpt){\n    let outputDiv = document.currentScript.previousElementSibling;\n    if (outputDiv.id !== \"altair-viz-4fee6e5809a0479e8d99232a32c738e2\") {\n      outputDiv = document.getElementById(\"altair-viz-4fee6e5809a0479e8d99232a32c738e2\");\n    }\n    const paths = {\n      \"vega\": \"https://cdn.jsdelivr.net/npm//vega@5?noext\",\n      \"vega-lib\": \"https://cdn.jsdelivr.net/npm//vega-lib?noext\",\n      \"vega-lite\": \"https://cdn.jsdelivr.net/npm//vega-lite@4.17.0?noext\",\n      \"vega-embed\": \"https://cdn.jsdelivr.net/npm//vega-embed@6?noext\",\n    };\n\n    function maybeLoadScript(lib, version) {\n      var key = `${lib.replace(\"-\", \"\")}_version`;\n      return (VEGA_DEBUG[key] == version) ?\n        Promise.resolve(paths[lib]) :\n        new Promise(function(resolve, reject) {\n          var s = document.createElement('script');\n          document.getElementsByTagName(\"head\")[0].appendChild(s);\n          s.async = true;\n          s.onload = () => {\n            VEGA_DEBUG[key] = version;\n            return resolve(paths[lib]);\n          };\n          s.onerror = () => reject(`Error loading script: ${paths[lib]}`);\n          s.src = paths[lib];\n        });\n    }\n\n    function showError(err) {\n      outputDiv.innerHTML = `<div class=\"error\" style=\"color:red;\">${err}</div>`;\n      throw err;\n    }\n\n    function displayChart(vegaEmbed) {\n      vegaEmbed(outputDiv, spec, embedOpt)\n        .catch(err => showError(`Javascript Error: ${err.message}<br>This usually means there's a typo in your chart specification. See the javascript console for the full traceback.`));\n    }\n\n    if(typeof define === \"function\" && define.amd) {\n      requirejs.config({paths});\n      require([\"vega-embed\"], displayChart, err => showError(`Error loading script: ${err.message}`));\n    } else {\n      maybeLoadScript(\"vega\", \"5\")\n        .then(() => maybeLoadScript(\"vega-lite\", \"4.17.0\"))\n        .then(() => maybeLoadScript(\"vega-embed\", \"6\"))\n        .catch(showError)\n        .then(() => displayChart(vegaEmbed));\n    }\n  })({\"config\": {\"view\": {\"continuousWidth\": 400, \"continuousHeight\": 300}}, \"data\": {\"name\": \"data-8bdeb285656045b12bc2262186ff5b57\"}, \"mark\": \"point\", \"encoding\": {\"x\": {\"field\": \"b\", \"type\": \"quantitative\"}, \"y\": {\"field\": \"a\", \"type\": \"nominal\"}}, \"$schema\": \"https://vega.github.io/schema/vega-lite/v4.17.0.json\", \"datasets\": {\"data-8bdeb285656045b12bc2262186ff5b57\": [{\"a\": \"C\", \"b\": 2}, {\"a\": \"C\", \"b\": 7}, {\"a\": \"C\", \"b\": 4}, {\"a\": \"D\", \"b\": 1}, {\"a\": \"B\", \"b\": 2}, {\"a\": \"D\", \"b\": 6}, {\"a\": \"E\", \"b\": 8}, {\"a\": \"E\", \"b\": 4}, {\"a\": \"A\", \"b\": 7}, {\"a\": \"A\", \"b\": 8}, {\"a\": \"E\", \"b\": 8}, {\"a\": \"E\", \"b\": 8}, {\"a\": \"D\", \"b\": 9}]}}, {\"mode\": \"vega-lite\"});\n</script>",
      "text/plain": "alt.Chart(...)"
     },
     "execution_count": 75,
     "metadata": {},
     "output_type": "execute_result"
    }
   ],
   "source": [
    "alt.Chart(data).mark_point().encode(x='b', y='a')"
   ]
  },
  {
   "cell_type": "code",
   "execution_count": 76,
   "metadata": {
    "pycharm": {
     "name": "#%%\n"
    }
   },
   "outputs": [
    {
     "data": {
      "text/html": "\n<div id=\"altair-viz-242810e9665d47c68bbdbdbc15820329\"></div>\n<script type=\"text/javascript\">\n  var VEGA_DEBUG = (typeof VEGA_DEBUG == \"undefined\") ? {} : VEGA_DEBUG;\n  (function(spec, embedOpt){\n    let outputDiv = document.currentScript.previousElementSibling;\n    if (outputDiv.id !== \"altair-viz-242810e9665d47c68bbdbdbc15820329\") {\n      outputDiv = document.getElementById(\"altair-viz-242810e9665d47c68bbdbdbc15820329\");\n    }\n    const paths = {\n      \"vega\": \"https://cdn.jsdelivr.net/npm//vega@5?noext\",\n      \"vega-lib\": \"https://cdn.jsdelivr.net/npm//vega-lib?noext\",\n      \"vega-lite\": \"https://cdn.jsdelivr.net/npm//vega-lite@4.17.0?noext\",\n      \"vega-embed\": \"https://cdn.jsdelivr.net/npm//vega-embed@6?noext\",\n    };\n\n    function maybeLoadScript(lib, version) {\n      var key = `${lib.replace(\"-\", \"\")}_version`;\n      return (VEGA_DEBUG[key] == version) ?\n        Promise.resolve(paths[lib]) :\n        new Promise(function(resolve, reject) {\n          var s = document.createElement('script');\n          document.getElementsByTagName(\"head\")[0].appendChild(s);\n          s.async = true;\n          s.onload = () => {\n            VEGA_DEBUG[key] = version;\n            return resolve(paths[lib]);\n          };\n          s.onerror = () => reject(`Error loading script: ${paths[lib]}`);\n          s.src = paths[lib];\n        });\n    }\n\n    function showError(err) {\n      outputDiv.innerHTML = `<div class=\"error\" style=\"color:red;\">${err}</div>`;\n      throw err;\n    }\n\n    function displayChart(vegaEmbed) {\n      vegaEmbed(outputDiv, spec, embedOpt)\n        .catch(err => showError(`Javascript Error: ${err.message}<br>This usually means there's a typo in your chart specification. See the javascript console for the full traceback.`));\n    }\n\n    if(typeof define === \"function\" && define.amd) {\n      requirejs.config({paths});\n      require([\"vega-embed\"], displayChart, err => showError(`Error loading script: ${err.message}`));\n    } else {\n      maybeLoadScript(\"vega\", \"5\")\n        .then(() => maybeLoadScript(\"vega-lite\", \"4.17.0\"))\n        .then(() => maybeLoadScript(\"vega-embed\", \"6\"))\n        .catch(showError)\n        .then(() => displayChart(vegaEmbed));\n    }\n  })({\"config\": {\"view\": {\"continuousWidth\": 400, \"continuousHeight\": 300}}, \"layer\": [{\"mark\": \"bar\", \"encoding\": {\"x\": {\"field\": \"wheat\", \"type\": \"quantitative\"}, \"y\": {\"field\": \"year\", \"type\": \"ordinal\"}}}, {\"mark\": {\"type\": \"text\", \"align\": \"left\", \"baseline\": \"middle\", \"dx\": 3}, \"encoding\": {\"text\": {\"field\": \"wheat\", \"type\": \"quantitative\"}, \"x\": {\"field\": \"wheat\", \"type\": \"quantitative\"}, \"y\": {\"field\": \"year\", \"type\": \"ordinal\"}}}], \"data\": {\"name\": \"data-76d1ce26ea5761007c35827e1564d86c\"}, \"height\": 900, \"$schema\": \"https://vega.github.io/schema/vega-lite/v4.17.0.json\", \"datasets\": {\"data-76d1ce26ea5761007c35827e1564d86c\": [{\"year\": 1565, \"wheat\": 41.0, \"wages\": 5.0}, {\"year\": 1570, \"wheat\": 45.0, \"wages\": 5.05}, {\"year\": 1575, \"wheat\": 42.0, \"wages\": 5.08}, {\"year\": 1580, \"wheat\": 49.0, \"wages\": 5.12}, {\"year\": 1585, \"wheat\": 41.5, \"wages\": 5.15}, {\"year\": 1590, \"wheat\": 47.0, \"wages\": 5.25}, {\"year\": 1595, \"wheat\": 64.0, \"wages\": 5.54}, {\"year\": 1600, \"wheat\": 27.0, \"wages\": 5.61}, {\"year\": 1605, \"wheat\": 33.0, \"wages\": 5.69}, {\"year\": 1610, \"wheat\": 32.0, \"wages\": 5.78}, {\"year\": 1615, \"wheat\": 33.0, \"wages\": 5.94}, {\"year\": 1620, \"wheat\": 35.0, \"wages\": 6.01}, {\"year\": 1625, \"wheat\": 33.0, \"wages\": 6.12}, {\"year\": 1630, \"wheat\": 45.0, \"wages\": 6.22}, {\"year\": 1635, \"wheat\": 33.0, \"wages\": 6.3}, {\"year\": 1640, \"wheat\": 39.0, \"wages\": 6.37}, {\"year\": 1645, \"wheat\": 53.0, \"wages\": 6.45}, {\"year\": 1650, \"wheat\": 42.0, \"wages\": 6.5}, {\"year\": 1655, \"wheat\": 40.5, \"wages\": 6.6}, {\"year\": 1660, \"wheat\": 46.5, \"wages\": 6.75}, {\"year\": 1665, \"wheat\": 32.0, \"wages\": 6.8}, {\"year\": 1670, \"wheat\": 37.0, \"wages\": 6.9}, {\"year\": 1675, \"wheat\": 43.0, \"wages\": 7.0}, {\"year\": 1680, \"wheat\": 35.0, \"wages\": 7.3}, {\"year\": 1685, \"wheat\": 27.0, \"wages\": 7.6}, {\"year\": 1690, \"wheat\": 40.0, \"wages\": 8.0}, {\"year\": 1695, \"wheat\": 50.0, \"wages\": 8.5}, {\"year\": 1700, \"wheat\": 30.0, \"wages\": 9.0}, {\"year\": 1705, \"wheat\": 32.0, \"wages\": 10.0}, {\"year\": 1710, \"wheat\": 44.0, \"wages\": 11.0}, {\"year\": 1715, \"wheat\": 33.0, \"wages\": 11.75}, {\"year\": 1720, \"wheat\": 29.0, \"wages\": 12.5}, {\"year\": 1725, \"wheat\": 39.0, \"wages\": 13.0}, {\"year\": 1730, \"wheat\": 26.0, \"wages\": 13.3}, {\"year\": 1735, \"wheat\": 32.0, \"wages\": 13.6}, {\"year\": 1740, \"wheat\": 27.0, \"wages\": 14.0}, {\"year\": 1745, \"wheat\": 27.5, \"wages\": 14.5}, {\"year\": 1750, \"wheat\": 31.0, \"wages\": 15.0}, {\"year\": 1755, \"wheat\": 35.5, \"wages\": 15.7}, {\"year\": 1760, \"wheat\": 31.0, \"wages\": 16.5}, {\"year\": 1765, \"wheat\": 43.0, \"wages\": 17.6}, {\"year\": 1770, \"wheat\": 47.0, \"wages\": 18.5}, {\"year\": 1775, \"wheat\": 44.0, \"wages\": 19.5}, {\"year\": 1780, \"wheat\": 46.0, \"wages\": 21.0}, {\"year\": 1785, \"wheat\": 42.0, \"wages\": 23.0}, {\"year\": 1790, \"wheat\": 47.5, \"wages\": 25.5}, {\"year\": 1795, \"wheat\": 76.0, \"wages\": 27.5}, {\"year\": 1800, \"wheat\": 79.0, \"wages\": 28.5}, {\"year\": 1805, \"wheat\": 81.0, \"wages\": 29.5}, {\"year\": 1810, \"wheat\": 99.0, \"wages\": 30.0}, {\"year\": 1815, \"wheat\": 78.0, \"wages\": null}, {\"year\": 1820, \"wheat\": 54.0, \"wages\": null}]}}, {\"mode\": \"vega-lite\"});\n</script>",
      "text/plain": "alt.LayerChart(...)"
     },
     "execution_count": 76,
     "metadata": {},
     "output_type": "execute_result"
    }
   ],
   "source": [
    "\n",
    "from vega_datasets import data\n",
    "\n",
    "source = data.wheat()\n",
    "\n",
    "bars = alt.Chart(source).mark_bar().encode(\n",
    "    x='wheat:Q',\n",
    "    y=\"year:O\"\n",
    ")\n",
    "\n",
    "text = bars.mark_text(\n",
    "    align='left',\n",
    "    baseline='middle',\n",
    "    dx=3  # Nudges text to right so it doesn't appear on top of the bar\n",
    ").encode(\n",
    "    text='wheat:Q'\n",
    ")\n",
    "\n",
    "(bars + text).properties(height=900)"
   ]
  },
  {
   "cell_type": "code",
   "execution_count": 76,
   "metadata": {
    "pycharm": {
     "name": "#%%\n"
    }
   },
   "outputs": [],
   "source": []
  }
 ],
 "metadata": {
  "kernelspec": {
   "display_name": "Python 3 (ipykernel)",
   "language": "python",
   "name": "python3"
  },
  "language_info": {
   "codemirror_mode": {
    "name": "ipython",
    "version": 3
   },
   "file_extension": ".py",
   "mimetype": "text/x-python",
   "name": "python",
   "nbconvert_exporter": "python",
   "pygments_lexer": "ipython3",
   "version": "3.9.13"
  }
 },
 "nbformat": 4,
 "nbformat_minor": 1
}